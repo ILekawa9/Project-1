{
 "cells": [
  {
   "cell_type": "code",
   "execution_count": 69,
   "id": "bd369cb5",
   "metadata": {},
   "outputs": [],
   "source": [
    "import matplotlib.pyplot as plt\n",
    "import numpy as np\n",
    "import pandas as pd\n",
    "\n",
    "#need to add some statistical items\n",
    "#need to add graphs\n",
    "#need to pull in taxi 2015\n",
    "#need to pull in for hire data"
   ]
  },
  {
   "cell_type": "markdown",
   "id": "82f514f9",
   "metadata": {},
   "source": [
    "# Taxi Data"
   ]
  },
  {
   "cell_type": "code",
   "execution_count": 70,
   "id": "0f5db727",
   "metadata": {},
   "outputs": [],
   "source": [
    "taxi_dec_2019 = pd.read_csv(\"taxi_dec_2019.csv\")\n",
    "taxi_june_2019 = pd.read_csv(\"taxi_june_2019.csv\")"
   ]
  },
  {
   "cell_type": "code",
   "execution_count": 71,
   "id": "ab59b4e2",
   "metadata": {},
   "outputs": [],
   "source": [
    "taxi_dec_2019.tpep_pickup_datetime = pd.to_datetime(taxi_dec_2019.tpep_pickup_datetime)\n",
    "#june_2019.tpep_dropoff_datetime\t = pd.to_datetime(june_2019.tpep_dropoff_datetime)"
   ]
  },
  {
   "cell_type": "code",
   "execution_count": 72,
   "id": "070cad8b",
   "metadata": {},
   "outputs": [
    {
     "data": {
      "text/html": [
       "<div>\n",
       "<style scoped>\n",
       "    .dataframe tbody tr th:only-of-type {\n",
       "        vertical-align: middle;\n",
       "    }\n",
       "\n",
       "    .dataframe tbody tr th {\n",
       "        vertical-align: top;\n",
       "    }\n",
       "\n",
       "    .dataframe thead th {\n",
       "        text-align: right;\n",
       "    }\n",
       "</style>\n",
       "<table border=\"1\" class=\"dataframe\">\n",
       "  <thead>\n",
       "    <tr style=\"text-align: right;\">\n",
       "      <th></th>\n",
       "      <th>Unnamed: 0</th>\n",
       "      <th>tpep_pickup_datetime</th>\n",
       "      <th>tpep_dropoff_datetime</th>\n",
       "      <th>passenger_count</th>\n",
       "      <th>trip_distance</th>\n",
       "      <th>RatecodeID</th>\n",
       "      <th>PULocationID</th>\n",
       "      <th>DOLocationID</th>\n",
       "      <th>fare_amount</th>\n",
       "      <th>tip_amount</th>\n",
       "      <th>total_amount</th>\n",
       "      <th>pickup_date</th>\n",
       "      <th>pickup_time</th>\n",
       "      <th>dropoff_date</th>\n",
       "      <th>dropoff_time</th>\n",
       "    </tr>\n",
       "  </thead>\n",
       "  <tbody>\n",
       "    <tr>\n",
       "      <th>0</th>\n",
       "      <td>25</td>\n",
       "      <td>2019-12-01 00:10:13</td>\n",
       "      <td>2019-12-01 00:13:30</td>\n",
       "      <td>3.0</td>\n",
       "      <td>1.2</td>\n",
       "      <td>1.0</td>\n",
       "      <td>140</td>\n",
       "      <td>263</td>\n",
       "      <td>5.5</td>\n",
       "      <td>1.85</td>\n",
       "      <td>11.15</td>\n",
       "      <td>2019-12-01</td>\n",
       "      <td>00:10:13</td>\n",
       "      <td>2019-12-01</td>\n",
       "      <td>00:13:30</td>\n",
       "    </tr>\n",
       "    <tr>\n",
       "      <th>1</th>\n",
       "      <td>107</td>\n",
       "      <td>2019-12-01 00:08:57</td>\n",
       "      <td>2019-12-01 00:20:32</td>\n",
       "      <td>2.0</td>\n",
       "      <td>3.1</td>\n",
       "      <td>1.0</td>\n",
       "      <td>48</td>\n",
       "      <td>263</td>\n",
       "      <td>11.5</td>\n",
       "      <td>3.06</td>\n",
       "      <td>18.36</td>\n",
       "      <td>2019-12-01</td>\n",
       "      <td>00:08:57</td>\n",
       "      <td>2019-12-01</td>\n",
       "      <td>00:20:32</td>\n",
       "    </tr>\n",
       "  </tbody>\n",
       "</table>\n",
       "</div>"
      ],
      "text/plain": [
       "   Unnamed: 0 tpep_pickup_datetime tpep_dropoff_datetime  passenger_count  \\\n",
       "0          25  2019-12-01 00:10:13   2019-12-01 00:13:30              3.0   \n",
       "1         107  2019-12-01 00:08:57   2019-12-01 00:20:32              2.0   \n",
       "\n",
       "   trip_distance  RatecodeID  PULocationID  DOLocationID  fare_amount  \\\n",
       "0            1.2         1.0           140           263          5.5   \n",
       "1            3.1         1.0            48           263         11.5   \n",
       "\n",
       "   tip_amount  total_amount pickup_date pickup_time dropoff_date dropoff_time  \n",
       "0        1.85         11.15  2019-12-01    00:10:13   2019-12-01     00:13:30  \n",
       "1        3.06         18.36  2019-12-01    00:08:57   2019-12-01     00:20:32  "
      ]
     },
     "execution_count": 72,
     "metadata": {},
     "output_type": "execute_result"
    }
   ],
   "source": [
    "taxi_dec_2019.head(2)\n"
   ]
  },
  {
   "cell_type": "code",
   "execution_count": 73,
   "id": "b95f501e",
   "metadata": {},
   "outputs": [
    {
     "data": {
      "text/html": [
       "<div>\n",
       "<style scoped>\n",
       "    .dataframe tbody tr th:only-of-type {\n",
       "        vertical-align: middle;\n",
       "    }\n",
       "\n",
       "    .dataframe tbody tr th {\n",
       "        vertical-align: top;\n",
       "    }\n",
       "\n",
       "    .dataframe thead th {\n",
       "        text-align: right;\n",
       "    }\n",
       "</style>\n",
       "<table border=\"1\" class=\"dataframe\">\n",
       "  <thead>\n",
       "    <tr style=\"text-align: right;\">\n",
       "      <th></th>\n",
       "      <th>Unnamed: 0</th>\n",
       "      <th>tpep_pickup_datetime</th>\n",
       "      <th>tpep_dropoff_datetime</th>\n",
       "      <th>passenger_count</th>\n",
       "      <th>trip_distance</th>\n",
       "      <th>RatecodeID</th>\n",
       "      <th>PULocationID</th>\n",
       "      <th>DOLocationID</th>\n",
       "      <th>fare_amount</th>\n",
       "      <th>tip_amount</th>\n",
       "      <th>total_amount</th>\n",
       "      <th>pickup_date</th>\n",
       "      <th>pickup_time</th>\n",
       "      <th>dropoff_date</th>\n",
       "      <th>dropoff_time</th>\n",
       "    </tr>\n",
       "  </thead>\n",
       "  <tbody>\n",
       "    <tr>\n",
       "      <th>0</th>\n",
       "      <td>1</td>\n",
       "      <td>2019-06-01 00:06:31</td>\n",
       "      <td>2019-06-01 00:06:52</td>\n",
       "      <td>1</td>\n",
       "      <td>0.0</td>\n",
       "      <td>1</td>\n",
       "      <td>262</td>\n",
       "      <td>263</td>\n",
       "      <td>2.5</td>\n",
       "      <td>0.0</td>\n",
       "      <td>6.3</td>\n",
       "      <td>2019-06-01</td>\n",
       "      <td>00:06:31</td>\n",
       "      <td>2019-06-01</td>\n",
       "      <td>00:06:52</td>\n",
       "    </tr>\n",
       "    <tr>\n",
       "      <th>1</th>\n",
       "      <td>78</td>\n",
       "      <td>2019-06-01 00:37:38</td>\n",
       "      <td>2019-06-01 00:41:39</td>\n",
       "      <td>1</td>\n",
       "      <td>0.6</td>\n",
       "      <td>1</td>\n",
       "      <td>237</td>\n",
       "      <td>263</td>\n",
       "      <td>5.0</td>\n",
       "      <td>0.0</td>\n",
       "      <td>8.8</td>\n",
       "      <td>2019-06-01</td>\n",
       "      <td>00:37:38</td>\n",
       "      <td>2019-06-01</td>\n",
       "      <td>00:41:39</td>\n",
       "    </tr>\n",
       "  </tbody>\n",
       "</table>\n",
       "</div>"
      ],
      "text/plain": [
       "   Unnamed: 0 tpep_pickup_datetime tpep_dropoff_datetime  passenger_count  \\\n",
       "0           1  2019-06-01 00:06:31   2019-06-01 00:06:52                1   \n",
       "1          78  2019-06-01 00:37:38   2019-06-01 00:41:39                1   \n",
       "\n",
       "   trip_distance  RatecodeID  PULocationID  DOLocationID  fare_amount  \\\n",
       "0            0.0           1           262           263          2.5   \n",
       "1            0.6           1           237           263          5.0   \n",
       "\n",
       "   tip_amount  total_amount pickup_date pickup_time dropoff_date dropoff_time  \n",
       "0         0.0           6.3  2019-06-01    00:06:31   2019-06-01     00:06:52  \n",
       "1         0.0           8.8  2019-06-01    00:37:38   2019-06-01     00:41:39  "
      ]
     },
     "execution_count": 73,
     "metadata": {},
     "output_type": "execute_result"
    }
   ],
   "source": [
    "taxi_june_2019.head(2)"
   ]
  },
  {
   "cell_type": "code",
   "execution_count": 74,
   "id": "c9c9a21b",
   "metadata": {},
   "outputs": [
    {
     "data": {
      "text/plain": [
       "Timedelta('0 days 00:14:15.436648947')"
      ]
     },
     "execution_count": 74,
     "metadata": {},
     "output_type": "execute_result"
    }
   ],
   "source": [
    "taxi_june_2019.tpep_pickup_datetime = pd.to_datetime(taxi_june_2019.tpep_pickup_datetime)\n",
    "taxi_june_2019.tpep_dropoff_datetime\t = pd.to_datetime(taxi_june_2019.tpep_dropoff_datetime)\n",
    "\n",
    "taxi_june_2019['ride_duration'] = taxi_june_2019.tpep_dropoff_datetime - taxi_june_2019.tpep_pickup_datetime\n",
    "taxi_june_2019.ride_duration.mean()"
   ]
  },
  {
   "cell_type": "code",
   "execution_count": 76,
   "id": "7868d0df",
   "metadata": {},
   "outputs": [
    {
     "data": {
      "text/plain": [
       "Timedelta('0 days 00:13:49.081832238')"
      ]
     },
     "execution_count": 76,
     "metadata": {},
     "output_type": "execute_result"
    }
   ],
   "source": [
    "taxi_dec_2019.tpep_pickup_datetime = pd.to_datetime(taxi_dec_2019.tpep_pickup_datetime)\n",
    "taxi_dec_2019.tpep_dropoff_datetime\t = pd.to_datetime(taxi_dec_2019.tpep_dropoff_datetime)\n",
    "\n",
    "taxi_dec_2019['ride_duration'] = taxi_dec_2019.tpep_dropoff_datetime - taxi_dec_2019.tpep_pickup_datetime\n",
    "taxi_dec_2019.ride_duration.mean()"
   ]
  },
  {
   "cell_type": "code",
   "execution_count": 56,
   "id": "429c2478",
   "metadata": {},
   "outputs": [],
   "source": [
    "taxi_2019 = pd.concat([dec, june],axis=0)"
   ]
  },
  {
   "cell_type": "code",
   "execution_count": 57,
   "id": "331bfeba",
   "metadata": {},
   "outputs": [
    {
     "data": {
      "text/html": [
       "<div>\n",
       "<style scoped>\n",
       "    .dataframe tbody tr th:only-of-type {\n",
       "        vertical-align: middle;\n",
       "    }\n",
       "\n",
       "    .dataframe tbody tr th {\n",
       "        vertical-align: top;\n",
       "    }\n",
       "\n",
       "    .dataframe thead th {\n",
       "        text-align: right;\n",
       "    }\n",
       "</style>\n",
       "<table border=\"1\" class=\"dataframe\">\n",
       "  <thead>\n",
       "    <tr style=\"text-align: right;\">\n",
       "      <th></th>\n",
       "      <th>Unnamed: 0</th>\n",
       "      <th>tpep_pickup_datetime</th>\n",
       "      <th>tpep_dropoff_datetime</th>\n",
       "      <th>passenger_count</th>\n",
       "      <th>trip_distance</th>\n",
       "      <th>RatecodeID</th>\n",
       "      <th>PULocationID</th>\n",
       "      <th>DOLocationID</th>\n",
       "      <th>fare_amount</th>\n",
       "      <th>tip_amount</th>\n",
       "      <th>total_amount</th>\n",
       "      <th>pickup_date</th>\n",
       "      <th>pickup_time</th>\n",
       "      <th>dropoff_date</th>\n",
       "      <th>dropoff_time</th>\n",
       "    </tr>\n",
       "  </thead>\n",
       "  <tbody>\n",
       "    <tr>\n",
       "      <th>0</th>\n",
       "      <td>25</td>\n",
       "      <td>2019-12-01 00:10:13</td>\n",
       "      <td>2019-12-01 00:13:30</td>\n",
       "      <td>3.0</td>\n",
       "      <td>1.2</td>\n",
       "      <td>1.0</td>\n",
       "      <td>140</td>\n",
       "      <td>263</td>\n",
       "      <td>5.5</td>\n",
       "      <td>1.85</td>\n",
       "      <td>11.15</td>\n",
       "      <td>2019-12-01</td>\n",
       "      <td>00:10:13</td>\n",
       "      <td>2019-12-01</td>\n",
       "      <td>00:13:30</td>\n",
       "    </tr>\n",
       "    <tr>\n",
       "      <th>1</th>\n",
       "      <td>107</td>\n",
       "      <td>2019-12-01 00:08:57</td>\n",
       "      <td>2019-12-01 00:20:32</td>\n",
       "      <td>2.0</td>\n",
       "      <td>3.1</td>\n",
       "      <td>1.0</td>\n",
       "      <td>48</td>\n",
       "      <td>263</td>\n",
       "      <td>11.5</td>\n",
       "      <td>3.06</td>\n",
       "      <td>18.36</td>\n",
       "      <td>2019-12-01</td>\n",
       "      <td>00:08:57</td>\n",
       "      <td>2019-12-01</td>\n",
       "      <td>00:20:32</td>\n",
       "    </tr>\n",
       "  </tbody>\n",
       "</table>\n",
       "</div>"
      ],
      "text/plain": [
       "   Unnamed: 0 tpep_pickup_datetime tpep_dropoff_datetime  passenger_count  \\\n",
       "0          25  2019-12-01 00:10:13   2019-12-01 00:13:30              3.0   \n",
       "1         107  2019-12-01 00:08:57   2019-12-01 00:20:32              2.0   \n",
       "\n",
       "   trip_distance  RatecodeID  PULocationID  DOLocationID  fare_amount  \\\n",
       "0            1.2         1.0           140           263          5.5   \n",
       "1            3.1         1.0            48           263         11.5   \n",
       "\n",
       "   tip_amount  total_amount pickup_date pickup_time dropoff_date dropoff_time  \n",
       "0        1.85         11.15  2019-12-01    00:10:13   2019-12-01     00:13:30  \n",
       "1        3.06         18.36  2019-12-01    00:08:57   2019-12-01     00:20:32  "
      ]
     },
     "execution_count": 57,
     "metadata": {},
     "output_type": "execute_result"
    }
   ],
   "source": [
    "taxi_2019.head(2)"
   ]
  },
  {
   "cell_type": "code",
   "execution_count": 58,
   "id": "493ba41e",
   "metadata": {},
   "outputs": [],
   "source": [
    "taxi_2019.tpep_pickup_datetime = pd.to_datetime(taxi_2019.tpep_pickup_datetime)\n",
    "taxi_2019.tpep_dropoff_datetime\t = pd.to_datetime(taxi_2019.tpep_dropoff_datetime)\n"
   ]
  },
  {
   "cell_type": "code",
   "execution_count": 59,
   "id": "fc3e12c5",
   "metadata": {},
   "outputs": [],
   "source": [
    "# taxi['pickup_time']= taxi.tpep_pickup_datetime.dt.time\n",
    "# taxi['dropoff_time']= taxi.tpep_dropoff_datetime.dt.time"
   ]
  },
  {
   "cell_type": "code",
   "execution_count": 60,
   "id": "65ca0048",
   "metadata": {},
   "outputs": [
    {
     "data": {
      "text/plain": [
       "Timedelta('0 days 00:14:01.951711931')"
      ]
     },
     "execution_count": 60,
     "metadata": {},
     "output_type": "execute_result"
    }
   ],
   "source": [
    "taxi_2019['ride_duration'] = taxi_2019.tpep_dropoff_datetime - taxi_2019.tpep_pickup_datetime\n",
    "taxi_2019.ride_duration.mean()"
   ]
  },
  {
   "cell_type": "code",
   "execution_count": 61,
   "id": "a1ef10e3",
   "metadata": {},
   "outputs": [
    {
     "data": {
      "text/plain": [
       "0         2019-12-01\n",
       "1         2019-12-01\n",
       "2         2019-12-01\n",
       "3         2019-12-01\n",
       "4         2019-12-01\n",
       "             ...    \n",
       "239500    2019-06-30\n",
       "239501    2019-06-30\n",
       "239502    2019-06-30\n",
       "239503    2019-06-30\n",
       "239504    2019-06-30\n",
       "Name: tpep_pickup_datetime, Length: 490443, dtype: object"
      ]
     },
     "execution_count": 61,
     "metadata": {},
     "output_type": "execute_result"
    }
   ],
   "source": [
    "taxi_2019.tpep_pickup_datetime.dt.date"
   ]
  },
  {
   "cell_type": "code",
   "execution_count": null,
   "id": "f8eb09aa",
   "metadata": {},
   "outputs": [],
   "source": [
    "#use bar chart to compare average lengh of ride\n",
    "#pull mode "
   ]
  },
  {
   "cell_type": "markdown",
   "id": "a613a88a",
   "metadata": {},
   "source": [
    "# FHV Data"
   ]
  },
  {
   "cell_type": "code",
   "execution_count": 81,
   "id": "f8e35cbb",
   "metadata": {},
   "outputs": [
    {
     "data": {
      "text/html": [
       "<div>\n",
       "<style scoped>\n",
       "    .dataframe tbody tr th:only-of-type {\n",
       "        vertical-align: middle;\n",
       "    }\n",
       "\n",
       "    .dataframe tbody tr th {\n",
       "        vertical-align: top;\n",
       "    }\n",
       "\n",
       "    .dataframe thead th {\n",
       "        text-align: right;\n",
       "    }\n",
       "</style>\n",
       "<table border=\"1\" class=\"dataframe\">\n",
       "  <thead>\n",
       "    <tr style=\"text-align: right;\">\n",
       "      <th></th>\n",
       "      <th>Unnamed: 0</th>\n",
       "      <th>hvfhs_license_num</th>\n",
       "      <th>dispatching_base_num</th>\n",
       "      <th>pickup_datetime</th>\n",
       "      <th>dropoff_datetime</th>\n",
       "      <th>PULocationID</th>\n",
       "      <th>DOLocationID</th>\n",
       "      <th>pickup_date</th>\n",
       "      <th>pickup_time</th>\n",
       "      <th>dropoff_date</th>\n",
       "      <th>dropoff_time</th>\n",
       "    </tr>\n",
       "  </thead>\n",
       "  <tbody>\n",
       "    <tr>\n",
       "      <th>0</th>\n",
       "      <td>90</td>\n",
       "      <td>HV0004</td>\n",
       "      <td>B02800</td>\n",
       "      <td>2019-06-01 00:09:57</td>\n",
       "      <td>2019-06-01 00:16:41</td>\n",
       "      <td>237</td>\n",
       "      <td>263</td>\n",
       "      <td>2019-06-01</td>\n",
       "      <td>00:09:57</td>\n",
       "      <td>2019-06-01</td>\n",
       "      <td>00:16:41</td>\n",
       "    </tr>\n",
       "    <tr>\n",
       "      <th>1</th>\n",
       "      <td>143</td>\n",
       "      <td>HV0003</td>\n",
       "      <td>B02869</td>\n",
       "      <td>2019-06-01 00:20:37</td>\n",
       "      <td>2019-06-01 00:37:38</td>\n",
       "      <td>45</td>\n",
       "      <td>263</td>\n",
       "      <td>2019-06-01</td>\n",
       "      <td>00:20:37</td>\n",
       "      <td>2019-06-01</td>\n",
       "      <td>00:37:38</td>\n",
       "    </tr>\n",
       "  </tbody>\n",
       "</table>\n",
       "</div>"
      ],
      "text/plain": [
       "   Unnamed: 0 hvfhs_license_num dispatching_base_num      pickup_datetime  \\\n",
       "0          90            HV0004               B02800  2019-06-01 00:09:57   \n",
       "1         143            HV0003               B02869  2019-06-01 00:20:37   \n",
       "\n",
       "      dropoff_datetime  PULocationID  DOLocationID pickup_date pickup_time  \\\n",
       "0  2019-06-01 00:16:41           237           263  2019-06-01    00:09:57   \n",
       "1  2019-06-01 00:37:38            45           263  2019-06-01    00:20:37   \n",
       "\n",
       "  dropoff_date dropoff_time  \n",
       "0   2019-06-01     00:16:41  \n",
       "1   2019-06-01     00:37:38  "
      ]
     },
     "execution_count": 81,
     "metadata": {},
     "output_type": "execute_result"
    }
   ],
   "source": [
    "#2019 FHV data\n",
    "fhv_dec_2019 = pd.read_csv(\"HighVol_dec_2019.csv\")\n",
    "fhv_june_2019 = pd.read_csv(\"HighVol_june_2019.csv\")\n",
    "fhv_june_2019.head(2)\n"
   ]
  },
  {
   "cell_type": "code",
   "execution_count": 83,
   "id": "b385bac5",
   "metadata": {},
   "outputs": [
    {
     "data": {
      "text/plain": [
       "Timedelta('0 days 00:19:32.722112147')"
      ]
     },
     "execution_count": 83,
     "metadata": {},
     "output_type": "execute_result"
    }
   ],
   "source": [
    "fhv_june_2019.pickup_datetime = pd.to_datetime(fhv_june_2019.pickup_datetime)\n",
    "fhv_june_2019.dropoff_datetime\t = pd.to_datetime(fhv_june_2019.dropoff_datetime)\n",
    "\n",
    "fhv_june_2019['ride_duration'] = fhv_june_2019.dropoff_datetime - fhv_june_2019.pickup_datetime\n",
    "fhv_june_2019.ride_duration.mean()"
   ]
  },
  {
   "cell_type": "code",
   "execution_count": 84,
   "id": "f98a3358",
   "metadata": {},
   "outputs": [
    {
     "data": {
      "text/plain": [
       "Timedelta('0 days 00:19:09.215071139')"
      ]
     },
     "execution_count": 84,
     "metadata": {},
     "output_type": "execute_result"
    }
   ],
   "source": [
    "fhv_dec_2019.pickup_datetime = pd.to_datetime(fhv_dec_2019.pickup_datetime)\n",
    "fhv_dec_2019.dropoff_datetime\t = pd.to_datetime(fhv_dec_2019.dropoff_datetime)\n",
    "\n",
    "fhv_dec_2019['ride_duration'] = fhv_dec_2019.dropoff_datetime - fhv_dec_2019.pickup_datetime\n",
    "fhv_dec_2019.ride_duration.mean()"
   ]
  },
  {
   "cell_type": "code",
   "execution_count": 92,
   "id": "c9bbad32",
   "metadata": {},
   "outputs": [
    {
     "data": {
      "text/html": [
       "<div>\n",
       "<style scoped>\n",
       "    .dataframe tbody tr th:only-of-type {\n",
       "        vertical-align: middle;\n",
       "    }\n",
       "\n",
       "    .dataframe tbody tr th {\n",
       "        vertical-align: top;\n",
       "    }\n",
       "\n",
       "    .dataframe thead th {\n",
       "        text-align: right;\n",
       "    }\n",
       "</style>\n",
       "<table border=\"1\" class=\"dataframe\">\n",
       "  <thead>\n",
       "    <tr style=\"text-align: right;\">\n",
       "      <th></th>\n",
       "      <th>Unnamed: 0</th>\n",
       "      <th>Dispatching_base_num</th>\n",
       "      <th>Pickup_date</th>\n",
       "      <th>locationID</th>\n",
       "      <th>pickup_date</th>\n",
       "      <th>pickup_time</th>\n",
       "    </tr>\n",
       "  </thead>\n",
       "  <tbody>\n",
       "    <tr>\n",
       "      <th>0</th>\n",
       "      <td>61562</td>\n",
       "      <td>B00221</td>\n",
       "      <td>2015-06-03 14:27:00</td>\n",
       "      <td>263.0</td>\n",
       "      <td>2015-06-03</td>\n",
       "      <td>14:27:00</td>\n",
       "    </tr>\n",
       "    <tr>\n",
       "      <th>1</th>\n",
       "      <td>61839</td>\n",
       "      <td>B00221</td>\n",
       "      <td>2015-06-04 08:53:00</td>\n",
       "      <td>263.0</td>\n",
       "      <td>2015-06-04</td>\n",
       "      <td>08:53:00</td>\n",
       "    </tr>\n",
       "  </tbody>\n",
       "</table>\n",
       "</div>"
      ],
      "text/plain": [
       "   Unnamed: 0 Dispatching_base_num          Pickup_date  locationID  \\\n",
       "0       61562               B00221  2015-06-03 14:27:00       263.0   \n",
       "1       61839               B00221  2015-06-04 08:53:00       263.0   \n",
       "\n",
       "  pickup_date pickup_time  \n",
       "0  2015-06-03    14:27:00  \n",
       "1  2015-06-04    08:53:00  "
      ]
     },
     "execution_count": 92,
     "metadata": {},
     "output_type": "execute_result"
    }
   ],
   "source": [
    "#2019 FHV data\n",
    "fhv_dec_2015 = pd.read_csv(\"FHV_dec_2015.csv\")\n",
    "fhv_june_2015 = pd.read_csv(\"FHV_june_2015.csv\")\n",
    "fhv_june_2015.head(2)"
   ]
  },
  {
   "cell_type": "code",
   "execution_count": null,
   "id": "cdef772b",
   "metadata": {},
   "outputs": [],
   "source": [
    "#BarChart\n",
    "duration=[taxi_june_2019,taxi_dec_2019]\n",
    "\n",
    "x = ['taxi_dec_2019', 'fhv_dec_2019']\n",
    "y = [5, 10, 15, 20, 25]\n",
    "\n",
    "x_pos = [i for i, _ in enumerate(x)]\n",
    "\n",
    "plt.bar(x_pos, duration, color='green')\n",
    "plt.xlabel(\"Energy Source\")\n",
    "plt.ylabel(\"Duration (Minutes)\")\n",
    "plt.title(\"Energy output from various fuel sources\")\n",
    "\n",
    "plt.xticks(x_pos, x)\n",
    "\n",
    "plt.show()"
   ]
  },
  {
   "cell_type": "code",
   "execution_count": null,
   "id": "060a2948",
   "metadata": {},
   "outputs": [],
   "source": []
  },
  {
   "cell_type": "code",
   "execution_count": null,
   "id": "5e0732f4",
   "metadata": {},
   "outputs": [],
   "source": []
  }
 ],
 "metadata": {
  "kernelspec": {
   "display_name": "Python 3 (ipykernel)",
   "language": "python",
   "name": "python3"
  },
  "language_info": {
   "codemirror_mode": {
    "name": "ipython",
    "version": 3
   },
   "file_extension": ".py",
   "mimetype": "text/x-python",
   "name": "python",
   "nbconvert_exporter": "python",
   "pygments_lexer": "ipython3",
   "version": "3.9.7"
  }
 },
 "nbformat": 4,
 "nbformat_minor": 5
}
