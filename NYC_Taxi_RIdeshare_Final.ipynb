{
 "cells": [
  {
   "cell_type": "code",
   "execution_count": 17,
   "id": "117bb88c",
   "metadata": {},
   "outputs": [
    {
     "data": {
      "text/html": [
       "<div>\n",
       "<style scoped>\n",
       "    .dataframe tbody tr th:only-of-type {\n",
       "        vertical-align: middle;\n",
       "    }\n",
       "\n",
       "    .dataframe tbody tr th {\n",
       "        vertical-align: top;\n",
       "    }\n",
       "\n",
       "    .dataframe thead th {\n",
       "        text-align: right;\n",
       "    }\n",
       "</style>\n",
       "<table border=\"1\" class=\"dataframe\">\n",
       "  <thead>\n",
       "    <tr style=\"text-align: right;\">\n",
       "      <th></th>\n",
       "      <th>LocationID</th>\n",
       "      <th>Borough</th>\n",
       "      <th>Zone</th>\n",
       "      <th>service_zone</th>\n",
       "    </tr>\n",
       "  </thead>\n",
       "  <tbody>\n",
       "    <tr>\n",
       "      <th>0</th>\n",
       "      <td>4</td>\n",
       "      <td>Manhattan</td>\n",
       "      <td>Alphabet City</td>\n",
       "      <td>Yellow Zone</td>\n",
       "    </tr>\n",
       "    <tr>\n",
       "      <th>1</th>\n",
       "      <td>12</td>\n",
       "      <td>Manhattan</td>\n",
       "      <td>Battery Park</td>\n",
       "      <td>Yellow Zone</td>\n",
       "    </tr>\n",
       "    <tr>\n",
       "      <th>2</th>\n",
       "      <td>13</td>\n",
       "      <td>Manhattan</td>\n",
       "      <td>Battery Park City</td>\n",
       "      <td>Yellow Zone</td>\n",
       "    </tr>\n",
       "    <tr>\n",
       "      <th>3</th>\n",
       "      <td>24</td>\n",
       "      <td>Manhattan</td>\n",
       "      <td>Bloomingdale</td>\n",
       "      <td>Yellow Zone</td>\n",
       "    </tr>\n",
       "    <tr>\n",
       "      <th>4</th>\n",
       "      <td>41</td>\n",
       "      <td>Manhattan</td>\n",
       "      <td>Central Harlem</td>\n",
       "      <td>Boro Zone</td>\n",
       "    </tr>\n",
       "  </tbody>\n",
       "</table>\n",
       "</div>"
      ],
      "text/plain": [
       "   LocationID    Borough               Zone service_zone\n",
       "0           4  Manhattan      Alphabet City  Yellow Zone\n",
       "1          12  Manhattan       Battery Park  Yellow Zone\n",
       "2          13  Manhattan  Battery Park City  Yellow Zone\n",
       "3          24  Manhattan       Bloomingdale  Yellow Zone\n",
       "4          41  Manhattan     Central Harlem    Boro Zone"
      ]
     },
     "execution_count": 17,
     "metadata": {},
     "output_type": "execute_result"
    }
   ],
   "source": [
    "#Import dependencies\n",
    "import matplotlib.pyplot as plt\n",
    "import pandas as pd\n",
    "import numpy as np\n",
    "import requests\n",
    "import time\n",
    "import scipy.stats as stats\n",
    "from scipy.stats import linregress\n",
    "import gmaps\n",
    "\n",
    "#Import API keys\n",
    "from config import (api_key, gkey)\n",
    "\n",
    "\n",
    "# Configure gmaps\n",
    "gmaps.configure(api_key=gkey)\n",
    "\n",
    "#Import Manhattan zones csv\n",
    "manhattan_zones = pd.read_csv(\"../../../Desktop/NYC Taxi & FHV Data/manhattan_zones.csv\")\n",
    "manhattan_zones.head()"
   ]
  },
  {
   "cell_type": "code",
   "execution_count": 4,
   "id": "3177bc80",
   "metadata": {},
   "outputs": [],
   "source": [
    "#Import Taxi June 2015 data\n",
    "june_2015_taxi = pd.read_csv(\"../../../Desktop/clean_csvs/taxi_june_2015.csv\")\n",
    "\n",
    "#Import FHV June 2015 data\n",
    "june_2015_fhv = pd.read_csv(\"../../../Desktop/clean_csvs/FHV_june_2015.csv\")\n",
    "\n",
    "#Import Taxi Dec 2015 data\n",
    "dec_2015_taxi = pd.read_csv(\"../../../Desktop/clean_csvs/taxi_dec_2015.csv\")\n",
    "\n",
    "#Import FHV Dec 2015 data\n",
    "dec_2015_fhv = pd.read_csv(\"../../../Desktop/clean_csvs/FHV_dec_2015.csv\")\n",
    "\n",
    "#Import Taxi June 2019 csv data\n",
    "june_2019_taxi = pd.read_csv(\"../../../Desktop/clean_csvs/taxi_june_2019.csv\")\n",
    "\n",
    "#Import FHV June 2019 csv data\n",
    "june_2019_highvol = pd.read_csv(\"../../../Desktop/clean_csvs/HighVol_june_2019.csv\")\n",
    "\n",
    "#Import Taxi Dec 2019 data\n",
    "dec_2019_taxi = pd.read_csv(\"../../../Desktop/clean_csvs/taxi_dec_2019.csv\")\n",
    "\n",
    "#Import FHV Dec 2019 csv data\n",
    "dec_2019_highvol = pd.read_csv(\"../../../Desktop/clean_csvs/HighVol_dec_2019.csv\")"
   ]
  },
  {
   "cell_type": "markdown",
   "id": "408b9be8",
   "metadata": {},
   "source": [
    "# Percent of rides"
   ]
  },
  {
   "cell_type": "code",
   "execution_count": 5,
   "id": "65b8f2b0",
   "metadata": {},
   "outputs": [
    {
     "data": {
      "text/html": [
       "<div>\n",
       "<style scoped>\n",
       "    .dataframe tbody tr th:only-of-type {\n",
       "        vertical-align: middle;\n",
       "    }\n",
       "\n",
       "    .dataframe tbody tr th {\n",
       "        vertical-align: top;\n",
       "    }\n",
       "\n",
       "    .dataframe thead th {\n",
       "        text-align: right;\n",
       "    }\n",
       "</style>\n",
       "<table border=\"1\" class=\"dataframe\">\n",
       "  <thead>\n",
       "    <tr style=\"text-align: right;\">\n",
       "      <th></th>\n",
       "      <th>Pickup Date</th>\n",
       "      <th>Number of Rides June 2015</th>\n",
       "    </tr>\n",
       "  </thead>\n",
       "  <tbody>\n",
       "    <tr>\n",
       "      <th>21</th>\n",
       "      <td>06-01</td>\n",
       "      <td>34676</td>\n",
       "    </tr>\n",
       "    <tr>\n",
       "      <th>18</th>\n",
       "      <td>06-02</td>\n",
       "      <td>36050</td>\n",
       "    </tr>\n",
       "    <tr>\n",
       "      <th>15</th>\n",
       "      <td>06-03</td>\n",
       "      <td>36394</td>\n",
       "    </tr>\n",
       "    <tr>\n",
       "      <th>10</th>\n",
       "      <td>06-04</td>\n",
       "      <td>39663</td>\n",
       "    </tr>\n",
       "    <tr>\n",
       "      <th>4</th>\n",
       "      <td>06-05</td>\n",
       "      <td>43779</td>\n",
       "    </tr>\n",
       "  </tbody>\n",
       "</table>\n",
       "</div>"
      ],
      "text/plain": [
       "   Pickup Date  Number of Rides June 2015\n",
       "21       06-01                      34676\n",
       "18       06-02                      36050\n",
       "15       06-03                      36394\n",
       "10       06-04                      39663\n",
       "4        06-05                      43779"
      ]
     },
     "execution_count": 5,
     "metadata": {},
     "output_type": "execute_result"
    }
   ],
   "source": [
    "#Taxi data June 2015\n",
    "#count number of rides by date\n",
    "ride_numbers_june_2015 = june_2015_taxi[\"tpep_pickup_datetime\"].value_counts()\n",
    "\n",
    "#Format data frame and sort\n",
    "ride_numbers_june_2015_df = pd.DataFrame(ride_numbers_june_2015).reset_index().rename(columns = {\"index\": \"Pickup Date\", \"tpep_pickup_datetime\": \"Number of Rides June 2015\"})\n",
    "ride_numbers_june_2015_df[\"Pickup Date\"] = pd.to_datetime(ride_numbers_june_2015_df[\"Pickup Date\"]).dt.strftime('%m-%d')\n",
    "sorted_ride_numbers_june_2015 = ride_numbers_june_2015_df.sort_values(by = \"Pickup Date\")\n",
    "\n",
    "#Display data frame\n",
    "sorted_ride_numbers_june_2015.head()"
   ]
  },
  {
   "cell_type": "code",
   "execution_count": 6,
   "id": "355ec3c5",
   "metadata": {},
   "outputs": [
    {
     "data": {
      "text/html": [
       "<div>\n",
       "<style scoped>\n",
       "    .dataframe tbody tr th:only-of-type {\n",
       "        vertical-align: middle;\n",
       "    }\n",
       "\n",
       "    .dataframe tbody tr th {\n",
       "        vertical-align: top;\n",
       "    }\n",
       "\n",
       "    .dataframe thead th {\n",
       "        text-align: right;\n",
       "    }\n",
       "</style>\n",
       "<table border=\"1\" class=\"dataframe\">\n",
       "  <thead>\n",
       "    <tr style=\"text-align: right;\">\n",
       "      <th></th>\n",
       "      <th>Pickup Date</th>\n",
       "      <th>Number of Rides June 2019</th>\n",
       "    </tr>\n",
       "  </thead>\n",
       "  <tbody>\n",
       "    <tr>\n",
       "      <th>0</th>\n",
       "      <td>06-01</td>\n",
       "      <td>9742</td>\n",
       "    </tr>\n",
       "    <tr>\n",
       "      <th>15</th>\n",
       "      <td>06-02</td>\n",
       "      <td>8084</td>\n",
       "    </tr>\n",
       "    <tr>\n",
       "      <th>21</th>\n",
       "      <td>06-03</td>\n",
       "      <td>7537</td>\n",
       "    </tr>\n",
       "    <tr>\n",
       "      <th>20</th>\n",
       "      <td>06-04</td>\n",
       "      <td>7570</td>\n",
       "    </tr>\n",
       "    <tr>\n",
       "      <th>5</th>\n",
       "      <td>06-05</td>\n",
       "      <td>8650</td>\n",
       "    </tr>\n",
       "  </tbody>\n",
       "</table>\n",
       "</div>"
      ],
      "text/plain": [
       "   Pickup Date  Number of Rides June 2019\n",
       "0        06-01                       9742\n",
       "15       06-02                       8084\n",
       "21       06-03                       7537\n",
       "20       06-04                       7570\n",
       "5        06-05                       8650"
      ]
     },
     "execution_count": 6,
     "metadata": {},
     "output_type": "execute_result"
    }
   ],
   "source": [
    "#Taxi data June 2019\n",
    "#Count number of rides by date for June 2019 taxi data\n",
    "ride_numbers_june_2019 = june_2019_taxi[\"pickup_date\"].value_counts()\n",
    "\n",
    "#Format data frame and sort\n",
    "ride_numbers_june_2019_df = pd.DataFrame(ride_numbers_june_2019).reset_index().rename(columns = {\"index\": \"Pickup Date\", \"pickup_date\": \"Number of Rides June 2019\"})\n",
    "ride_numbers_june_2019_df[\"Pickup Date\"] = pd.to_datetime(ride_numbers_june_2019_df[\"Pickup Date\"]).dt.strftime('%m-%d')\n",
    "sorted_ride_numbers_june_2019 = ride_numbers_june_2019_df.sort_values(by = \"Pickup Date\")\n",
    "\n",
    "#Display data frame\n",
    "sorted_ride_numbers_june_2019.head()"
   ]
  },
  {
   "cell_type": "code",
   "execution_count": 7,
   "id": "f9d9213a",
   "metadata": {},
   "outputs": [
    {
     "data": {
      "text/html": [
       "<div>\n",
       "<style scoped>\n",
       "    .dataframe tbody tr th:only-of-type {\n",
       "        vertical-align: middle;\n",
       "    }\n",
       "\n",
       "    .dataframe tbody tr th {\n",
       "        vertical-align: top;\n",
       "    }\n",
       "\n",
       "    .dataframe thead th {\n",
       "        text-align: right;\n",
       "    }\n",
       "</style>\n",
       "<table border=\"1\" class=\"dataframe\">\n",
       "  <thead>\n",
       "    <tr style=\"text-align: right;\">\n",
       "      <th></th>\n",
       "      <th>Pickup Date</th>\n",
       "      <th>Number of FHV Rides 2015</th>\n",
       "    </tr>\n",
       "  </thead>\n",
       "  <tbody>\n",
       "    <tr>\n",
       "      <th>5</th>\n",
       "      <td>06-01</td>\n",
       "      <td>1362</td>\n",
       "    </tr>\n",
       "    <tr>\n",
       "      <th>6</th>\n",
       "      <td>06-02</td>\n",
       "      <td>1341</td>\n",
       "    </tr>\n",
       "    <tr>\n",
       "      <th>17</th>\n",
       "      <td>06-03</td>\n",
       "      <td>1177</td>\n",
       "    </tr>\n",
       "    <tr>\n",
       "      <th>11</th>\n",
       "      <td>06-04</td>\n",
       "      <td>1276</td>\n",
       "    </tr>\n",
       "    <tr>\n",
       "      <th>0</th>\n",
       "      <td>06-05</td>\n",
       "      <td>1475</td>\n",
       "    </tr>\n",
       "  </tbody>\n",
       "</table>\n",
       "</div>"
      ],
      "text/plain": [
       "   Pickup Date  Number of FHV Rides 2015\n",
       "5        06-01                      1362\n",
       "6        06-02                      1341\n",
       "17       06-03                      1177\n",
       "11       06-04                      1276\n",
       "0        06-05                      1475"
      ]
     },
     "execution_count": 7,
     "metadata": {},
     "output_type": "execute_result"
    }
   ],
   "source": [
    "#FHV data June 2015\n",
    "#Count number of rides by date for June 2015 FHV data\n",
    "ride_numbers_fhv_june_2015 = june_2015_fhv[\"pickup_date\"].value_counts()\n",
    "\n",
    "#Format data frame and sort\n",
    "ride_numbers_fhv_june_2015 = pd.DataFrame(ride_numbers_fhv_june_2015).reset_index().rename(columns = {\"index\": \"Pickup Date\", \"pickup_date\": \"Number of FHV Rides 2015\"})\n",
    "ride_numbers_fhv_june_2015[\"Pickup Date\"] = pd.to_datetime(ride_numbers_fhv_june_2015[\"Pickup Date\"]).dt.strftime('%m-%d')\n",
    "sorted_ride_numbers_fhv_2015 = ride_numbers_fhv_june_2015.sort_values([\"Pickup Date\"], ascending = True)\n",
    "\n",
    "#Display data frame\n",
    "sorted_ride_numbers_fhv_2015.head()"
   ]
  },
  {
   "cell_type": "code",
<<<<<<< HEAD
   "execution_count": 8,
=======
   "execution_count": 124,
>>>>>>> parent of e497473 (Update NYC_Taxi_RIdeshare_Final.ipynb)
   "id": "b3355303",
   "metadata": {},
   "outputs": [
    {
     "data": {
      "text/html": [
       "<div>\n",
       "<style scoped>\n",
       "    .dataframe tbody tr th:only-of-type {\n",
       "        vertical-align: middle;\n",
       "    }\n",
       "\n",
       "    .dataframe tbody tr th {\n",
       "        vertical-align: top;\n",
       "    }\n",
       "\n",
       "    .dataframe thead th {\n",
       "        text-align: right;\n",
       "    }\n",
       "</style>\n",
       "<table border=\"1\" class=\"dataframe\">\n",
       "  <thead>\n",
       "    <tr style=\"text-align: right;\">\n",
       "      <th></th>\n",
       "      <th>Pickup Date</th>\n",
       "      <th>pickup_datetime</th>\n",
       "    </tr>\n",
       "  </thead>\n",
       "  <tbody>\n",
       "    <tr>\n",
       "      <th>0</th>\n",
       "      <td>06-01</td>\n",
       "      <td>10622</td>\n",
       "    </tr>\n",
       "    <tr>\n",
       "      <th>3</th>\n",
       "      <td>06-02</td>\n",
       "      <td>9432</td>\n",
       "    </tr>\n",
       "    <tr>\n",
       "      <th>27</th>\n",
       "      <td>06-03</td>\n",
       "      <td>7088</td>\n",
       "    </tr>\n",
       "    <tr>\n",
       "      <th>26</th>\n",
       "      <td>06-04</td>\n",
       "      <td>7378</td>\n",
       "    </tr>\n",
       "    <tr>\n",
       "      <th>17</th>\n",
       "      <td>06-05</td>\n",
       "      <td>8125</td>\n",
       "    </tr>\n",
       "  </tbody>\n",
       "</table>\n",
       "</div>"
      ],
      "text/plain": [
       "   Pickup Date  pickup_datetime\n",
       "0        06-01            10622\n",
       "3        06-02             9432\n",
       "27       06-03             7088\n",
       "26       06-04             7378\n",
       "17       06-05             8125"
      ]
     },
<<<<<<< HEAD
     "execution_count": 8,
=======
     "execution_count": 124,
>>>>>>> parent of e497473 (Update NYC_Taxi_RIdeshare_Final.ipynb)
     "metadata": {},
     "output_type": "execute_result"
    }
   ],
   "source": [
    "#FHV data June 2019\n",
    "#Find ride numbers by pickup date\n",
    "ride_numbers_hvfhv_june_2019 = june_2019_highvol[\"pickup_date\"].value_counts()\n",
    "\n",
    "#Format and sort data frame\n",
    "ride_numbers_hvfhv_june_2019 = pd.DataFrame(ride_numbers_hvfhv_june_2019).reset_index().rename(columns = {\"index\": \"Pickup Date\", \"pickup_date\": \"Number of FHV Rides 2019\"})\n",
    "ride_numbers_hvfhv_june_2019[\"Pickup Date\"] = pd.to_datetime(ride_numbers_hvfhv_june_2019[\"Pickup Date\"]).dt.strftime('%m-%d')\n",
    "sorted_ride_numbers_hvfhv_june = ride_numbers_hvfhv_june_2019.sort_values([\"Pickup Date\"], ascending = True)\n",
    "\n",
    "#Display data frame\n",
    "sorted_ride_numbers_hvfhv_june.head()"
   ]
  },
  {
   "cell_type": "code",
<<<<<<< HEAD
   "execution_count": 9,
=======
   "execution_count": 125,
>>>>>>> parent of e497473 (Update NYC_Taxi_RIdeshare_Final.ipynb)
   "id": "18535e80",
   "metadata": {},
   "outputs": [
    {
     "data": {
      "text/html": [
       "<div>\n",
       "<style scoped>\n",
       "    .dataframe tbody tr th:only-of-type {\n",
       "        vertical-align: middle;\n",
       "    }\n",
       "\n",
       "    .dataframe tbody tr th {\n",
       "        vertical-align: top;\n",
       "    }\n",
       "\n",
       "    .dataframe thead th {\n",
       "        text-align: right;\n",
       "    }\n",
       "</style>\n",
       "<table border=\"1\" class=\"dataframe\">\n",
       "  <thead>\n",
       "    <tr style=\"text-align: right;\">\n",
       "      <th></th>\n",
       "      <th>Pickup Date</th>\n",
       "      <th>Number of Rides June 2015</th>\n",
       "      <th>Number of FHV Rides 2015</th>\n",
       "      <th>Total Rides</th>\n",
       "    </tr>\n",
       "  </thead>\n",
       "  <tbody>\n",
       "    <tr>\n",
       "      <th>0</th>\n",
       "      <td>06-01</td>\n",
       "      <td>34676</td>\n",
       "      <td>1362</td>\n",
       "      <td>36038</td>\n",
       "    </tr>\n",
       "    <tr>\n",
       "      <th>1</th>\n",
       "      <td>06-02</td>\n",
       "      <td>36050</td>\n",
       "      <td>1341</td>\n",
       "      <td>37391</td>\n",
       "    </tr>\n",
       "    <tr>\n",
       "      <th>2</th>\n",
       "      <td>06-03</td>\n",
       "      <td>36394</td>\n",
       "      <td>1177</td>\n",
       "      <td>37571</td>\n",
       "    </tr>\n",
       "    <tr>\n",
       "      <th>3</th>\n",
       "      <td>06-04</td>\n",
       "      <td>39663</td>\n",
       "      <td>1276</td>\n",
       "      <td>40939</td>\n",
       "    </tr>\n",
       "    <tr>\n",
       "      <th>4</th>\n",
       "      <td>06-05</td>\n",
       "      <td>43779</td>\n",
       "      <td>1475</td>\n",
       "      <td>45254</td>\n",
       "    </tr>\n",
       "  </tbody>\n",
       "</table>\n",
       "</div>"
      ],
      "text/plain": [
       "  Pickup Date  Number of Rides June 2015  Number of FHV Rides 2015  \\\n",
       "0       06-01                      34676                      1362   \n",
       "1       06-02                      36050                      1341   \n",
       "2       06-03                      36394                      1177   \n",
       "3       06-04                      39663                      1276   \n",
       "4       06-05                      43779                      1475   \n",
       "\n",
       "   Total Rides  \n",
       "0        36038  \n",
       "1        37391  \n",
       "2        37571  \n",
       "3        40939  \n",
       "4        45254  "
      ]
     },
<<<<<<< HEAD
     "execution_count": 9,
=======
     "execution_count": 125,
>>>>>>> parent of e497473 (Update NYC_Taxi_RIdeshare_Final.ipynb)
     "metadata": {},
     "output_type": "execute_result"
    }
   ],
   "source": [
    "#Compare taxi and FHV data in June 2015\n",
    "combined_june_2015 = sorted_ride_numbers_june_2015.merge(sorted_ride_numbers_fhv_2015, how = \"outer\", on = \"Pickup Date\")\n",
    "combined_june_2015[\"Total Rides\"] = combined_june_2015[\"Number of Rides June 2015\"] + combined_june_2015[\"Number of FHV Rides 2015\"]\n",
    "\n",
    "#Display data frame\n",
    "combined_june_2015.head()"
   ]
  },
  {
   "cell_type": "code",
<<<<<<< HEAD
   "execution_count": 10,
=======
   "execution_count": 126,
>>>>>>> parent of e497473 (Update NYC_Taxi_RIdeshare_Final.ipynb)
   "id": "2300e4e6",
   "metadata": {},
   "outputs": [
    {
     "data": {
      "text/html": [
       "<div>\n",
       "<style scoped>\n",
       "    .dataframe tbody tr th:only-of-type {\n",
       "        vertical-align: middle;\n",
       "    }\n",
       "\n",
       "    .dataframe tbody tr th {\n",
       "        vertical-align: top;\n",
       "    }\n",
       "\n",
       "    .dataframe thead th {\n",
       "        text-align: right;\n",
       "    }\n",
       "</style>\n",
       "<table border=\"1\" class=\"dataframe\">\n",
       "  <thead>\n",
       "    <tr style=\"text-align: right;\">\n",
       "      <th></th>\n",
       "      <th>Date</th>\n",
       "      <th>Percent Rides Taxi</th>\n",
       "      <th>Percent Rides FHV</th>\n",
       "    </tr>\n",
       "  </thead>\n",
       "  <tbody>\n",
       "    <tr>\n",
       "      <th>0</th>\n",
       "      <td>06-01</td>\n",
       "      <td>96.220656</td>\n",
       "      <td>3.779344</td>\n",
       "    </tr>\n",
       "    <tr>\n",
       "      <th>1</th>\n",
       "      <td>06-02</td>\n",
       "      <td>96.413575</td>\n",
       "      <td>3.586425</td>\n",
       "    </tr>\n",
       "    <tr>\n",
       "      <th>2</th>\n",
       "      <td>06-03</td>\n",
       "      <td>96.867265</td>\n",
       "      <td>3.132735</td>\n",
       "    </tr>\n",
       "    <tr>\n",
       "      <th>3</th>\n",
       "      <td>06-04</td>\n",
       "      <td>96.883168</td>\n",
       "      <td>3.116832</td>\n",
       "    </tr>\n",
       "    <tr>\n",
       "      <th>4</th>\n",
       "      <td>06-05</td>\n",
       "      <td>96.740620</td>\n",
       "      <td>3.259380</td>\n",
       "    </tr>\n",
       "  </tbody>\n",
       "</table>\n",
       "</div>"
      ],
      "text/plain": [
       "    Date  Percent Rides Taxi  Percent Rides FHV\n",
       "0  06-01           96.220656           3.779344\n",
       "1  06-02           96.413575           3.586425\n",
       "2  06-03           96.867265           3.132735\n",
       "3  06-04           96.883168           3.116832\n",
       "4  06-05           96.740620           3.259380"
      ]
     },
<<<<<<< HEAD
     "execution_count": 10,
=======
     "execution_count": 126,
>>>>>>> parent of e497473 (Update NYC_Taxi_RIdeshare_Final.ipynb)
     "metadata": {},
     "output_type": "execute_result"
    }
   ],
   "source": [
    "#Calculate the percent of taxi rides vs FHV rides\n",
    "percent_rides_taxi = combined_june_2015[\"Number of Rides June 2015\"]/combined_june_2015[\"Total Rides\"] * 100\n",
    "percent_rides_fhv = combined_june_2015[\"Number of FHV Rides 2015\"]/combined_june_2015[\"Total Rides\"] * 100\n",
    "\n",
    "#Create new data frame\n",
    "percent_2015 = pd.DataFrame({\"Date\": combined_june_2015[\"Pickup Date\"],\n",
    "                            \"Percent Rides Taxi\": percent_rides_taxi,\n",
    "                            \"Percent Rides FHV\": percent_rides_fhv\n",
    "                            })\n",
    "\n",
    "percent_2015.head()"
   ]
  },
  {
   "cell_type": "code",
<<<<<<< HEAD
   "execution_count": 11,
=======
   "execution_count": 127,
>>>>>>> parent of e497473 (Update NYC_Taxi_RIdeshare_Final.ipynb)
   "id": "5cfe012f",
   "metadata": {},
   "outputs": [
    {
     "data": {
      "image/png": "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\n",
      "text/plain": [
       "<Figure size 432x288 with 1 Axes>"
      ]
     },
     "metadata": {
      "needs_background": "light"
     },
     "output_type": "display_data"
    }
   ],
   "source": [
    "#Line graph comparing percent of total rides for taxi vs FHV in June 2015\n",
    "line = percent_2015.plot(kind = \"line\", legend = True)\n",
    "\n",
    "plt.title(\"Percent Taxi vs FHV Rides June 2015\")\n",
    "plt.xlabel(\"Date in June\")\n",
    "plt.ylabel(\"Percent of Total Rides\")\n",
    "plt.grid()\n",
    "plt.show()"
   ]
  },
  {
   "cell_type": "code",
<<<<<<< HEAD
   "execution_count": 12,
=======
   "execution_count": 128,
>>>>>>> parent of e497473 (Update NYC_Taxi_RIdeshare_Final.ipynb)
   "id": "023eb1e2",
   "metadata": {},
   "outputs": [
    {
<<<<<<< HEAD
     "data": {
      "text/html": [
       "<div>\n",
       "<style scoped>\n",
       "    .dataframe tbody tr th:only-of-type {\n",
       "        vertical-align: middle;\n",
       "    }\n",
       "\n",
       "    .dataframe tbody tr th {\n",
       "        vertical-align: top;\n",
       "    }\n",
       "\n",
       "    .dataframe thead th {\n",
       "        text-align: right;\n",
       "    }\n",
       "</style>\n",
       "<table border=\"1\" class=\"dataframe\">\n",
       "  <thead>\n",
       "    <tr style=\"text-align: right;\">\n",
       "      <th></th>\n",
       "      <th>Pickup Date</th>\n",
       "      <th>Number of Rides June 2019</th>\n",
       "      <th>Number of FHV Rides 2019</th>\n",
       "      <th>Total Rides</th>\n",
       "    </tr>\n",
       "  </thead>\n",
       "  <tbody>\n",
       "    <tr>\n",
       "      <th>0</th>\n",
       "      <td>06-01</td>\n",
       "      <td>9742</td>\n",
       "      <td>10622</td>\n",
       "      <td>20364</td>\n",
       "    </tr>\n",
       "    <tr>\n",
       "      <th>1</th>\n",
       "      <td>06-02</td>\n",
       "      <td>8084</td>\n",
       "      <td>9432</td>\n",
       "      <td>17516</td>\n",
       "    </tr>\n",
       "    <tr>\n",
       "      <th>2</th>\n",
       "      <td>06-03</td>\n",
       "      <td>7537</td>\n",
       "      <td>7088</td>\n",
       "      <td>14625</td>\n",
       "    </tr>\n",
       "    <tr>\n",
       "      <th>3</th>\n",
       "      <td>06-04</td>\n",
       "      <td>7570</td>\n",
       "      <td>7378</td>\n",
       "      <td>14948</td>\n",
       "    </tr>\n",
       "    <tr>\n",
       "      <th>4</th>\n",
       "      <td>06-05</td>\n",
       "      <td>8650</td>\n",
       "      <td>8125</td>\n",
       "      <td>16775</td>\n",
       "    </tr>\n",
       "  </tbody>\n",
       "</table>\n",
       "</div>"
      ],
      "text/plain": [
       "  Pickup Date  Number of Rides June 2019  Number of FHV Rides 2019  \\\n",
       "0       06-01                       9742                     10622   \n",
       "1       06-02                       8084                      9432   \n",
       "2       06-03                       7537                      7088   \n",
       "3       06-04                       7570                      7378   \n",
       "4       06-05                       8650                      8125   \n",
       "\n",
       "   Total Rides  \n",
       "0        20364  \n",
       "1        17516  \n",
       "2        14625  \n",
       "3        14948  \n",
       "4        16775  "
      ]
     },
     "execution_count": 12,
     "metadata": {},
     "output_type": "execute_result"
=======
     "ename": "KeyError",
     "evalue": "'Number of FHV Rides 2019'",
     "output_type": "error",
     "traceback": [
      "\u001b[0;31m---------------------------------------------------------------------------\u001b[0m",
      "\u001b[0;31mKeyError\u001b[0m                                  Traceback (most recent call last)",
      "\u001b[0;32m~/opt/anaconda3/lib/python3.9/site-packages/pandas/core/indexes/base.py\u001b[0m in \u001b[0;36mget_loc\u001b[0;34m(self, key, method, tolerance)\u001b[0m\n\u001b[1;32m   3360\u001b[0m             \u001b[0;32mtry\u001b[0m\u001b[0;34m:\u001b[0m\u001b[0;34m\u001b[0m\u001b[0;34m\u001b[0m\u001b[0m\n\u001b[0;32m-> 3361\u001b[0;31m                 \u001b[0;32mreturn\u001b[0m \u001b[0mself\u001b[0m\u001b[0;34m.\u001b[0m\u001b[0m_engine\u001b[0m\u001b[0;34m.\u001b[0m\u001b[0mget_loc\u001b[0m\u001b[0;34m(\u001b[0m\u001b[0mcasted_key\u001b[0m\u001b[0;34m)\u001b[0m\u001b[0;34m\u001b[0m\u001b[0;34m\u001b[0m\u001b[0m\n\u001b[0m\u001b[1;32m   3362\u001b[0m             \u001b[0;32mexcept\u001b[0m \u001b[0mKeyError\u001b[0m \u001b[0;32mas\u001b[0m \u001b[0merr\u001b[0m\u001b[0;34m:\u001b[0m\u001b[0;34m\u001b[0m\u001b[0;34m\u001b[0m\u001b[0m\n",
      "\u001b[0;32m~/opt/anaconda3/lib/python3.9/site-packages/pandas/_libs/index.pyx\u001b[0m in \u001b[0;36mpandas._libs.index.IndexEngine.get_loc\u001b[0;34m()\u001b[0m\n",
      "\u001b[0;32m~/opt/anaconda3/lib/python3.9/site-packages/pandas/_libs/index.pyx\u001b[0m in \u001b[0;36mpandas._libs.index.IndexEngine.get_loc\u001b[0;34m()\u001b[0m\n",
      "\u001b[0;32mpandas/_libs/hashtable_class_helper.pxi\u001b[0m in \u001b[0;36mpandas._libs.hashtable.PyObjectHashTable.get_item\u001b[0;34m()\u001b[0m\n",
      "\u001b[0;32mpandas/_libs/hashtable_class_helper.pxi\u001b[0m in \u001b[0;36mpandas._libs.hashtable.PyObjectHashTable.get_item\u001b[0;34m()\u001b[0m\n",
      "\u001b[0;31mKeyError\u001b[0m: 'Number of FHV Rides 2019'",
      "\nThe above exception was the direct cause of the following exception:\n",
      "\u001b[0;31mKeyError\u001b[0m                                  Traceback (most recent call last)",
      "\u001b[0;32m/var/folders/w4/cz88rjkj0lg25jggxn27s8l40000gn/T/ipykernel_58258/1502035319.py\u001b[0m in \u001b[0;36m<module>\u001b[0;34m\u001b[0m\n\u001b[1;32m      1\u001b[0m \u001b[0;31m#Compare taxi and FHV data in June 2019\u001b[0m\u001b[0;34m\u001b[0m\u001b[0;34m\u001b[0m\u001b[0m\n\u001b[1;32m      2\u001b[0m \u001b[0mcombined_june_2019\u001b[0m \u001b[0;34m=\u001b[0m \u001b[0msorted_ride_numbers_june_2019\u001b[0m\u001b[0;34m.\u001b[0m\u001b[0mmerge\u001b[0m\u001b[0;34m(\u001b[0m\u001b[0msorted_ride_numbers_hvfhv_june\u001b[0m\u001b[0;34m,\u001b[0m \u001b[0mhow\u001b[0m \u001b[0;34m=\u001b[0m \u001b[0;34m\"outer\"\u001b[0m\u001b[0;34m,\u001b[0m \u001b[0mon\u001b[0m \u001b[0;34m=\u001b[0m \u001b[0;34m\"Pickup Date\"\u001b[0m\u001b[0;34m)\u001b[0m\u001b[0;34m\u001b[0m\u001b[0;34m\u001b[0m\u001b[0m\n\u001b[0;32m----> 3\u001b[0;31m \u001b[0mcombined_june_2019\u001b[0m\u001b[0;34m[\u001b[0m\u001b[0;34m\"Total Rides\"\u001b[0m\u001b[0;34m]\u001b[0m \u001b[0;34m=\u001b[0m \u001b[0mcombined_june_2019\u001b[0m\u001b[0;34m[\u001b[0m\u001b[0;34m\"Number of Rides June 2019\"\u001b[0m\u001b[0;34m]\u001b[0m \u001b[0;34m+\u001b[0m \u001b[0mcombined_june_2019\u001b[0m\u001b[0;34m[\u001b[0m\u001b[0;34m\"Number of FHV Rides 2019\"\u001b[0m\u001b[0;34m]\u001b[0m\u001b[0;34m\u001b[0m\u001b[0;34m\u001b[0m\u001b[0m\n\u001b[0m\u001b[1;32m      4\u001b[0m \u001b[0;34m\u001b[0m\u001b[0m\n\u001b[1;32m      5\u001b[0m \u001b[0;31m#Display data frame\u001b[0m\u001b[0;34m\u001b[0m\u001b[0;34m\u001b[0m\u001b[0m\n",
      "\u001b[0;32m~/opt/anaconda3/lib/python3.9/site-packages/pandas/core/frame.py\u001b[0m in \u001b[0;36m__getitem__\u001b[0;34m(self, key)\u001b[0m\n\u001b[1;32m   3456\u001b[0m             \u001b[0;32mif\u001b[0m \u001b[0mself\u001b[0m\u001b[0;34m.\u001b[0m\u001b[0mcolumns\u001b[0m\u001b[0;34m.\u001b[0m\u001b[0mnlevels\u001b[0m \u001b[0;34m>\u001b[0m \u001b[0;36m1\u001b[0m\u001b[0;34m:\u001b[0m\u001b[0;34m\u001b[0m\u001b[0;34m\u001b[0m\u001b[0m\n\u001b[1;32m   3457\u001b[0m                 \u001b[0;32mreturn\u001b[0m \u001b[0mself\u001b[0m\u001b[0;34m.\u001b[0m\u001b[0m_getitem_multilevel\u001b[0m\u001b[0;34m(\u001b[0m\u001b[0mkey\u001b[0m\u001b[0;34m)\u001b[0m\u001b[0;34m\u001b[0m\u001b[0;34m\u001b[0m\u001b[0m\n\u001b[0;32m-> 3458\u001b[0;31m             \u001b[0mindexer\u001b[0m \u001b[0;34m=\u001b[0m \u001b[0mself\u001b[0m\u001b[0;34m.\u001b[0m\u001b[0mcolumns\u001b[0m\u001b[0;34m.\u001b[0m\u001b[0mget_loc\u001b[0m\u001b[0;34m(\u001b[0m\u001b[0mkey\u001b[0m\u001b[0;34m)\u001b[0m\u001b[0;34m\u001b[0m\u001b[0;34m\u001b[0m\u001b[0m\n\u001b[0m\u001b[1;32m   3459\u001b[0m             \u001b[0;32mif\u001b[0m \u001b[0mis_integer\u001b[0m\u001b[0;34m(\u001b[0m\u001b[0mindexer\u001b[0m\u001b[0;34m)\u001b[0m\u001b[0;34m:\u001b[0m\u001b[0;34m\u001b[0m\u001b[0;34m\u001b[0m\u001b[0m\n\u001b[1;32m   3460\u001b[0m                 \u001b[0mindexer\u001b[0m \u001b[0;34m=\u001b[0m \u001b[0;34m[\u001b[0m\u001b[0mindexer\u001b[0m\u001b[0;34m]\u001b[0m\u001b[0;34m\u001b[0m\u001b[0;34m\u001b[0m\u001b[0m\n",
      "\u001b[0;32m~/opt/anaconda3/lib/python3.9/site-packages/pandas/core/indexes/base.py\u001b[0m in \u001b[0;36mget_loc\u001b[0;34m(self, key, method, tolerance)\u001b[0m\n\u001b[1;32m   3361\u001b[0m                 \u001b[0;32mreturn\u001b[0m \u001b[0mself\u001b[0m\u001b[0;34m.\u001b[0m\u001b[0m_engine\u001b[0m\u001b[0;34m.\u001b[0m\u001b[0mget_loc\u001b[0m\u001b[0;34m(\u001b[0m\u001b[0mcasted_key\u001b[0m\u001b[0;34m)\u001b[0m\u001b[0;34m\u001b[0m\u001b[0;34m\u001b[0m\u001b[0m\n\u001b[1;32m   3362\u001b[0m             \u001b[0;32mexcept\u001b[0m \u001b[0mKeyError\u001b[0m \u001b[0;32mas\u001b[0m \u001b[0merr\u001b[0m\u001b[0;34m:\u001b[0m\u001b[0;34m\u001b[0m\u001b[0;34m\u001b[0m\u001b[0m\n\u001b[0;32m-> 3363\u001b[0;31m                 \u001b[0;32mraise\u001b[0m \u001b[0mKeyError\u001b[0m\u001b[0;34m(\u001b[0m\u001b[0mkey\u001b[0m\u001b[0;34m)\u001b[0m \u001b[0;32mfrom\u001b[0m \u001b[0merr\u001b[0m\u001b[0;34m\u001b[0m\u001b[0;34m\u001b[0m\u001b[0m\n\u001b[0m\u001b[1;32m   3364\u001b[0m \u001b[0;34m\u001b[0m\u001b[0m\n\u001b[1;32m   3365\u001b[0m         \u001b[0;32mif\u001b[0m \u001b[0mis_scalar\u001b[0m\u001b[0;34m(\u001b[0m\u001b[0mkey\u001b[0m\u001b[0;34m)\u001b[0m \u001b[0;32mand\u001b[0m \u001b[0misna\u001b[0m\u001b[0;34m(\u001b[0m\u001b[0mkey\u001b[0m\u001b[0;34m)\u001b[0m \u001b[0;32mand\u001b[0m \u001b[0;32mnot\u001b[0m \u001b[0mself\u001b[0m\u001b[0;34m.\u001b[0m\u001b[0mhasnans\u001b[0m\u001b[0;34m:\u001b[0m\u001b[0;34m\u001b[0m\u001b[0;34m\u001b[0m\u001b[0m\n",
      "\u001b[0;31mKeyError\u001b[0m: 'Number of FHV Rides 2019'"
     ]
>>>>>>> parent of e497473 (Update NYC_Taxi_RIdeshare_Final.ipynb)
    }
   ],
   "source": [
    "#Compare taxi and FHV data in June 2019\n",
    "combined_june_2019 = sorted_ride_numbers_june_2019.merge(sorted_ride_numbers_hvfhv_june, how = \"outer\", on = \"Pickup Date\")\n",
    "combined_june_2019[\"Total Rides\"] = combined_june_2019[\"Number of Rides June 2019\"] + combined_june_2019[\"Number of FHV Rides 2019\"]\n",
    "\n",
    "#Display data frame\n",
    "combined_june_2019.head()"
   ]
  },
  {
   "cell_type": "code",
<<<<<<< HEAD
   "execution_count": 13,
=======
   "execution_count": 130,
>>>>>>> parent of e497473 (Update NYC_Taxi_RIdeshare_Final.ipynb)
   "id": "2b4261c5",
   "metadata": {},
   "outputs": [
    {
<<<<<<< HEAD
     "data": {
      "text/html": [
       "<div>\n",
       "<style scoped>\n",
       "    .dataframe tbody tr th:only-of-type {\n",
       "        vertical-align: middle;\n",
       "    }\n",
       "\n",
       "    .dataframe tbody tr th {\n",
       "        vertical-align: top;\n",
       "    }\n",
       "\n",
       "    .dataframe thead th {\n",
       "        text-align: right;\n",
       "    }\n",
       "</style>\n",
       "<table border=\"1\" class=\"dataframe\">\n",
       "  <thead>\n",
       "    <tr style=\"text-align: right;\">\n",
       "      <th></th>\n",
       "      <th>Date</th>\n",
       "      <th>Percent Rides Taxi</th>\n",
       "      <th>Percent Rides FHV</th>\n",
       "    </tr>\n",
       "  </thead>\n",
       "  <tbody>\n",
       "    <tr>\n",
       "      <th>0</th>\n",
       "      <td>06-01</td>\n",
       "      <td>47.839324</td>\n",
       "      <td>52.160676</td>\n",
       "    </tr>\n",
       "    <tr>\n",
       "      <th>1</th>\n",
       "      <td>06-02</td>\n",
       "      <td>46.152090</td>\n",
       "      <td>53.847910</td>\n",
       "    </tr>\n",
       "    <tr>\n",
       "      <th>2</th>\n",
       "      <td>06-03</td>\n",
       "      <td>51.535043</td>\n",
       "      <td>48.464957</td>\n",
       "    </tr>\n",
       "    <tr>\n",
       "      <th>3</th>\n",
       "      <td>06-04</td>\n",
       "      <td>50.642226</td>\n",
       "      <td>49.357774</td>\n",
       "    </tr>\n",
       "    <tr>\n",
       "      <th>4</th>\n",
       "      <td>06-05</td>\n",
       "      <td>51.564829</td>\n",
       "      <td>48.435171</td>\n",
       "    </tr>\n",
       "  </tbody>\n",
       "</table>\n",
       "</div>"
      ],
      "text/plain": [
       "    Date  Percent Rides Taxi  Percent Rides FHV\n",
       "0  06-01           47.839324          52.160676\n",
       "1  06-02           46.152090          53.847910\n",
       "2  06-03           51.535043          48.464957\n",
       "3  06-04           50.642226          49.357774\n",
       "4  06-05           51.564829          48.435171"
      ]
     },
     "execution_count": 13,
     "metadata": {},
     "output_type": "execute_result"
=======
     "ename": "KeyError",
     "evalue": "'Total Rides'",
     "output_type": "error",
     "traceback": [
      "\u001b[0;31m---------------------------------------------------------------------------\u001b[0m",
      "\u001b[0;31mKeyError\u001b[0m                                  Traceback (most recent call last)",
      "\u001b[0;32m~/opt/anaconda3/lib/python3.9/site-packages/pandas/core/indexes/base.py\u001b[0m in \u001b[0;36mget_loc\u001b[0;34m(self, key, method, tolerance)\u001b[0m\n\u001b[1;32m   3360\u001b[0m             \u001b[0;32mtry\u001b[0m\u001b[0;34m:\u001b[0m\u001b[0;34m\u001b[0m\u001b[0;34m\u001b[0m\u001b[0m\n\u001b[0;32m-> 3361\u001b[0;31m                 \u001b[0;32mreturn\u001b[0m \u001b[0mself\u001b[0m\u001b[0;34m.\u001b[0m\u001b[0m_engine\u001b[0m\u001b[0;34m.\u001b[0m\u001b[0mget_loc\u001b[0m\u001b[0;34m(\u001b[0m\u001b[0mcasted_key\u001b[0m\u001b[0;34m)\u001b[0m\u001b[0;34m\u001b[0m\u001b[0;34m\u001b[0m\u001b[0m\n\u001b[0m\u001b[1;32m   3362\u001b[0m             \u001b[0;32mexcept\u001b[0m \u001b[0mKeyError\u001b[0m \u001b[0;32mas\u001b[0m \u001b[0merr\u001b[0m\u001b[0;34m:\u001b[0m\u001b[0;34m\u001b[0m\u001b[0;34m\u001b[0m\u001b[0m\n",
      "\u001b[0;32m~/opt/anaconda3/lib/python3.9/site-packages/pandas/_libs/index.pyx\u001b[0m in \u001b[0;36mpandas._libs.index.IndexEngine.get_loc\u001b[0;34m()\u001b[0m\n",
      "\u001b[0;32m~/opt/anaconda3/lib/python3.9/site-packages/pandas/_libs/index.pyx\u001b[0m in \u001b[0;36mpandas._libs.index.IndexEngine.get_loc\u001b[0;34m()\u001b[0m\n",
      "\u001b[0;32mpandas/_libs/hashtable_class_helper.pxi\u001b[0m in \u001b[0;36mpandas._libs.hashtable.PyObjectHashTable.get_item\u001b[0;34m()\u001b[0m\n",
      "\u001b[0;32mpandas/_libs/hashtable_class_helper.pxi\u001b[0m in \u001b[0;36mpandas._libs.hashtable.PyObjectHashTable.get_item\u001b[0;34m()\u001b[0m\n",
      "\u001b[0;31mKeyError\u001b[0m: 'Total Rides'",
      "\nThe above exception was the direct cause of the following exception:\n",
      "\u001b[0;31mKeyError\u001b[0m                                  Traceback (most recent call last)",
      "\u001b[0;32m/var/folders/w4/cz88rjkj0lg25jggxn27s8l40000gn/T/ipykernel_58258/3118535009.py\u001b[0m in \u001b[0;36m<module>\u001b[0;34m\u001b[0m\n\u001b[1;32m      1\u001b[0m \u001b[0;31m#Calculate the percent of taxi rides vs FHV rides\u001b[0m\u001b[0;34m\u001b[0m\u001b[0;34m\u001b[0m\u001b[0m\n\u001b[0;32m----> 2\u001b[0;31m \u001b[0mpercent_rides_taxi\u001b[0m \u001b[0;34m=\u001b[0m \u001b[0mcombined_june_2019\u001b[0m\u001b[0;34m[\u001b[0m\u001b[0;34m\"Number of Rides June 2019\"\u001b[0m\u001b[0;34m]\u001b[0m\u001b[0;34m/\u001b[0m\u001b[0mcombined_june_2019\u001b[0m\u001b[0;34m[\u001b[0m\u001b[0;34m\"Total Rides\"\u001b[0m\u001b[0;34m]\u001b[0m \u001b[0;34m*\u001b[0m \u001b[0;36m100\u001b[0m\u001b[0;34m\u001b[0m\u001b[0;34m\u001b[0m\u001b[0m\n\u001b[0m\u001b[1;32m      3\u001b[0m \u001b[0mpercent_rides_fhv\u001b[0m \u001b[0;34m=\u001b[0m \u001b[0mcombined_june_2019\u001b[0m\u001b[0;34m[\u001b[0m\u001b[0;34m\"Number of FHV Rides 2019\"\u001b[0m\u001b[0;34m]\u001b[0m\u001b[0;34m/\u001b[0m\u001b[0mcombined_june_2019\u001b[0m\u001b[0;34m[\u001b[0m\u001b[0;34m\"Total Rides\"\u001b[0m\u001b[0;34m]\u001b[0m \u001b[0;34m*\u001b[0m \u001b[0;36m100\u001b[0m\u001b[0;34m\u001b[0m\u001b[0;34m\u001b[0m\u001b[0m\n\u001b[1;32m      4\u001b[0m \u001b[0;34m\u001b[0m\u001b[0m\n\u001b[1;32m      5\u001b[0m \u001b[0;31m#Create new data frame\u001b[0m\u001b[0;34m\u001b[0m\u001b[0;34m\u001b[0m\u001b[0m\n",
      "\u001b[0;32m~/opt/anaconda3/lib/python3.9/site-packages/pandas/core/frame.py\u001b[0m in \u001b[0;36m__getitem__\u001b[0;34m(self, key)\u001b[0m\n\u001b[1;32m   3456\u001b[0m             \u001b[0;32mif\u001b[0m \u001b[0mself\u001b[0m\u001b[0;34m.\u001b[0m\u001b[0mcolumns\u001b[0m\u001b[0;34m.\u001b[0m\u001b[0mnlevels\u001b[0m \u001b[0;34m>\u001b[0m \u001b[0;36m1\u001b[0m\u001b[0;34m:\u001b[0m\u001b[0;34m\u001b[0m\u001b[0;34m\u001b[0m\u001b[0m\n\u001b[1;32m   3457\u001b[0m                 \u001b[0;32mreturn\u001b[0m \u001b[0mself\u001b[0m\u001b[0;34m.\u001b[0m\u001b[0m_getitem_multilevel\u001b[0m\u001b[0;34m(\u001b[0m\u001b[0mkey\u001b[0m\u001b[0;34m)\u001b[0m\u001b[0;34m\u001b[0m\u001b[0;34m\u001b[0m\u001b[0m\n\u001b[0;32m-> 3458\u001b[0;31m             \u001b[0mindexer\u001b[0m \u001b[0;34m=\u001b[0m \u001b[0mself\u001b[0m\u001b[0;34m.\u001b[0m\u001b[0mcolumns\u001b[0m\u001b[0;34m.\u001b[0m\u001b[0mget_loc\u001b[0m\u001b[0;34m(\u001b[0m\u001b[0mkey\u001b[0m\u001b[0;34m)\u001b[0m\u001b[0;34m\u001b[0m\u001b[0;34m\u001b[0m\u001b[0m\n\u001b[0m\u001b[1;32m   3459\u001b[0m             \u001b[0;32mif\u001b[0m \u001b[0mis_integer\u001b[0m\u001b[0;34m(\u001b[0m\u001b[0mindexer\u001b[0m\u001b[0;34m)\u001b[0m\u001b[0;34m:\u001b[0m\u001b[0;34m\u001b[0m\u001b[0;34m\u001b[0m\u001b[0m\n\u001b[1;32m   3460\u001b[0m                 \u001b[0mindexer\u001b[0m \u001b[0;34m=\u001b[0m \u001b[0;34m[\u001b[0m\u001b[0mindexer\u001b[0m\u001b[0;34m]\u001b[0m\u001b[0;34m\u001b[0m\u001b[0;34m\u001b[0m\u001b[0m\n",
      "\u001b[0;32m~/opt/anaconda3/lib/python3.9/site-packages/pandas/core/indexes/base.py\u001b[0m in \u001b[0;36mget_loc\u001b[0;34m(self, key, method, tolerance)\u001b[0m\n\u001b[1;32m   3361\u001b[0m                 \u001b[0;32mreturn\u001b[0m \u001b[0mself\u001b[0m\u001b[0;34m.\u001b[0m\u001b[0m_engine\u001b[0m\u001b[0;34m.\u001b[0m\u001b[0mget_loc\u001b[0m\u001b[0;34m(\u001b[0m\u001b[0mcasted_key\u001b[0m\u001b[0;34m)\u001b[0m\u001b[0;34m\u001b[0m\u001b[0;34m\u001b[0m\u001b[0m\n\u001b[1;32m   3362\u001b[0m             \u001b[0;32mexcept\u001b[0m \u001b[0mKeyError\u001b[0m \u001b[0;32mas\u001b[0m \u001b[0merr\u001b[0m\u001b[0;34m:\u001b[0m\u001b[0;34m\u001b[0m\u001b[0;34m\u001b[0m\u001b[0m\n\u001b[0;32m-> 3363\u001b[0;31m                 \u001b[0;32mraise\u001b[0m \u001b[0mKeyError\u001b[0m\u001b[0;34m(\u001b[0m\u001b[0mkey\u001b[0m\u001b[0;34m)\u001b[0m \u001b[0;32mfrom\u001b[0m \u001b[0merr\u001b[0m\u001b[0;34m\u001b[0m\u001b[0;34m\u001b[0m\u001b[0m\n\u001b[0m\u001b[1;32m   3364\u001b[0m \u001b[0;34m\u001b[0m\u001b[0m\n\u001b[1;32m   3365\u001b[0m         \u001b[0;32mif\u001b[0m \u001b[0mis_scalar\u001b[0m\u001b[0;34m(\u001b[0m\u001b[0mkey\u001b[0m\u001b[0;34m)\u001b[0m \u001b[0;32mand\u001b[0m \u001b[0misna\u001b[0m\u001b[0;34m(\u001b[0m\u001b[0mkey\u001b[0m\u001b[0;34m)\u001b[0m \u001b[0;32mand\u001b[0m \u001b[0;32mnot\u001b[0m \u001b[0mself\u001b[0m\u001b[0;34m.\u001b[0m\u001b[0mhasnans\u001b[0m\u001b[0;34m:\u001b[0m\u001b[0;34m\u001b[0m\u001b[0;34m\u001b[0m\u001b[0m\n",
      "\u001b[0;31mKeyError\u001b[0m: 'Total Rides'"
     ]
>>>>>>> parent of e497473 (Update NYC_Taxi_RIdeshare_Final.ipynb)
    }
   ],
   "source": [
    "#Calculate the percent of taxi rides vs FHV rides\n",
    "percent_rides_taxi = combined_june_2019[\"Number of Rides June 2019\"]/combined_june_2019[\"Total Rides\"] * 100\n",
    "percent_rides_fhv = combined_june_2019[\"Number of FHV Rides 2019\"]/combined_june_2019[\"Total Rides\"] * 100\n",
    "\n",
    "#Create new data frame\n",
    "percent_2019 = pd.DataFrame({\"Date\": combined_june_2019[\"Pickup Date\"],\n",
    "                            \"Percent Rides Taxi\": percent_rides_taxi,\n",
    "                            \"Percent Rides FHV\": percent_rides_fhv\n",
    "                            })\n",
    "\n",
    "#Display data frame\n",
    "percent_2019.head()"
   ]
  },
  {
   "cell_type": "code",
<<<<<<< HEAD
   "execution_count": 14,
=======
   "execution_count": 131,
>>>>>>> parent of e497473 (Update NYC_Taxi_RIdeshare_Final.ipynb)
   "id": "975850ca",
   "metadata": {},
   "outputs": [
    {
<<<<<<< HEAD
     "data": {
      "image/png": "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\n",
      "text/plain": [
       "<Figure size 432x288 with 1 Axes>"
      ]
     },
     "metadata": {
      "needs_background": "light"
     },
     "output_type": "display_data"
=======
     "ename": "NameError",
     "evalue": "name 'percent_2019' is not defined",
     "output_type": "error",
     "traceback": [
      "\u001b[0;31m---------------------------------------------------------------------------\u001b[0m",
      "\u001b[0;31mNameError\u001b[0m                                 Traceback (most recent call last)",
      "\u001b[0;32m/var/folders/w4/cz88rjkj0lg25jggxn27s8l40000gn/T/ipykernel_58258/3992935862.py\u001b[0m in \u001b[0;36m<module>\u001b[0;34m\u001b[0m\n\u001b[1;32m      1\u001b[0m \u001b[0;31m#Line graph comparing percent of total rides for taxi vs FHV in June 2019\u001b[0m\u001b[0;34m\u001b[0m\u001b[0;34m\u001b[0m\u001b[0m\n\u001b[0;32m----> 2\u001b[0;31m \u001b[0mline\u001b[0m \u001b[0;34m=\u001b[0m \u001b[0mpercent_2019\u001b[0m\u001b[0;34m.\u001b[0m\u001b[0mplot\u001b[0m\u001b[0;34m(\u001b[0m\u001b[0mkind\u001b[0m \u001b[0;34m=\u001b[0m \u001b[0;34m\"line\"\u001b[0m\u001b[0;34m,\u001b[0m \u001b[0mlegend\u001b[0m \u001b[0;34m=\u001b[0m \u001b[0;32mTrue\u001b[0m\u001b[0;34m)\u001b[0m\u001b[0;34m\u001b[0m\u001b[0;34m\u001b[0m\u001b[0m\n\u001b[0m\u001b[1;32m      3\u001b[0m \u001b[0;34m\u001b[0m\u001b[0m\n\u001b[1;32m      4\u001b[0m \u001b[0mplt\u001b[0m\u001b[0;34m.\u001b[0m\u001b[0mtitle\u001b[0m\u001b[0;34m(\u001b[0m\u001b[0;34m\"Percent Taxi vs FHV Rides June 2019\"\u001b[0m\u001b[0;34m)\u001b[0m\u001b[0;34m\u001b[0m\u001b[0;34m\u001b[0m\u001b[0m\n\u001b[1;32m      5\u001b[0m \u001b[0mplt\u001b[0m\u001b[0;34m.\u001b[0m\u001b[0mxlabel\u001b[0m\u001b[0;34m(\u001b[0m\u001b[0;34m\"Date in June\"\u001b[0m\u001b[0;34m)\u001b[0m\u001b[0;34m\u001b[0m\u001b[0;34m\u001b[0m\u001b[0m\n",
      "\u001b[0;31mNameError\u001b[0m: name 'percent_2019' is not defined"
     ]
>>>>>>> parent of e497473 (Update NYC_Taxi_RIdeshare_Final.ipynb)
    }
   ],
   "source": [
    "#Line graph comparing percent of total rides for taxi vs FHV in June 2019\n",
    "line = percent_2019.plot(kind = \"line\", legend = True)\n",
    "\n",
    "plt.title(\"Percent Taxi vs FHV Rides June 2019\")\n",
    "plt.xlabel(\"Date in June\")\n",
    "plt.ylabel(\"Percent of Total Rides\")\n",
    "plt.grid()\n",
    "plt.show()"
   ]
  },
  {
   "cell_type": "code",
<<<<<<< HEAD
   "execution_count": 15,
=======
   "execution_count": 132,
>>>>>>> parent of e497473 (Update NYC_Taxi_RIdeshare_Final.ipynb)
   "id": "e047849e",
   "metadata": {},
   "outputs": [
    {
<<<<<<< HEAD
     "data": {
      "image/png": "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\n",
      "text/plain": [
       "<Figure size 432x288 with 1 Axes>"
      ]
     },
     "metadata": {
      "needs_background": "light"
     },
     "output_type": "display_data"
=======
     "ename": "NameError",
     "evalue": "name 'percent_2019' is not defined",
     "output_type": "error",
     "traceback": [
      "\u001b[0;31m---------------------------------------------------------------------------\u001b[0m",
      "\u001b[0;31mNameError\u001b[0m                                 Traceback (most recent call last)",
      "\u001b[0;32m/var/folders/w4/cz88rjkj0lg25jggxn27s8l40000gn/T/ipykernel_58258/3529191951.py\u001b[0m in \u001b[0;36m<module>\u001b[0;34m\u001b[0m\n\u001b[1;32m      1\u001b[0m \u001b[0;31m#Compile data for boxplot\u001b[0m\u001b[0;34m\u001b[0m\u001b[0;34m\u001b[0m\u001b[0m\n\u001b[0;32m----> 2\u001b[0;31m \u001b[0mplot_data\u001b[0m \u001b[0;34m=\u001b[0m \u001b[0;34m[\u001b[0m\u001b[0mpercent_2015\u001b[0m\u001b[0;34m[\u001b[0m\u001b[0;34m\"Percent Rides Taxi\"\u001b[0m\u001b[0;34m]\u001b[0m\u001b[0;34m,\u001b[0m \u001b[0mpercent_2015\u001b[0m\u001b[0;34m[\u001b[0m\u001b[0;34m\"Percent Rides FHV\"\u001b[0m\u001b[0;34m]\u001b[0m\u001b[0;34m,\u001b[0m \u001b[0mpercent_2019\u001b[0m\u001b[0;34m[\u001b[0m\u001b[0;34m\"Percent Rides Taxi\"\u001b[0m\u001b[0;34m]\u001b[0m\u001b[0;34m,\u001b[0m \u001b[0mpercent_2019\u001b[0m\u001b[0;34m[\u001b[0m\u001b[0;34m\"Percent Rides FHV\"\u001b[0m\u001b[0;34m]\u001b[0m\u001b[0;34m]\u001b[0m\u001b[0;34m\u001b[0m\u001b[0;34m\u001b[0m\u001b[0m\n\u001b[0m\u001b[1;32m      3\u001b[0m \u001b[0;34m\u001b[0m\u001b[0m\n\u001b[1;32m      4\u001b[0m \u001b[0;31m#Create boxplot comparing percentage of rides from June 2015 to June 2019\u001b[0m\u001b[0;34m\u001b[0m\u001b[0;34m\u001b[0m\u001b[0m\n\u001b[1;32m      5\u001b[0m \u001b[0mplt\u001b[0m\u001b[0;34m.\u001b[0m\u001b[0mboxplot\u001b[0m\u001b[0;34m(\u001b[0m\u001b[0mplot_data\u001b[0m\u001b[0;34m,\u001b[0m \u001b[0mlabels\u001b[0m \u001b[0;34m=\u001b[0m \u001b[0;34m[\u001b[0m\u001b[0;34m\"Taxi Rides 2015\"\u001b[0m\u001b[0;34m,\u001b[0m \u001b[0;34m\"FHV Rides 2015\"\u001b[0m\u001b[0;34m,\u001b[0m \u001b[0;34m\"Taxi Rides 2019\"\u001b[0m\u001b[0;34m,\u001b[0m \u001b[0;34m\"FHV Rides 2019\"\u001b[0m\u001b[0;34m]\u001b[0m\u001b[0;34m)\u001b[0m\u001b[0;34m\u001b[0m\u001b[0;34m\u001b[0m\u001b[0m\n",
      "\u001b[0;31mNameError\u001b[0m: name 'percent_2019' is not defined"
     ]
>>>>>>> parent of e497473 (Update NYC_Taxi_RIdeshare_Final.ipynb)
    }
   ],
   "source": [
    "#Compile data for boxplot\n",
    "plot_data = [percent_2015[\"Percent Rides Taxi\"], percent_2015[\"Percent Rides FHV\"], percent_2019[\"Percent Rides Taxi\"], percent_2019[\"Percent Rides FHV\"]]\n",
    "\n",
    "#Create boxplot comparing percentage of rides from June 2015 to June 2019\n",
    "plt.boxplot(plot_data, labels = [\"Taxi Rides 2015\", \"FHV Rides 2015\", \"Taxi Rides 2019\", \"FHV Rides 2019\"])\n",
    "\n",
    "plt.title\n",
    "plt.ylabel(\"Percent of Total Rides\")\n",
    "plt.grid()\n",
    "plt.show()"
   ]
  },
  {
   "cell_type": "code",
<<<<<<< HEAD
   "execution_count": 18,
=======
   "execution_count": 133,
>>>>>>> parent of e497473 (Update NYC_Taxi_RIdeshare_Final.ipynb)
   "id": "5e19133a",
   "metadata": {},
   "outputs": [
    {
<<<<<<< HEAD
     "data": {
      "text/plain": [
       "Ttest_indResult(statistic=95.50902539281188, pvalue=1.0343156277768903e-40)"
      ]
     },
     "execution_count": 18,
     "metadata": {},
     "output_type": "execute_result"
=======
     "ename": "NameError",
     "evalue": "name 'percent_2019' is not defined",
     "output_type": "error",
     "traceback": [
      "\u001b[0;31m---------------------------------------------------------------------------\u001b[0m",
      "\u001b[0;31mNameError\u001b[0m                                 Traceback (most recent call last)",
      "\u001b[0;32m/var/folders/w4/cz88rjkj0lg25jggxn27s8l40000gn/T/ipykernel_58258/3397455372.py\u001b[0m in \u001b[0;36m<module>\u001b[0;34m\u001b[0m\n\u001b[1;32m      1\u001b[0m \u001b[0;31m#T-test comparing change in percent taxi rides\u001b[0m\u001b[0;34m\u001b[0m\u001b[0;34m\u001b[0m\u001b[0m\n\u001b[0;32m----> 2\u001b[0;31m \u001b[0mstats\u001b[0m\u001b[0;34m.\u001b[0m\u001b[0mttest_ind\u001b[0m\u001b[0;34m(\u001b[0m\u001b[0mpercent_2015\u001b[0m\u001b[0;34m[\u001b[0m\u001b[0;34m\"Percent Rides Taxi\"\u001b[0m\u001b[0;34m]\u001b[0m\u001b[0;34m,\u001b[0m \u001b[0mpercent_2019\u001b[0m\u001b[0;34m[\u001b[0m\u001b[0;34m\"Percent Rides Taxi\"\u001b[0m\u001b[0;34m]\u001b[0m\u001b[0;34m,\u001b[0m \u001b[0mequal_var\u001b[0m\u001b[0;34m=\u001b[0m\u001b[0;32mFalse\u001b[0m\u001b[0;34m)\u001b[0m\u001b[0;34m\u001b[0m\u001b[0;34m\u001b[0m\u001b[0m\n\u001b[0m",
      "\u001b[0;31mNameError\u001b[0m: name 'percent_2019' is not defined"
     ]
>>>>>>> parent of e497473 (Update NYC_Taxi_RIdeshare_Final.ipynb)
    }
   ],
   "source": [
    "#T-test comparing change in percent taxi rides\n",
    "stats.ttest_ind(percent_2015[\"Percent Rides Taxi\"], percent_2019[\"Percent Rides Taxi\"], equal_var=False)"
   ]
  },
  {
   "cell_type": "code",
<<<<<<< HEAD
   "execution_count": 19,
=======
   "execution_count": 134,
>>>>>>> parent of e497473 (Update NYC_Taxi_RIdeshare_Final.ipynb)
   "id": "1936c2b7",
   "metadata": {},
   "outputs": [
    {
<<<<<<< HEAD
     "data": {
      "text/plain": [
       "Ttest_indResult(statistic=-95.50902539281185, pvalue=1.03431562777692e-40)"
      ]
     },
     "execution_count": 19,
     "metadata": {},
     "output_type": "execute_result"
=======
     "ename": "NameError",
     "evalue": "name 'percent_2019' is not defined",
     "output_type": "error",
     "traceback": [
      "\u001b[0;31m---------------------------------------------------------------------------\u001b[0m",
      "\u001b[0;31mNameError\u001b[0m                                 Traceback (most recent call last)",
      "\u001b[0;32m/var/folders/w4/cz88rjkj0lg25jggxn27s8l40000gn/T/ipykernel_58258/330871303.py\u001b[0m in \u001b[0;36m<module>\u001b[0;34m\u001b[0m\n\u001b[1;32m      1\u001b[0m \u001b[0;31m#T-test comparing change in percent FHV rides\u001b[0m\u001b[0;34m\u001b[0m\u001b[0;34m\u001b[0m\u001b[0m\n\u001b[0;32m----> 2\u001b[0;31m \u001b[0mstats\u001b[0m\u001b[0;34m.\u001b[0m\u001b[0mttest_ind\u001b[0m\u001b[0;34m(\u001b[0m\u001b[0mpercent_2015\u001b[0m\u001b[0;34m[\u001b[0m\u001b[0;34m\"Percent Rides FHV\"\u001b[0m\u001b[0;34m]\u001b[0m\u001b[0;34m,\u001b[0m \u001b[0mpercent_2019\u001b[0m\u001b[0;34m[\u001b[0m\u001b[0;34m\"Percent Rides FHV\"\u001b[0m\u001b[0;34m]\u001b[0m\u001b[0;34m,\u001b[0m \u001b[0mequal_var\u001b[0m\u001b[0;34m=\u001b[0m\u001b[0;32mFalse\u001b[0m\u001b[0;34m)\u001b[0m\u001b[0;34m\u001b[0m\u001b[0;34m\u001b[0m\u001b[0m\n\u001b[0m",
      "\u001b[0;31mNameError\u001b[0m: name 'percent_2019' is not defined"
     ]
>>>>>>> parent of e497473 (Update NYC_Taxi_RIdeshare_Final.ipynb)
    }
   ],
   "source": [
    "#T-test comparing change in percent FHV rides\n",
    "stats.ttest_ind(percent_2015[\"Percent Rides FHV\"], percent_2019[\"Percent Rides FHV\"], equal_var=False)"
   ]
  },
  {
   "cell_type": "markdown",
   "id": "6220686b",
   "metadata": {},
   "source": [
    "# Taxi fare pricing"
   ]
  },
  {
   "cell_type": "code",
<<<<<<< HEAD
   "execution_count": null,
   "id": "e6bd92a7",
   "metadata": {},
   "outputs": [],
=======
   "execution_count": 135,
   "id": "e6bd92a7",
   "metadata": {},
   "outputs": [
    {
     "ename": "NameError",
     "evalue": "name 'yt_june_2015_df' is not defined",
     "output_type": "error",
     "traceback": [
      "\u001b[0;31m---------------------------------------------------------------------------\u001b[0m",
      "\u001b[0;31mNameError\u001b[0m                                 Traceback (most recent call last)",
      "\u001b[0;32m/var/folders/w4/cz88rjkj0lg25jggxn27s8l40000gn/T/ipykernel_58258/3534284832.py\u001b[0m in \u001b[0;36m<module>\u001b[0;34m\u001b[0m\n\u001b[1;32m      1\u001b[0m \u001b[0;31m#June 2015\u001b[0m\u001b[0;34m\u001b[0m\u001b[0;34m\u001b[0m\u001b[0m\n\u001b[0;32m----> 2\u001b[0;31m \u001b[0mjune_15_fare_amount\u001b[0m \u001b[0;34m=\u001b[0m \u001b[0myt_june_2015_df\u001b[0m\u001b[0;34m[\u001b[0m\u001b[0;34m'fare_amount'\u001b[0m\u001b[0;34m]\u001b[0m\u001b[0;34m\u001b[0m\u001b[0;34m\u001b[0m\u001b[0m\n\u001b[0m\u001b[1;32m      3\u001b[0m \u001b[0mjune_15_sum\u001b[0m \u001b[0;34m=\u001b[0m \u001b[0mjune_15_fare_amount\u001b[0m\u001b[0;34m.\u001b[0m\u001b[0msum\u001b[0m\u001b[0;34m(\u001b[0m\u001b[0;34m)\u001b[0m\u001b[0;34m\u001b[0m\u001b[0;34m\u001b[0m\u001b[0m\n\u001b[1;32m      4\u001b[0m \u001b[0mjune_15_mean\u001b[0m \u001b[0;34m=\u001b[0m \u001b[0mjune_15_fare_amount\u001b[0m\u001b[0;34m.\u001b[0m\u001b[0mmean\u001b[0m\u001b[0;34m(\u001b[0m\u001b[0;34m)\u001b[0m\u001b[0;34m\u001b[0m\u001b[0;34m\u001b[0m\u001b[0m\n\u001b[1;32m      5\u001b[0m \u001b[0mjune_15_median\u001b[0m \u001b[0;34m=\u001b[0m \u001b[0mjune_15_fare_amount\u001b[0m\u001b[0;34m.\u001b[0m\u001b[0mmedian\u001b[0m\u001b[0;34m(\u001b[0m\u001b[0;34m)\u001b[0m\u001b[0;34m\u001b[0m\u001b[0;34m\u001b[0m\u001b[0m\n",
      "\u001b[0;31mNameError\u001b[0m: name 'yt_june_2015_df' is not defined"
     ]
    }
   ],
>>>>>>> parent of e497473 (Update NYC_Taxi_RIdeshare_Final.ipynb)
   "source": [
    "#June 2015 \n",
    "june_15_fare_amount = yt_june_2015_df['fare_amount']\n",
    "june_15_sum = june_15_fare_amount.sum()\n",
    "june_15_mean = june_15_fare_amount.mean()\n",
    "june_15_median = june_15_fare_amount.median()\n",
    "june_15_rows = june_15_fare_amount.count()\n",
    "\n",
    "\n",
    "print(f'The total fare collected in June 2015 is ${june_15_sum}')\n",
    "print(f'The mean fare collected in June 2015 is ${june_15_mean}')\n",
    "print(f'The median fare collected in June 2015 is ${june_15_median}')\n",
    "print(f'The amount of rides in June 2015 is {june_15_rows}')\n",
    "\n",
    "june_2015_df = pd.DataFrame({'Mean': june_15_mean, 'Sum': june_15_sum, 'Median': june_15_median, \n",
    "                             'Total Rides': june_15_rows}, index=[0])\n",
    "june_2015_df"
   ]
  },
  {
   "cell_type": "code",
   "execution_count": null,
   "id": "f2d04b6b",
   "metadata": {},
   "outputs": [],
   "source": [
    "#Dec 2015\n",
    "dec_15_fare_amount = yt_dec_2015_df['fare_amount']\n",
    "dec_15_sum = dec_15_fare_amount.sum()\n",
    "dec_15_mean = dec_15_fare_amount.mean()\n",
    "dec_15_median = dec_15_fare_amount.median()\n",
    "dec_15_rows = dec_15_fare_amount.count()\n",
    "\n",
    "\n",
    "print(f'The total fare collected in Dec 2015 is ${dec_15_sum}')\n",
    "print(f'The mean fare collected in Dec 2015 is ${dec_15_mean}')\n",
    "print(f'The median fare collected in Dec 2015 is ${dec_15_median}')\n",
    "print(f'The amount of rides in Dec 2015 is {dec_15_rows}')\n",
    "\n",
    "dec_2015_df = pd.DataFrame({'Mean': dec_15_mean, 'Sum': dec_15_sum, 'Median': dec_15_median, \n",
    "                             'Total Rides': dec_15_rows}, index=[0])\n",
    "dec_2015_df"
   ]
  },
  {
   "cell_type": "code",
   "execution_count": null,
   "id": "d5a483db",
   "metadata": {},
   "outputs": [],
   "source": [
    "#June 2019\n",
    "fare_amount = yt_june_2019_df['fare_amount']\n",
    "june_sum = fare_amount.sum()\n",
    "june_mean = fare_amount.mean()\n",
    "june_median = fare_amount.median()\n",
    "june_rows = fare_amount.count()\n",
    "\n",
    "\n",
    "print(f'The total fare collected in June 2019 is ${june_sum}')\n",
    "print(f'The mean fare collected in June 2019 is ${june_mean}')\n",
    "print(f'The median fare collected in June 2019 is ${june_median}')\n",
    "print(f'The amount of rides in June 2019 is {june_rows}')\n",
    "\n",
    "june_2019_df = pd.DataFrame({'Mean': june_mean, 'Sum': june_sum, 'Median': june_median, \n",
    "                             'Total Rides': june_rows}, index=[0])\n",
    "june_2019_df"
   ]
  },
  {
   "cell_type": "code",
   "execution_count": null,
   "id": "94d4e5c3",
   "metadata": {},
   "outputs": [],
   "source": [
    "#Dec 2019\n",
    "fare_amount = yt_dec_2019_df['fare_amount']\n",
    "dec_sum = fare_amount.sum()\n",
    "dec_mean = fare_amount.mean()\n",
    "dec_median = fare_amount.median()\n",
    "dec_rows = fare_amount.count()\n",
    "\n",
    "print(f'The total fare collected in Dec 2019 is ${dec_sum}')\n",
    "print(f'The mean fare collected in Dec 2019 is ${dec_mean}')\n",
    "print(f'The median fare collected in Dec 2019 is ${dec_median}')\n",
    "print(f'The amount of rides in Dec 2019 is {dec_rows}')\n",
    "\n",
    "dec_2019_df = pd.DataFrame({'Mean': dec_mean, 'Sum': dec_sum, 'Median': dec_median, \n",
    "                             'Total Rides': dec_rows}, index=[0])\n",
    "dec_2019_df"
   ]
  },
  {
   "cell_type": "code",
   "execution_count": null,
   "id": "ede5ae3c",
   "metadata": {},
   "outputs": [],
   "source": [
    "#inflation line\n",
    "june_inflation = june_15_mean + (june_15_mean * .094)\n",
    "june_inflation\n",
    "\n",
    "dec_inflation = dec_15_mean + (dec_15_mean * .094)\n",
    "dec_inflation\n",
    "\n",
    "print(f'Expected price for June 2019 is ${june_inflation}')\n",
    "print(f'Expected price for Dec 2019 is ${dec_inflation}')"
   ]
  },
  {
   "cell_type": "code",
   "execution_count": null,
   "id": "c87eeea5",
   "metadata": {},
   "outputs": [],
   "source": [
    "#mean line plot\n",
    "x_values = (\"June 2015\", \"Dec 2015\", \"June 2019\", \"Dec 2019\")\n",
    "y_values = (june_15_mean, dec_15_mean, june_mean, dec_mean)\n",
    "plt.plot(x_values, y_values, marker ='o', label=\"Actual Change\")\n",
    "plt.title('Average Fare Price per Month and Year')\n",
    "plt.ylabel('Average Fare Price ($)')\n",
    "plt.xlabel('Month and Year')\n",
    "\n",
    "#inflation line\n",
    "x_values2 = (\"June 2015\", \"Dec 2015\", \"June 2019\", \"Dec 2019\")\n",
    "y_values2 = (june_15_mean, dec_15_mean, june_inflation, dec_inflation)\n",
    "plt.plot(x_values2, y_values2, marker ='o', linestyle='--', label='Inflation Line')\n",
    "plt.grid()\n",
    "plt.ylim([8, 12])\n",
    "plt.legend()"
   ]
  },
  {
   "cell_type": "markdown",
   "id": "25c18a6c",
   "metadata": {},
   "source": [
    "# Ride duration"
   ]
  },
  {
   "cell_type": "code",
   "execution_count": null,
   "id": "f30cfb25",
   "metadata": {},
   "outputs": [],
   "source": []
  },
  {
   "cell_type": "markdown",
   "id": "5236ac11",
   "metadata": {},
   "source": [
    "# Ride times"
   ]
  },
  {
   "cell_type": "code",
<<<<<<< HEAD
   "execution_count": null,
   "id": "831c3f35",
=======
   "execution_count": 7,
   "id": "3b50c0c3",
>>>>>>> parent of e497473 (Update NYC_Taxi_RIdeshare_Final.ipynb)
   "metadata": {},
   "outputs": [
    {
     "ename": "NameError",
     "evalue": "name 'yt_june_2015_df' is not defined",
     "output_type": "error",
     "traceback": [
      "\u001b[0;31m---------------------------------------------------------------------------\u001b[0m",
      "\u001b[0;31mNameError\u001b[0m                                 Traceback (most recent call last)",
      "\u001b[0;32m/var/folders/w4/cz88rjkj0lg25jggxn27s8l40000gn/T/ipykernel_58258/2170201791.py\u001b[0m in \u001b[0;36m<module>\u001b[0;34m\u001b[0m\n\u001b[1;32m      3\u001b[0m \u001b[0;31m# yt_june_2015_df\u001b[0m\u001b[0;34m\u001b[0m\u001b[0;34m\u001b[0m\u001b[0m\n\u001b[1;32m      4\u001b[0m \u001b[0;34m\u001b[0m\u001b[0m\n\u001b[0;32m----> 5\u001b[0;31m \u001b[0myt_morning_june_15_df\u001b[0m \u001b[0;34m=\u001b[0m \u001b[0myt_june_2015_df\u001b[0m\u001b[0;34m.\u001b[0m\u001b[0mloc\u001b[0m\u001b[0;34m[\u001b[0m\u001b[0;34m(\u001b[0m\u001b[0myt_june_2015_df\u001b[0m\u001b[0;34m[\u001b[0m\u001b[0;34m'pickup_time'\u001b[0m\u001b[0;34m]\u001b[0m \u001b[0;34m>\u001b[0m \u001b[0;34m'05:00:00'\u001b[0m\u001b[0;34m)\u001b[0m \u001b[0;34m&\u001b[0m \u001b[0;34m(\u001b[0m\u001b[0myt_june_2015_df\u001b[0m\u001b[0;34m[\u001b[0m\u001b[0;34m'pickup_time'\u001b[0m\u001b[0;34m]\u001b[0m\u001b[0;34m<=\u001b[0m\u001b[0;34m'11:00:00'\u001b[0m\u001b[0;34m)\u001b[0m\u001b[0;34m]\u001b[0m\u001b[0;34m\u001b[0m\u001b[0;34m\u001b[0m\u001b[0m\n\u001b[0m\u001b[1;32m      6\u001b[0m \u001b[0myt_june_morn_count\u001b[0m \u001b[0;34m=\u001b[0m \u001b[0myt_morning_june_15_df\u001b[0m\u001b[0;34m.\u001b[0m\u001b[0mshape\u001b[0m\u001b[0;34m[\u001b[0m\u001b[0;36m0\u001b[0m\u001b[0;34m]\u001b[0m\u001b[0;34m\u001b[0m\u001b[0;34m\u001b[0m\u001b[0m\n\u001b[1;32m      7\u001b[0m \u001b[0;34m\u001b[0m\u001b[0m\n",
      "\u001b[0;31mNameError\u001b[0m: name 'yt_june_2015_df' is not defined"
     ]
    }
   ],
   "source": [
<<<<<<< HEAD
    "#2015 data"
=======
    "# Taxi Pick-ups for June 2015\n",
    "# Identify 4 different times of day and count the number of for vehicle rides that occur in each 6 hour interval\n",
    "# yt_june_2015_df\n",
    "\n",
    "yt_morning_june_15_df = yt_june_2015_df.loc[(yt_june_2015_df['pickup_time'] > '05:00:00') & (yt_june_2015_df['pickup_time']<='11:00:00')]\n",
    "yt_june_morn_count = yt_morning_june_15_df.shape[0]\n",
    "\n",
    "yt_day_june_15_df = yt_june_2015_df.loc[(yt_june_2015_df['pickup_time'] > '11:00:00') & (yt_june_2015_df['pickup_time']<='17:00:00')]\n",
    "yt_june_day_count = yt_day_june_15_df.shape[0]\n",
    "\n",
    "yt_evening_june_15_df = yt_june_2015_df.loc[(yt_june_2015_df['pickup_time'] > '17:00:00') & (yt_june_2015_df['pickup_time']<='23:00:00')]\n",
    "yt_june_eve_count = yt_evening_june_15_df.shape[0]\n",
    "\n",
    "yt_late_night_june_15_df = yt_june_2015_df.loc[(yt_june_2015_df['pickup_time'] > '23:00:00')]\n",
    "yt_june_ln_count = yt_late_night_june_15_df.shape[0]\n",
    "\n",
    "yt_later_night_june_15_df = yt_june_2015_df.loc[(yt_june_2015_df['pickup_time'] <= '05:00:00')]\n",
    "yt_june_lrn_count = yt_later_night_june_15_df.shape[0]\n",
    "\n",
    "yt_june_afthrs_count = yt_june_lrn_count + yt_june_ln_count"
>>>>>>> parent of e497473 (Update NYC_Taxi_RIdeshare_Final.ipynb)
   ]
  },
  {
   "cell_type": "code",
<<<<<<< HEAD
   "execution_count": null,
   "id": "22e4069f",
=======
   "execution_count": 8,
   "id": "8ce1fbe2",
>>>>>>> parent of e497473 (Update NYC_Taxi_RIdeshare_Final.ipynb)
   "metadata": {},
   "outputs": [
    {
     "ename": "NameError",
     "evalue": "name 'yt_dec_2015_df' is not defined",
     "output_type": "error",
     "traceback": [
      "\u001b[0;31m---------------------------------------------------------------------------\u001b[0m",
      "\u001b[0;31mNameError\u001b[0m                                 Traceback (most recent call last)",
      "\u001b[0;32m/var/folders/w4/cz88rjkj0lg25jggxn27s8l40000gn/T/ipykernel_58258/287545210.py\u001b[0m in \u001b[0;36m<module>\u001b[0;34m\u001b[0m\n\u001b[1;32m      3\u001b[0m \u001b[0;31m# yt_dec_2015_df\u001b[0m\u001b[0;34m\u001b[0m\u001b[0;34m\u001b[0m\u001b[0m\n\u001b[1;32m      4\u001b[0m \u001b[0;34m\u001b[0m\u001b[0m\n\u001b[0;32m----> 5\u001b[0;31m \u001b[0myt_morning_dec_15_df\u001b[0m \u001b[0;34m=\u001b[0m \u001b[0myt_dec_2015_df\u001b[0m\u001b[0;34m.\u001b[0m\u001b[0mloc\u001b[0m\u001b[0;34m[\u001b[0m\u001b[0;34m(\u001b[0m\u001b[0myt_dec_2015_df\u001b[0m\u001b[0;34m[\u001b[0m\u001b[0;34m'pickup_time'\u001b[0m\u001b[0;34m]\u001b[0m \u001b[0;34m>\u001b[0m \u001b[0;34m'05:00:00'\u001b[0m\u001b[0;34m)\u001b[0m \u001b[0;34m&\u001b[0m \u001b[0;34m(\u001b[0m\u001b[0myt_dec_2015_df\u001b[0m\u001b[0;34m[\u001b[0m\u001b[0;34m'pickup_time'\u001b[0m\u001b[0;34m]\u001b[0m\u001b[0;34m<=\u001b[0m\u001b[0;34m'11:00:00'\u001b[0m\u001b[0;34m)\u001b[0m\u001b[0;34m]\u001b[0m\u001b[0;34m\u001b[0m\u001b[0;34m\u001b[0m\u001b[0m\n\u001b[0m\u001b[1;32m      6\u001b[0m \u001b[0myt_dec_morn_count\u001b[0m \u001b[0;34m=\u001b[0m \u001b[0myt_morning_dec_15_df\u001b[0m\u001b[0;34m.\u001b[0m\u001b[0mshape\u001b[0m\u001b[0;34m[\u001b[0m\u001b[0;36m0\u001b[0m\u001b[0;34m]\u001b[0m\u001b[0;34m\u001b[0m\u001b[0;34m\u001b[0m\u001b[0m\n\u001b[1;32m      7\u001b[0m \u001b[0;34m\u001b[0m\u001b[0m\n",
      "\u001b[0;31mNameError\u001b[0m: name 'yt_dec_2015_df' is not defined"
     ]
    }
   ],
   "source": [
    "# For Hire Vehicles Pick-ups for June 2015\n",
    "# Identify 4 different times of day and count the number of for vehicle rides that occur in each 6 hour interval\n",
    "# fvh_june_2015_df\n",
    "\n",
<<<<<<< HEAD
    "fhv_morning_june_15_df = fhv_june_2015_df.loc[(fhv_june_2015_df['pickup_time'] > '05:00:00') & (fhv_june_2015_df['pickup_time']<='11:00:00')]\n",
    "fhv_june_morn_count = fhv_morning_june_15_df.shape[0]\n",
    "\n",
    "fhv_day_june_15_df = fhv_june_2015_df.loc[(fhv_june_2015_df['pickup_time'] > '11:00:00') & (fhv_june_2015_df['pickup_time']<='17:00:00')]\n",
    "fhv_june_day_count = fhv_day_june_15_df.shape[0]\n",
    "\n",
    "fhv_evening_june_15_df = fhv_june_2015_df.loc[(fhv_june_2015_df['pickup_time'] > '17:00:00') & (fhv_june_2015_df['pickup_time']<='23:00:00')]\n",
    "fhv_june_eve_count = fhv_evening_june_15_df.shape[0]\n",
    "\n",
    "fhv_late_night_june_15_df = fhv_june_2015_df.loc[(fhv_june_2015_df['pickup_time'] > '23:00:00')]\n",
    "fhv_june_ln_count = fhv_late_night_june_15_df.shape[0]\n",
    "\n",
    "fhv_later_night_june_15_df = fhv_june_2015_df.loc[(fhv_june_2015_df['pickup_time'] <= '05:00:00')]\n",
    "fhv_june_lrn_count = fhv_later_night_june_15_df.shape[0]\n",
=======
    "yt_morning_dec_15_df = yt_dec_2015_df.loc[(yt_dec_2015_df['pickup_time'] > '05:00:00') & (yt_dec_2015_df['pickup_time']<='11:00:00')]\n",
    "yt_dec_morn_count = yt_morning_dec_15_df.shape[0]\n",
    "\n",
    "yt_day_dec_15_df = yt_dec_2015_df.loc[(yt_dec_2015_df['pickup_time'] > '11:00:00') & (yt_dec_2015_df['pickup_time']<='17:00:00')]\n",
    "yt_dec_day_count = yt_day_dec_15_df.shape[0]\n",
    "\n",
    "yt_evening_dec_15_df = yt_dec_2015_df.loc[(yt_dec_2015_df['pickup_time'] > '17:00:00') & (yt_dec_2015_df['pickup_time']<='23:00:00')]\n",
    "yt_dec_eve_count = yt_evening_dec_15_df.shape[0]\n",
    "\n",
    "yt_late_night_dec_15_df = yt_dec_2015_df.loc[(yt_dec_2015_df['pickup_time'] > '23:00:00')]\n",
    "yt_dec_ln_count = yt_late_night_dec_15_df.shape[0]\n",
    "\n",
    "yt_later_night_dec_15_df = yt_dec_2015_df.loc[(yt_dec_2015_df['pickup_time'] <= '05:00:00')]\n",
    "yt_dec_lrn_count = yt_later_night_dec_15_df.shape[0]\n",
>>>>>>> parent of e497473 (Update NYC_Taxi_RIdeshare_Final.ipynb)
    "\n",
    "fhv_june_afthrs_count = fhv_june_lrn_count + fhv_june_ln_count"
   ]
  },
  {
   "cell_type": "code",
<<<<<<< HEAD
   "execution_count": null,
   "id": "36d980e7",
=======
   "execution_count": 9,
   "id": "22e4069f",
   "metadata": {},
   "outputs": [
    {
     "ename": "NameError",
     "evalue": "name 'fhv_june_2015_df' is not defined",
     "output_type": "error",
     "traceback": [
      "\u001b[0;31m---------------------------------------------------------------------------\u001b[0m",
      "\u001b[0;31mNameError\u001b[0m                                 Traceback (most recent call last)",
      "\u001b[0;32m/var/folders/w4/cz88rjkj0lg25jggxn27s8l40000gn/T/ipykernel_58258/737409590.py\u001b[0m in \u001b[0;36m<module>\u001b[0;34m\u001b[0m\n\u001b[1;32m      3\u001b[0m \u001b[0;31m# fvh_june_2015_df\u001b[0m\u001b[0;34m\u001b[0m\u001b[0;34m\u001b[0m\u001b[0m\n\u001b[1;32m      4\u001b[0m \u001b[0;34m\u001b[0m\u001b[0m\n\u001b[0;32m----> 5\u001b[0;31m \u001b[0mfhv_morning_june_15_df\u001b[0m \u001b[0;34m=\u001b[0m \u001b[0mfhv_june_2015_df\u001b[0m\u001b[0;34m.\u001b[0m\u001b[0mloc\u001b[0m\u001b[0;34m[\u001b[0m\u001b[0;34m(\u001b[0m\u001b[0mfhv_june_2015_df\u001b[0m\u001b[0;34m[\u001b[0m\u001b[0;34m'pickup_time'\u001b[0m\u001b[0;34m]\u001b[0m \u001b[0;34m>\u001b[0m \u001b[0;34m'05:00:00'\u001b[0m\u001b[0;34m)\u001b[0m \u001b[0;34m&\u001b[0m \u001b[0;34m(\u001b[0m\u001b[0mfhv_june_2015_df\u001b[0m\u001b[0;34m[\u001b[0m\u001b[0;34m'pickup_time'\u001b[0m\u001b[0;34m]\u001b[0m\u001b[0;34m<=\u001b[0m\u001b[0;34m'11:00:00'\u001b[0m\u001b[0;34m)\u001b[0m\u001b[0;34m]\u001b[0m\u001b[0;34m\u001b[0m\u001b[0;34m\u001b[0m\u001b[0m\n\u001b[0m\u001b[1;32m      6\u001b[0m \u001b[0mfhv_june_morn_count\u001b[0m \u001b[0;34m=\u001b[0m \u001b[0mfhv_morning_june_15_df\u001b[0m\u001b[0;34m.\u001b[0m\u001b[0mshape\u001b[0m\u001b[0;34m[\u001b[0m\u001b[0;36m0\u001b[0m\u001b[0;34m]\u001b[0m\u001b[0;34m\u001b[0m\u001b[0;34m\u001b[0m\u001b[0m\n\u001b[1;32m      7\u001b[0m \u001b[0;34m\u001b[0m\u001b[0m\n",
      "\u001b[0;31mNameError\u001b[0m: name 'fhv_june_2015_df' is not defined"
     ]
    }
   ],
   "source": [
    "# For Hire Vehicles Pick-ups for June 2015\n",
    "# Identify 4 different times of day and count the number of for vehicle rides that occur in each 6 hour interval\n",
    "# fvh_june_2015_df\n",
    "\n",
    "fhv_morning_june_15_df = fhv_june_2015_df.loc[(fhv_june_2015_df['pickup_time'] > '05:00:00') & (fhv_june_2015_df['pickup_time']<='11:00:00')]\n",
    "fhv_june_morn_count = fhv_morning_june_15_df.shape[0]\n",
    "\n",
    "fhv_day_june_15_df = fhv_june_2015_df.loc[(fhv_june_2015_df['pickup_time'] > '11:00:00') & (fhv_june_2015_df['pickup_time']<='17:00:00')]\n",
    "fhv_june_day_count = fhv_day_june_15_df.shape[0]\n",
    "\n",
    "fhv_evening_june_15_df = fhv_june_2015_df.loc[(fhv_june_2015_df['pickup_time'] > '17:00:00') & (fhv_june_2015_df['pickup_time']<='23:00:00')]\n",
    "fhv_june_eve_count = fhv_evening_june_15_df.shape[0]\n",
    "\n",
    "fhv_late_night_june_15_df = fhv_june_2015_df.loc[(fhv_june_2015_df['pickup_time'] > '23:00:00')]\n",
    "fhv_june_ln_count = fhv_late_night_june_15_df.shape[0]\n",
    "\n",
    "fhv_later_night_june_15_df = fhv_june_2015_df.loc[(fhv_june_2015_df['pickup_time'] <= '05:00:00')]\n",
    "fhv_june_lrn_count = fhv_later_night_june_15_df.shape[0]\n",
    "\n",
    "fhv_june_afthrs_count = fhv_june_lrn_count + fhv_june_ln_count"
   ]
  },
  {
   "cell_type": "code",
   "execution_count": 10,
   "id": "cae97b9b",
>>>>>>> parent of e497473 (Update NYC_Taxi_RIdeshare_Final.ipynb)
   "metadata": {},
   "outputs": [
    {
     "ename": "NameError",
     "evalue": "name 'fhv_dec_2015_df' is not defined",
     "output_type": "error",
     "traceback": [
      "\u001b[0;31m---------------------------------------------------------------------------\u001b[0m",
      "\u001b[0;31mNameError\u001b[0m                                 Traceback (most recent call last)",
      "\u001b[0;32m/var/folders/w4/cz88rjkj0lg25jggxn27s8l40000gn/T/ipykernel_58258/1147714803.py\u001b[0m in \u001b[0;36m<module>\u001b[0;34m\u001b[0m\n\u001b[1;32m      3\u001b[0m \u001b[0;31m# fhv_dec_2015_df\u001b[0m\u001b[0;34m\u001b[0m\u001b[0;34m\u001b[0m\u001b[0m\n\u001b[1;32m      4\u001b[0m \u001b[0;34m\u001b[0m\u001b[0m\n\u001b[0;32m----> 5\u001b[0;31m \u001b[0mfhv_morning_dec_15_df\u001b[0m \u001b[0;34m=\u001b[0m \u001b[0mfhv_dec_2015_df\u001b[0m\u001b[0;34m.\u001b[0m\u001b[0mloc\u001b[0m\u001b[0;34m[\u001b[0m\u001b[0;34m(\u001b[0m\u001b[0mfhv_dec_2015_df\u001b[0m\u001b[0;34m[\u001b[0m\u001b[0;34m'pickup_time'\u001b[0m\u001b[0;34m]\u001b[0m \u001b[0;34m>\u001b[0m \u001b[0;34m'05:00:00'\u001b[0m\u001b[0;34m)\u001b[0m \u001b[0;34m&\u001b[0m \u001b[0;34m(\u001b[0m\u001b[0mfhv_dec_2015_df\u001b[0m\u001b[0;34m[\u001b[0m\u001b[0;34m'pickup_time'\u001b[0m\u001b[0;34m]\u001b[0m\u001b[0;34m<=\u001b[0m\u001b[0;34m'11:00:00'\u001b[0m\u001b[0;34m)\u001b[0m\u001b[0;34m]\u001b[0m\u001b[0;34m\u001b[0m\u001b[0;34m\u001b[0m\u001b[0m\n\u001b[0m\u001b[1;32m      6\u001b[0m \u001b[0mfhv_dec_morn_count\u001b[0m \u001b[0;34m=\u001b[0m \u001b[0mfhv_morning_dec_15_df\u001b[0m\u001b[0;34m.\u001b[0m\u001b[0mshape\u001b[0m\u001b[0;34m[\u001b[0m\u001b[0;36m0\u001b[0m\u001b[0;34m]\u001b[0m\u001b[0;34m\u001b[0m\u001b[0;34m\u001b[0m\u001b[0m\n\u001b[1;32m      7\u001b[0m \u001b[0;34m\u001b[0m\u001b[0m\n",
      "\u001b[0;31mNameError\u001b[0m: name 'fhv_dec_2015_df' is not defined"
     ]
    }
   ],
   "source": [
    "# For Hire Vehicles Pick-ups for December 2015\n",
    "# Identify 4 different times of day and count the number of for hire rides that occur in each 6 hour interval\n",
    "# fhv_dec_2015_df\n",
    "\n",
    "fhv_morning_dec_15_df = fhv_dec_2015_df.loc[(fhv_dec_2015_df['pickup_time'] > '05:00:00') & (fhv_dec_2015_df['pickup_time']<='11:00:00')]\n",
    "fhv_dec_morn_count = fhv_morning_dec_15_df.shape[0]\n",
    "\n",
    "fhv_day_dec_15_df = fhv_dec_2015_df.loc[(fhv_dec_2015_df['pickup_time'] > '11:00:00') & (fhv_dec_2015_df['pickup_time']<='17:00:00')]\n",
    "fhv_dec_day_count = fhv_day_dec_15_df.shape[0]\n",
    "\n",
    "fhv_evening_dec_15_df = fhv_dec_2015_df.loc[(fhv_dec_2015_df['pickup_time'] > '17:00:00') & (fhv_dec_2015_df['pickup_time']<='23:00:00')]\n",
    "fhv_dec_eve_count = fhv_evening_dec_15_df.shape[0]\n",
    "\n",
    "fhv_late_night_dec_15_df = fhv_dec_2015_df.loc[(fhv_dec_2015_df['pickup_time'] > '23:00:00')]\n",
    "fhv_dec_ln_count = fhv_late_night_dec_15_df.shape[0]\n",
    "\n",
    "fhv_later_night_dec_15_df = fhv_dec_2015_df.loc[(fhv_dec_2015_df['pickup_time'] <= '05:00:00')]\n",
    "fhv_dec_lrn_count = fhv_later_night_dec_15_df.shape[0]\n",
    "\n",
    "fhv_dec_afthrs_count = fhv_dec_lrn_count + fhv_dec_ln_count"
   ]
  },
  {
   "cell_type": "code",
<<<<<<< HEAD
   "execution_count": null,
   "id": "b96c55af",
=======
   "execution_count": 11,
   "id": "b90b258d",
>>>>>>> parent of e497473 (Update NYC_Taxi_RIdeshare_Final.ipynb)
   "metadata": {},
   "outputs": [
    {
     "ename": "NameError",
     "evalue": "name 'hv_june_2019_df' is not defined",
     "output_type": "error",
     "traceback": [
      "\u001b[0;31m---------------------------------------------------------------------------\u001b[0m",
      "\u001b[0;31mNameError\u001b[0m                                 Traceback (most recent call last)",
      "\u001b[0;32m/var/folders/w4/cz88rjkj0lg25jggxn27s8l40000gn/T/ipykernel_58258/4061767824.py\u001b[0m in \u001b[0;36m<module>\u001b[0;34m\u001b[0m\n\u001b[1;32m      3\u001b[0m \u001b[0;31m# hv_june_2019_df\u001b[0m\u001b[0;34m\u001b[0m\u001b[0;34m\u001b[0m\u001b[0m\n\u001b[1;32m      4\u001b[0m \u001b[0;34m\u001b[0m\u001b[0m\n\u001b[0;32m----> 5\u001b[0;31m \u001b[0mhv_morning_june_19_df\u001b[0m \u001b[0;34m=\u001b[0m \u001b[0mhv_june_2019_df\u001b[0m\u001b[0;34m.\u001b[0m\u001b[0mloc\u001b[0m\u001b[0;34m[\u001b[0m\u001b[0;34m(\u001b[0m\u001b[0mhv_june_2019_df\u001b[0m\u001b[0;34m[\u001b[0m\u001b[0;34m'pickup_time'\u001b[0m\u001b[0;34m]\u001b[0m \u001b[0;34m>\u001b[0m \u001b[0;34m'05:00:00'\u001b[0m\u001b[0;34m)\u001b[0m \u001b[0;34m&\u001b[0m \u001b[0;34m(\u001b[0m\u001b[0mhv_june_2019_df\u001b[0m\u001b[0;34m[\u001b[0m\u001b[0;34m'pickup_time'\u001b[0m\u001b[0;34m]\u001b[0m\u001b[0;34m<=\u001b[0m\u001b[0;34m'11:00:00'\u001b[0m\u001b[0;34m)\u001b[0m\u001b[0;34m]\u001b[0m\u001b[0;34m\u001b[0m\u001b[0;34m\u001b[0m\u001b[0m\n\u001b[0m\u001b[1;32m      6\u001b[0m \u001b[0mhv_june_morn_count\u001b[0m \u001b[0;34m=\u001b[0m \u001b[0mhv_morning_june_19_df\u001b[0m\u001b[0;34m.\u001b[0m\u001b[0mshape\u001b[0m\u001b[0;34m[\u001b[0m\u001b[0;36m0\u001b[0m\u001b[0;34m]\u001b[0m\u001b[0;34m\u001b[0m\u001b[0;34m\u001b[0m\u001b[0m\n\u001b[1;32m      7\u001b[0m \u001b[0;34m\u001b[0m\u001b[0m\n",
      "\u001b[0;31mNameError\u001b[0m: name 'hv_june_2019_df' is not defined"
     ]
    }
   ],
   "source": [
    "# High Volume for Hire Vehicles Pick-ups for June 2019\n",
    "# Identify 4 different times of day and count the number of high volume for vehicle rides that occur in each 6 hour interval\n",
    "# hv_june_2019_df\n",
    "\n",
    "hv_morning_june_19_df = hv_june_2019_df.loc[(hv_june_2019_df['pickup_time'] > '05:00:00') & (hv_june_2019_df['pickup_time']<='11:00:00')]\n",
    "hv_june_morn_count = hv_morning_june_19_df.shape[0]\n",
    "\n",
    "hv_day_june_19_df = hv_june_2019_df.loc[(hv_june_2019_df['pickup_time'] > '11:00:00') & (hv_june_2019_df['pickup_time']<='17:00:00')]\n",
    "hv_june_day_count = hv_day_june_19_df.shape[0]\n",
    "\n",
    "hv_evening_june_19_df = hv_june_2019_df.loc[(hv_june_2019_df['pickup_time'] > '17:00:00') & (hv_june_2019_df['pickup_time']<='23:00:00')]\n",
    "hv_june_eve_count = hv_evening_june_19_df.shape[0]\n",
    "\n",
    "hv_late_night_june_19_df = hv_june_2019_df.loc[(hv_june_2019_df['pickup_time'] > '23:00:00')]\n",
    "hv_june_ln_count = hv_late_night_june_19_df.shape[0]\n",
    "\n",
    "hv_later_night_june_19_df = hv_june_2019_df.loc[(hv_june_2019_df['pickup_time'] <= '05:00:00')]\n",
    "hv_june_lrn_count = hv_later_night_june_19_df.shape[0]\n",
    "\n",
    "hv_june_afthrs_count = hv_june_lrn_count + hv_june_ln_count"
   ]
  },
  {
   "cell_type": "code",
<<<<<<< HEAD
   "execution_count": null,
   "id": "52e26bf4",
=======
   "execution_count": 12,
   "id": "6a832af1",
>>>>>>> parent of e497473 (Update NYC_Taxi_RIdeshare_Final.ipynb)
   "metadata": {},
   "outputs": [
    {
     "ename": "NameError",
     "evalue": "name 'hv_dec_2019_df' is not defined",
     "output_type": "error",
     "traceback": [
      "\u001b[0;31m---------------------------------------------------------------------------\u001b[0m",
      "\u001b[0;31mNameError\u001b[0m                                 Traceback (most recent call last)",
      "\u001b[0;32m/var/folders/w4/cz88rjkj0lg25jggxn27s8l40000gn/T/ipykernel_58258/3220070839.py\u001b[0m in \u001b[0;36m<module>\u001b[0;34m\u001b[0m\n\u001b[1;32m      3\u001b[0m \u001b[0;31m# hv_dec_2019_df\u001b[0m\u001b[0;34m\u001b[0m\u001b[0;34m\u001b[0m\u001b[0m\n\u001b[1;32m      4\u001b[0m \u001b[0;34m\u001b[0m\u001b[0m\n\u001b[0;32m----> 5\u001b[0;31m \u001b[0mhv_morning_dec_19_df\u001b[0m \u001b[0;34m=\u001b[0m \u001b[0mhv_dec_2019_df\u001b[0m\u001b[0;34m.\u001b[0m\u001b[0mloc\u001b[0m\u001b[0;34m[\u001b[0m\u001b[0;34m(\u001b[0m\u001b[0mhv_dec_2019_df\u001b[0m\u001b[0;34m[\u001b[0m\u001b[0;34m'pickup_time'\u001b[0m\u001b[0;34m]\u001b[0m \u001b[0;34m>\u001b[0m \u001b[0;34m'05:00:00'\u001b[0m\u001b[0;34m)\u001b[0m \u001b[0;34m&\u001b[0m \u001b[0;34m(\u001b[0m\u001b[0mhv_dec_2019_df\u001b[0m\u001b[0;34m[\u001b[0m\u001b[0;34m'pickup_time'\u001b[0m\u001b[0;34m]\u001b[0m\u001b[0;34m<=\u001b[0m\u001b[0;34m'11:00:00'\u001b[0m\u001b[0;34m)\u001b[0m\u001b[0;34m]\u001b[0m\u001b[0;34m\u001b[0m\u001b[0;34m\u001b[0m\u001b[0m\n\u001b[0m\u001b[1;32m      6\u001b[0m \u001b[0mhv_dec_morn_count\u001b[0m \u001b[0;34m=\u001b[0m \u001b[0mhv_morning_dec_19_df\u001b[0m\u001b[0;34m.\u001b[0m\u001b[0mshape\u001b[0m\u001b[0;34m[\u001b[0m\u001b[0;36m0\u001b[0m\u001b[0;34m]\u001b[0m\u001b[0;34m\u001b[0m\u001b[0;34m\u001b[0m\u001b[0m\n\u001b[1;32m      7\u001b[0m \u001b[0;34m\u001b[0m\u001b[0m\n",
      "\u001b[0;31mNameError\u001b[0m: name 'hv_dec_2019_df' is not defined"
     ]
    }
   ],
   "source": [
    "# High Volume for Hire Vehicles Pick-ups for December 2019\n",
    "# Identify 4 different times of day and count the number of high volume for vehicle rides that occur in each 6 hour interval\n",
    "# hv_dec_2019_df\n",
    "\n",
    "hv_morning_dec_19_df = hv_dec_2019_df.loc[(hv_dec_2019_df['pickup_time'] > '05:00:00') & (hv_dec_2019_df['pickup_time']<='11:00:00')]\n",
    "hv_dec_morn_count = hv_morning_dec_19_df.shape[0]\n",
    "\n",
    "hv_day_dec_19_df = hv_dec_2019_df.loc[(hv_dec_2019_df['pickup_time'] > '11:00:00') & (hv_dec_2019_df['pickup_time']<='17:00:00')]\n",
    "hv_dec_day_count = hv_day_dec_19_df.shape[0]\n",
    "\n",
    "hv_evening_dec_19_df = hv_dec_2019_df.loc[(hv_dec_2019_df['pickup_time'] > '17:00:00') & (hv_dec_2019_df['pickup_time']<='23:00:00')]\n",
    "hv_dec_eve_count = hv_evening_dec_19_df.shape[0]\n",
    "\n",
    "hv_late_night_dec_19_df = hv_dec_2019_df.loc[(hv_dec_2019_df['pickup_time'] > '23:00:00')]\n",
    "hv_dec_ln_count = hv_late_night_dec_19_df.shape[0]\n",
    "\n",
    "hv_later_night_dec_19_df = hv_dec_2019_df.loc[(hv_dec_2019_df['pickup_time'] <= '05:00:00')]\n",
    "hv_dec_lrn_count = hv_later_night_dec_19_df.shape[0]\n",
    "\n",
    "hv_dec_afthrs_count = hv_dec_lrn_count + hv_dec_ln_count"
   ]
  },
  {
   "cell_type": "code",
<<<<<<< HEAD
   "execution_count": null,
   "id": "d42773ee",
=======
   "execution_count": 13,
   "id": "2cdf5eb2",
>>>>>>> parent of e497473 (Update NYC_Taxi_RIdeshare_Final.ipynb)
   "metadata": {},
   "outputs": [
    {
     "ename": "NameError",
     "evalue": "name 'yt_june_2019_df' is not defined",
     "output_type": "error",
     "traceback": [
      "\u001b[0;31m---------------------------------------------------------------------------\u001b[0m",
      "\u001b[0;31mNameError\u001b[0m                                 Traceback (most recent call last)",
      "\u001b[0;32m/var/folders/w4/cz88rjkj0lg25jggxn27s8l40000gn/T/ipykernel_58258/1200004252.py\u001b[0m in \u001b[0;36m<module>\u001b[0;34m\u001b[0m\n\u001b[1;32m      3\u001b[0m \u001b[0;31m#yt_dec_2019_df\u001b[0m\u001b[0;34m\u001b[0m\u001b[0;34m\u001b[0m\u001b[0m\n\u001b[1;32m      4\u001b[0m \u001b[0;34m\u001b[0m\u001b[0m\n\u001b[0;32m----> 5\u001b[0;31m \u001b[0myt_morning_june_19_df\u001b[0m \u001b[0;34m=\u001b[0m \u001b[0myt_june_2019_df\u001b[0m\u001b[0;34m.\u001b[0m\u001b[0mloc\u001b[0m\u001b[0;34m[\u001b[0m\u001b[0;34m(\u001b[0m\u001b[0myt_june_2019_df\u001b[0m\u001b[0;34m[\u001b[0m\u001b[0;34m'pickup_time'\u001b[0m\u001b[0;34m]\u001b[0m \u001b[0;34m>\u001b[0m \u001b[0;34m'05:00:00'\u001b[0m\u001b[0;34m)\u001b[0m \u001b[0;34m&\u001b[0m \u001b[0;34m(\u001b[0m\u001b[0myt_june_2019_df\u001b[0m\u001b[0;34m[\u001b[0m\u001b[0;34m'pickup_time'\u001b[0m\u001b[0;34m]\u001b[0m\u001b[0;34m<=\u001b[0m\u001b[0;34m'11:00:00'\u001b[0m\u001b[0;34m)\u001b[0m\u001b[0;34m]\u001b[0m\u001b[0;34m\u001b[0m\u001b[0;34m\u001b[0m\u001b[0m\n\u001b[0m\u001b[1;32m      6\u001b[0m \u001b[0myt_june_morn_count\u001b[0m \u001b[0;34m=\u001b[0m \u001b[0myt_morning_june_19_df\u001b[0m\u001b[0;34m.\u001b[0m\u001b[0mshape\u001b[0m\u001b[0;34m[\u001b[0m\u001b[0;36m0\u001b[0m\u001b[0;34m]\u001b[0m\u001b[0;34m\u001b[0m\u001b[0;34m\u001b[0m\u001b[0m\n\u001b[1;32m      7\u001b[0m \u001b[0;34m\u001b[0m\u001b[0m\n",
      "\u001b[0;31mNameError\u001b[0m: name 'yt_june_2019_df' is not defined"
     ]
    }
   ],
   "source": [
    "# Yellow Taxi Pick-ups for June 2019\n",
    "# Identify 4 different times of day and count the number of taxi rides that occur in each 6 hour interval\n",
    "#yt_dec_2019_df\n",
    "\n",
    "yt_morning_june_19_df = yt_june_2019_df.loc[(yt_june_2019_df['pickup_time'] > '05:00:00') & (yt_june_2019_df['pickup_time']<='11:00:00')]\n",
    "yt_june_morn_count = yt_morning_june_19_df.shape[0]\n",
    "\n",
    "yt_day_june_19_df = yt_june_2019_df.loc[(yt_june_2019_df['pickup_time'] > '11:00:00') & (yt_june_2019_df['pickup_time']<='17:00:00')]\n",
    "yt_june_day_count = yt_day_june_19_df.shape[0]\n",
    "\n",
    "yt_evening_june_19_df = yt_june_2019_df.loc[(yt_june_2019_df['pickup_time'] > '17:00:00') & (yt_june_2019_df['pickup_time']<='23:00:00')]\n",
    "yt_june_eve_count = yt_evening_june_19_df.shape[0]\n",
    "\n",
    "yt_late_night_june_19_df = yt_june_2019_df.loc[(yt_june_2019_df['pickup_time'] > '23:00:00')]\n",
    "yt_june_ln_count = yt_late_night_june_19_df.shape[0]\n",
    "\n",
    "yt_later_night_june_19_df = yt_june_2019_df.loc[(yt_june_2019_df['pickup_time'] <= '05:00:00')]\n",
    "yt_june_lrn_count = yt_later_night_june_19_df.shape[0]\n",
    "\n",
    "yt_june_afthrs_count = yt_june_lrn_count + yt_june_ln_count"
   ]
  },
  {
   "cell_type": "code",
<<<<<<< HEAD
   "execution_count": null,
   "id": "d992f2c8",
   "metadata": {},
   "outputs": [],
=======
   "execution_count": 14,
   "id": "4474fa6b",
   "metadata": {},
   "outputs": [
    {
     "ename": "NameError",
     "evalue": "name 'fhv_june_morn_count' is not defined",
     "output_type": "error",
     "traceback": [
      "\u001b[0;31m---------------------------------------------------------------------------\u001b[0m",
      "\u001b[0;31mNameError\u001b[0m                                 Traceback (most recent call last)",
      "\u001b[0;32m/var/folders/w4/cz88rjkj0lg25jggxn27s8l40000gn/T/ipykernel_58258/2507366593.py\u001b[0m in \u001b[0;36m<module>\u001b[0;34m\u001b[0m\n\u001b[1;32m      1\u001b[0m \u001b[0;31m# Plot bar chart to compare yellow cabs & for hire vehicles in June of 2015\u001b[0m\u001b[0;34m\u001b[0m\u001b[0;34m\u001b[0m\u001b[0m\n\u001b[1;32m      2\u001b[0m \u001b[0;34m\u001b[0m\u001b[0m\n\u001b[0;32m----> 3\u001b[0;31m \u001b[0mfhv_June_2015\u001b[0m \u001b[0;34m=\u001b[0m \u001b[0;34m[\u001b[0m\u001b[0mfhv_june_morn_count\u001b[0m\u001b[0;34m,\u001b[0m \u001b[0mfhv_june_day_count\u001b[0m\u001b[0;34m,\u001b[0m \u001b[0mfhv_june_eve_count\u001b[0m\u001b[0;34m,\u001b[0m \u001b[0mfhv_june_afthrs_count\u001b[0m\u001b[0;34m]\u001b[0m\u001b[0;34m\u001b[0m\u001b[0;34m\u001b[0m\u001b[0m\n\u001b[0m\u001b[1;32m      4\u001b[0m \u001b[0myt_June_2015\u001b[0m \u001b[0;34m=\u001b[0m \u001b[0;34m[\u001b[0m\u001b[0myt_june_morn_count\u001b[0m\u001b[0;34m,\u001b[0m \u001b[0myt_june_day_count\u001b[0m\u001b[0;34m,\u001b[0m \u001b[0myt_june_eve_count\u001b[0m\u001b[0;34m,\u001b[0m \u001b[0myt_june_afthrs_count\u001b[0m\u001b[0;34m]\u001b[0m\u001b[0;34m\u001b[0m\u001b[0;34m\u001b[0m\u001b[0m\n\u001b[1;32m      5\u001b[0m \u001b[0mindex\u001b[0m \u001b[0;34m=\u001b[0m \u001b[0;34m[\u001b[0m\u001b[0;34m\"5am-11am\"\u001b[0m\u001b[0;34m,\u001b[0m \u001b[0;34m\"11am-5pm\"\u001b[0m\u001b[0;34m,\u001b[0m \u001b[0;34m\"5pm-11pm\"\u001b[0m\u001b[0;34m,\u001b[0m \u001b[0;34m\"11pm-5am\"\u001b[0m\u001b[0;34m]\u001b[0m\u001b[0;34m\u001b[0m\u001b[0;34m\u001b[0m\u001b[0m\n",
      "\u001b[0;31mNameError\u001b[0m: name 'fhv_june_morn_count' is not defined"
     ]
    }
   ],
   "source": [
    "# Plot bar chart to compare yellow cabs & for hire vehicles in June of 2015\n",
    "\n",
    "fhv_June_2015 = [fhv_june_morn_count, fhv_june_day_count, fhv_june_eve_count, fhv_june_afthrs_count]\n",
    "yt_June_2015 = [yt_june_morn_count, yt_june_day_count, yt_june_eve_count, yt_june_afthrs_count]\n",
    "index = [\"5am-11am\", \"11am-5pm\", \"5pm-11pm\", \"11pm-5am\"]\n",
    "df = pd.DataFrame({'Taxis': yt_June_2015,\n",
    "                   'For Hire': fhv_June_2015}, index=index)\n",
    "\n",
    "df.plot.bar(rot=0)\n",
    "plt.title(\"For Hire vs Taxis in Manhattan - June 2015\")\n",
    "plt.ylabel(\"Number of Pickups\")\n",
    "plt.xlabel(\"Time of Day\")\n",
    "plt.axhline(y = 50000, color = '0', linestyle = 'dashed')\n",
    "\n",
    "# Plot bar chart to compare yellow cabs & for hire vehicles in December of 2015\n",
    "\n",
    "fhv_Dec_2015 = [fhv_dec_morn_count, fhv_dec_day_count, fhv_dec_eve_count, fhv_dec_afthrs_count]\n",
    "yt_Dec_2015 = [yt_dec_morn_count, yt_dec_day_count, yt_dec_eve_count, yt_dec_afthrs_count]\n",
    "index = [\"5am-11am\", \"11am-5pm\", \"5pm-11pm\", \"11pm-5am\"]\n",
    "df = pd.DataFrame({'Taxis': yt_Dec_2015,\n",
    "                   'For Hire': fhv_Dec_2015}, index=index)\n",
    "\n",
    "\n",
    "df.plot.bar(rot=0)\n",
    "plt.title(\"For Hire vs Taxis in Manhattan - December 2015\")\n",
    "plt.ylabel(\"Number of Pickups\")\n",
    "plt.xlabel(\"Time of Day\")\n",
    "plt.axhline(y = 50000, color = '0', linestyle = 'dashed')"
   ]
  },
  {
   "cell_type": "code",
   "execution_count": 15,
   "id": "b297c414",
   "metadata": {},
   "outputs": [
    {
     "ename": "NameError",
     "evalue": "name 'hv_june_morn_count' is not defined",
     "output_type": "error",
     "traceback": [
      "\u001b[0;31m---------------------------------------------------------------------------\u001b[0m",
      "\u001b[0;31mNameError\u001b[0m                                 Traceback (most recent call last)",
      "\u001b[0;32m/var/folders/w4/cz88rjkj0lg25jggxn27s8l40000gn/T/ipykernel_58258/2627609384.py\u001b[0m in \u001b[0;36m<module>\u001b[0;34m\u001b[0m\n\u001b[1;32m      1\u001b[0m \u001b[0;31m# Plot bar chart to compare yellow cabs & high frequency for hire vehicles in June of 2019\u001b[0m\u001b[0;34m\u001b[0m\u001b[0;34m\u001b[0m\u001b[0m\n\u001b[1;32m      2\u001b[0m \u001b[0;34m\u001b[0m\u001b[0m\n\u001b[0;32m----> 3\u001b[0;31m \u001b[0mhv_June_2019\u001b[0m \u001b[0;34m=\u001b[0m \u001b[0;34m[\u001b[0m\u001b[0mhv_june_morn_count\u001b[0m\u001b[0;34m,\u001b[0m \u001b[0mhv_june_day_count\u001b[0m\u001b[0;34m,\u001b[0m \u001b[0mhv_june_eve_count\u001b[0m\u001b[0;34m,\u001b[0m \u001b[0mhv_june_afthrs_count\u001b[0m\u001b[0;34m]\u001b[0m\u001b[0;34m\u001b[0m\u001b[0;34m\u001b[0m\u001b[0m\n\u001b[0m\u001b[1;32m      4\u001b[0m \u001b[0myt_June_2019\u001b[0m \u001b[0;34m=\u001b[0m \u001b[0;34m[\u001b[0m\u001b[0myt_june_morn_count\u001b[0m\u001b[0;34m,\u001b[0m \u001b[0myt_june_day_count\u001b[0m\u001b[0;34m,\u001b[0m \u001b[0myt_june_eve_count\u001b[0m\u001b[0;34m,\u001b[0m \u001b[0myt_june_afthrs_count\u001b[0m\u001b[0;34m]\u001b[0m\u001b[0;34m\u001b[0m\u001b[0;34m\u001b[0m\u001b[0m\n\u001b[1;32m      5\u001b[0m \u001b[0mindex\u001b[0m \u001b[0;34m=\u001b[0m \u001b[0;34m[\u001b[0m\u001b[0;34m\"5am-11am\"\u001b[0m\u001b[0;34m,\u001b[0m \u001b[0;34m\"11am-5pm\"\u001b[0m\u001b[0;34m,\u001b[0m \u001b[0;34m\"5pm-11pm\"\u001b[0m\u001b[0;34m,\u001b[0m \u001b[0;34m\"11pm-5am\"\u001b[0m\u001b[0;34m]\u001b[0m\u001b[0;34m\u001b[0m\u001b[0;34m\u001b[0m\u001b[0m\n",
      "\u001b[0;31mNameError\u001b[0m: name 'hv_june_morn_count' is not defined"
     ]
    }
   ],
>>>>>>> parent of e497473 (Update NYC_Taxi_RIdeshare_Final.ipynb)
   "source": [
    "# Yellow Taxi Pick-ups for December 2019\n",
    "# Identify 4 different times of day and count the number of taxi rides that occur in each 6 hour interval\n",
    "#yt_dec_2019_df\n",
    "\n",
    "yt_morning_dec_19_df = yt_dec_2019_df.loc[(yt_dec_2019_df['pickup_time'] > '05:00:00') & (yt_dec_2019_df['pickup_time']<='11:00:00')]\n",
    "yt_dec_morn_count = yt_morning_dec_19_df.shape[0]\n",
    "\n",
<<<<<<< HEAD
    "yt_day_dec_19_df = yt_dec_2019_df.loc[(yt_dec_2019_df['pickup_time'] > '11:00:00') & (yt_dec_2019_df['pickup_time']<='17:00:00')]\n",
    "yt_dec_day_count = yt_day_dec_19_df.shape[0]\n",
=======
    "df.plot.bar(rot=0)\n",
    "plt.title(\"For Hire vs Taxis in Manhattan - December 2019\")\n",
    "plt.ylabel(\"Number of Pickups\")\n",
    "plt.xlabel(\"Time of Day\")\n",
    "plt.axhline(y = 50000, color = '0', linestyle = 'dashed')"
   ]
  },
  {
   "cell_type": "markdown",
   "id": "f80011af",
   "metadata": {},
   "source": [
    "# Pickup locations heatmap"
   ]
  },
  {
   "cell_type": "code",
   "execution_count": 74,
   "id": "ccb77e1b",
   "metadata": {},
   "outputs": [
    {
     "data": {
      "text/html": [
       "<div>\n",
       "<style scoped>\n",
       "    .dataframe tbody tr th:only-of-type {\n",
       "        vertical-align: middle;\n",
       "    }\n",
       "\n",
       "    .dataframe tbody tr th {\n",
       "        vertical-align: top;\n",
       "    }\n",
       "\n",
       "    .dataframe thead th {\n",
       "        text-align: right;\n",
       "    }\n",
       "</style>\n",
       "<table border=\"1\" class=\"dataframe\">\n",
       "  <thead>\n",
       "    <tr style=\"text-align: right;\">\n",
       "      <th></th>\n",
       "      <th>Unnamed: 0</th>\n",
       "      <th>tpep_pickup_datetime</th>\n",
       "      <th>tpep_dropoff_datetime</th>\n",
       "      <th>passenger_count</th>\n",
       "      <th>trip_distance</th>\n",
       "      <th>pickup_longitude</th>\n",
       "      <th>pickup_latitude</th>\n",
       "      <th>RateCodeID</th>\n",
       "      <th>dropoff_longitude</th>\n",
       "      <th>dropoff_latitude</th>\n",
       "      <th>fare_amount</th>\n",
       "      <th>tip_amount</th>\n",
       "      <th>total_amount</th>\n",
       "      <th>pickup_time</th>\n",
       "      <th>Month</th>\n",
       "    </tr>\n",
       "  </thead>\n",
       "  <tbody>\n",
       "    <tr>\n",
       "      <th>0</th>\n",
       "      <td>20</td>\n",
       "      <td>2015-06-02</td>\n",
       "      <td>2015-06-02 11:34:36</td>\n",
       "      <td>1</td>\n",
       "      <td>3.90</td>\n",
       "      <td>-73.949623</td>\n",
       "      <td>40.772671</td>\n",
       "      <td>1</td>\n",
       "      <td>-73.987640</td>\n",
       "      <td>40.735611</td>\n",
       "      <td>15.5</td>\n",
       "      <td>3.25</td>\n",
       "      <td>19.55</td>\n",
       "      <td>11:19:48</td>\n",
       "      <td>6</td>\n",
       "    </tr>\n",
       "    <tr>\n",
       "      <th>1</th>\n",
       "      <td>34</td>\n",
       "      <td>2015-06-02</td>\n",
       "      <td>2015-06-02 11:28:29</td>\n",
       "      <td>5</td>\n",
       "      <td>0.85</td>\n",
       "      <td>-74.006416</td>\n",
       "      <td>40.733501</td>\n",
       "      <td>1</td>\n",
       "      <td>-73.996292</td>\n",
       "      <td>40.725971</td>\n",
       "      <td>7.0</td>\n",
       "      <td>1.56</td>\n",
       "      <td>9.36</td>\n",
       "      <td>11:19:58</td>\n",
       "      <td>6</td>\n",
       "    </tr>\n",
       "    <tr>\n",
       "      <th>2</th>\n",
       "      <td>40</td>\n",
       "      <td>2015-06-02</td>\n",
       "      <td>2015-06-02 11:25:08</td>\n",
       "      <td>1</td>\n",
       "      <td>0.80</td>\n",
       "      <td>-73.995033</td>\n",
       "      <td>40.725391</td>\n",
       "      <td>1</td>\n",
       "      <td>-73.989548</td>\n",
       "      <td>40.735748</td>\n",
       "      <td>5.5</td>\n",
       "      <td>1.26</td>\n",
       "      <td>7.56</td>\n",
       "      <td>11:20:02</td>\n",
       "      <td>6</td>\n",
       "    </tr>\n",
       "    <tr>\n",
       "      <th>3</th>\n",
       "      <td>43</td>\n",
       "      <td>2015-06-02</td>\n",
       "      <td>2015-06-02 12:02:22</td>\n",
       "      <td>2</td>\n",
       "      <td>5.30</td>\n",
       "      <td>-73.955170</td>\n",
       "      <td>40.788544</td>\n",
       "      <td>1</td>\n",
       "      <td>-74.001060</td>\n",
       "      <td>40.736637</td>\n",
       "      <td>27.0</td>\n",
       "      <td>5.55</td>\n",
       "      <td>33.35</td>\n",
       "      <td>11:20:05</td>\n",
       "      <td>6</td>\n",
       "    </tr>\n",
       "    <tr>\n",
       "      <th>4</th>\n",
       "      <td>47</td>\n",
       "      <td>2015-06-02</td>\n",
       "      <td>2015-06-02 11:26:40</td>\n",
       "      <td>1</td>\n",
       "      <td>0.99</td>\n",
       "      <td>-73.997749</td>\n",
       "      <td>40.730190</td>\n",
       "      <td>1</td>\n",
       "      <td>-73.986282</td>\n",
       "      <td>40.734440</td>\n",
       "      <td>6.0</td>\n",
       "      <td>0.00</td>\n",
       "      <td>6.80</td>\n",
       "      <td>11:20:07</td>\n",
       "      <td>6</td>\n",
       "    </tr>\n",
       "  </tbody>\n",
       "</table>\n",
       "</div>"
      ],
      "text/plain": [
       "   Unnamed: 0 tpep_pickup_datetime tpep_dropoff_datetime  passenger_count  \\\n",
       "0          20           2015-06-02   2015-06-02 11:34:36                1   \n",
       "1          34           2015-06-02   2015-06-02 11:28:29                5   \n",
       "2          40           2015-06-02   2015-06-02 11:25:08                1   \n",
       "3          43           2015-06-02   2015-06-02 12:02:22                2   \n",
       "4          47           2015-06-02   2015-06-02 11:26:40                1   \n",
       "\n",
       "   trip_distance  pickup_longitude  pickup_latitude  RateCodeID  \\\n",
       "0           3.90        -73.949623        40.772671           1   \n",
       "1           0.85        -74.006416        40.733501           1   \n",
       "2           0.80        -73.995033        40.725391           1   \n",
       "3           5.30        -73.955170        40.788544           1   \n",
       "4           0.99        -73.997749        40.730190           1   \n",
       "\n",
       "   dropoff_longitude  dropoff_latitude  fare_amount  tip_amount  total_amount  \\\n",
       "0         -73.987640         40.735611         15.5        3.25         19.55   \n",
       "1         -73.996292         40.725971          7.0        1.56          9.36   \n",
       "2         -73.989548         40.735748          5.5        1.26          7.56   \n",
       "3         -74.001060         40.736637         27.0        5.55         33.35   \n",
       "4         -73.986282         40.734440          6.0        0.00          6.80   \n",
       "\n",
       "  pickup_time  Month  \n",
       "0    11:19:48      6  \n",
       "1    11:19:58      6  \n",
       "2    11:20:02      6  \n",
       "3    11:20:05      6  \n",
       "4    11:20:07      6  "
      ]
     },
     "execution_count": 74,
     "metadata": {},
     "output_type": "execute_result"
    }
   ],
   "source": [
    "june_2015_taxi.head()"
   ]
  },
  {
   "cell_type": "code",
   "execution_count": 75,
   "id": "f6a8308e",
   "metadata": {},
   "outputs": [],
   "source": [
    "locations_taxi_2015 = june_2015_taxi[[\"pickup_latitude\",\"pickup_longitude\"]]\n",
    "taxi_2015_pickup_rate = june_2015_taxi[\"passenger_count\"].astype(float)"
   ]
  },
  {
   "cell_type": "code",
   "execution_count": 112,
   "id": "479899f7",
   "metadata": {},
   "outputs": [
    {
     "data": {
      "application/vnd.jupyter.widget-view+json": {
       "model_id": "4847141c72ec465cabe44a7142384eb1",
       "version_major": 2,
       "version_minor": 0
      },
      "text/plain": [
       "Figure(layout=FigureLayout(height='420px'))"
      ]
     },
     "metadata": {},
     "output_type": "display_data"
    }
   ],
   "source": [
>>>>>>> parent of e497473 (Update NYC_Taxi_RIdeshare_Final.ipynb)
    "\n",
    "yt_evening_dec_19_df = yt_dec_2019_df.loc[(yt_dec_2019_df['pickup_time'] > '17:00:00') & (yt_dec_2019_df['pickup_time']<='23:00:00')]\n",
    "yt_dec_eve_count = yt_evening_dec_19_df.shape[0]\n",
    "\n",
    "yt_late_night_dec_19_df = yt_dec_2019_df.loc[(yt_dec_2019_df['pickup_time'] > '23:00:00')]\n",
    "yt_dec_ln_count = yt_late_night_dec_19_df.shape[0]\n",
    "\n",
    "yt_later_night_dec_19_df = yt_dec_2019_df.loc[(yt_dec_2019_df['pickup_time'] <= '05:00:00')]\n",
    "yt_dec_lrn_count = yt_later_night_dec_19_df.shape[0]\n",
    "\n",
    "yt_dec_afthrs_count = yt_dec_lrn_count + yt_dec_ln_count"
   ]
  },
  {
   "cell_type": "code",
   "execution_count": null,
   "id": "2867b8e9",
   "metadata": {},
   "outputs": [],
   "source": [
    "# Plot bar chart to compare yellow cabs & high frequency for hire vehicles in December of 2019\n",
    "\n",
    "hv_Dec_2019 = [hv_dec_morn_count, hv_dec_day_count, hv_dec_eve_count, hv_dec_afthrs_count]\n",
    "yt_Dec_2019 = [yt_dec_morn_count, yt_dec_day_count, yt_dec_eve_count, yt_dec_afthrs_count]\n",
    "index = [\"5am-11am\", \"11am-5pm\", \"5pm-11pm\", \"11pm-5am\"]\n",
    "df = pd.DataFrame({'Taxis': yt_Dec_2019,\n",
    "                   'For Hire': hv_Dec_2019}, index=index)\n",
    "\n",
    "ax = df.plot.bar(rot=0)\n",
    "plt.title(\"For Hire vs Taxis in Manhattan - December 2019\")\n",
    "plt.ylabel(\"Number of Pickups\")\n",
    "plt.xlabel(\"Time of Day\")\n",
    "\n",
    "# Plot bar chart to compare yellow cabs & high frequency for hire vehicles in June of 2019\n",
    "\n",
    "hv_June_2019 = [hv_june_morn_count, hv_june_day_count, hv_june_eve_count, hv_june_afthrs_count]\n",
    "yt_June_2019 = [yt_june_morn_count, yt_june_day_count, yt_june_eve_count, yt_june_afthrs_count]\n",
    "index = [\"5am-11am\", \"11am-5pm\", \"5pm-11pm\", \"11pm-5am\"]\n",
    "df = pd.DataFrame({'Taxis': yt_June_2019,\n",
    "                   'For Hire': hv_June_2019}, index=index)\n",
    "\n",
    "ax = df.plot.bar(rot=0)\n",
    "plt.title(\"For Hire vs Taxis in Manhattan - June 2019\")\n",
    "plt.ylabel(\"Number of Pickups\")\n",
    "plt.xlabel(\"Time of Day\")"
   ]
  },
  {
   "cell_type": "markdown",
   "id": "f80011af",
   "metadata": {},
   "source": [
    "# Pickup locations heatmap"
   ]
  },
  {
   "cell_type": "code",
   "execution_count": 16,
   "id": "fca5374b",
   "metadata": {},
   "outputs": [],
   "source": [
    "manhattan_zones['long'] = \"\"\n",
    "manhattan_zones['lat'] = \"\""
   ]
  },
  {
   "cell_type": "code",
   "execution_count": 19,
   "id": "527cde1f",
   "metadata": {},
   "outputs": [
    {
     "name": "stdout",
     "output_type": "stream",
     "text": [
      "Unexpected error occurred. module 'gmaps' has no attribute 'geocode'\n",
      "Unexpected error occurred. module 'gmaps' has no attribute 'geocode'\n",
      "Unexpected error occurred. module 'gmaps' has no attribute 'geocode'\n",
      "Unexpected error occurred. module 'gmaps' has no attribute 'geocode'\n"
     ]
    },
    {
     "ename": "KeyboardInterrupt",
     "evalue": "",
     "output_type": "error",
     "traceback": [
      "\u001b[0;31m---------------------------------------------------------------------------\u001b[0m",
      "\u001b[0;31mKeyboardInterrupt\u001b[0m                         Traceback (most recent call last)",
      "\u001b[0;32m/var/folders/w4/cz88rjkj0lg25jggxn27s8l40000gn/T/ipykernel_4792/1602670848.py\u001b[0m in \u001b[0;36m<module>\u001b[0;34m\u001b[0m\n\u001b[1;32m      1\u001b[0m \u001b[0;32mfor\u001b[0m \u001b[0mx\u001b[0m \u001b[0;32min\u001b[0m \u001b[0mrange\u001b[0m\u001b[0;34m(\u001b[0m\u001b[0mlen\u001b[0m\u001b[0;34m(\u001b[0m\u001b[0mmanhattan_zones\u001b[0m\u001b[0;34m)\u001b[0m\u001b[0;34m)\u001b[0m\u001b[0;34m:\u001b[0m\u001b[0;34m\u001b[0m\u001b[0;34m\u001b[0m\u001b[0m\n\u001b[1;32m      2\u001b[0m     \u001b[0;32mtry\u001b[0m\u001b[0;34m:\u001b[0m\u001b[0;34m\u001b[0m\u001b[0;34m\u001b[0m\u001b[0m\n\u001b[0;32m----> 3\u001b[0;31m         \u001b[0mtime\u001b[0m\u001b[0;34m.\u001b[0m\u001b[0msleep\u001b[0m\u001b[0;34m(\u001b[0m\u001b[0;36m1\u001b[0m\u001b[0;34m)\u001b[0m \u001b[0;31m#to add delay in case of large DFs\u001b[0m\u001b[0;34m\u001b[0m\u001b[0;34m\u001b[0m\u001b[0m\n\u001b[0m\u001b[1;32m      4\u001b[0m         \u001b[0mgeocode_result\u001b[0m \u001b[0;34m=\u001b[0m \u001b[0mgmaps\u001b[0m\u001b[0;34m.\u001b[0m\u001b[0mgeocode\u001b[0m\u001b[0;34m(\u001b[0m\u001b[0mmanhattan_zones\u001b[0m\u001b[0;34m[\u001b[0m\u001b[0;34m'pickup_location'\u001b[0m\u001b[0;34m]\u001b[0m\u001b[0;34m[\u001b[0m\u001b[0mx\u001b[0m\u001b[0;34m]\u001b[0m\u001b[0;34m)\u001b[0m\u001b[0;34m\u001b[0m\u001b[0;34m\u001b[0m\u001b[0m\n\u001b[1;32m      5\u001b[0m         \u001b[0mmanhattan_zones\u001b[0m\u001b[0;34m[\u001b[0m\u001b[0;34m'lat'\u001b[0m\u001b[0;34m]\u001b[0m\u001b[0;34m[\u001b[0m\u001b[0mx\u001b[0m\u001b[0;34m]\u001b[0m \u001b[0;34m=\u001b[0m \u001b[0mgeocode_result\u001b[0m\u001b[0;34m[\u001b[0m\u001b[0;36m0\u001b[0m\u001b[0;34m]\u001b[0m\u001b[0;34m[\u001b[0m\u001b[0;34m'geometry'\u001b[0m\u001b[0;34m]\u001b[0m\u001b[0;34m[\u001b[0m\u001b[0;34m'Zone'\u001b[0m\u001b[0;34m]\u001b[0m \u001b[0;34m[\u001b[0m\u001b[0;34m'lat'\u001b[0m\u001b[0;34m]\u001b[0m\u001b[0;34m\u001b[0m\u001b[0;34m\u001b[0m\u001b[0m\n",
      "\u001b[0;31mKeyboardInterrupt\u001b[0m: "
     ]
    }
   ],
   "source": [
    "for x in range(len(manhattan_zones)):\n",
    "    try:\n",
    "        time.sleep(1) #to add delay in case of large DFs\n",
    "        geocode_result = gmaps.geocode(manhattan_zones['pickup_location'][x])\n",
    "        manhattan_zones['lat'][x] = geocode_result[0]['geometry']['Zone'] ['lat']\n",
    "        manhattan_zones['long'][x] = geocode_result[0]['geometry']['Zone']['lng']\n",
    "    except IndexError:\n",
    "        print(\"Address was wrong...\")\n",
    "    except Exception as e:\n",
    "        print(\"Unexpected error occurred.\", e )\n",
    "manhattan_zones.head()"
   ]
  },
  {
   "cell_type": "code",
   "execution_count": 4,
   "id": "674d3f48",
   "metadata": {},
   "outputs": [],
   "source": [
    "taxi_zones = \"../../../Desktop/NYC Taxi & FHV Data/Taxi zones\"\n"
   ]
  },
  {
   "cell_type": "code",
   "execution_count": 10,
   "id": "35251bce",
   "metadata": {},
   "outputs": [
    {
     "data": {
      "text/html": [
       "<div>\n",
       "<style scoped>\n",
       "    .dataframe tbody tr th:only-of-type {\n",
       "        vertical-align: middle;\n",
       "    }\n",
       "\n",
       "    .dataframe tbody tr th {\n",
       "        vertical-align: top;\n",
       "    }\n",
       "\n",
       "    .dataframe thead th {\n",
       "        text-align: right;\n",
       "    }\n",
       "</style>\n",
       "<table border=\"1\" class=\"dataframe\">\n",
       "  <thead>\n",
       "    <tr style=\"text-align: right;\">\n",
       "      <th></th>\n",
       "      <th>Unnamed: 0</th>\n",
       "      <th>hvfhs_license_num</th>\n",
       "      <th>dispatching_base_num</th>\n",
       "      <th>pickup_datetime</th>\n",
       "      <th>dropoff_datetime</th>\n",
       "      <th>PULocationID</th>\n",
       "      <th>DOLocationID</th>\n",
       "      <th>Month</th>\n",
       "    </tr>\n",
       "  </thead>\n",
       "  <tbody>\n",
       "    <tr>\n",
       "      <th>0</th>\n",
       "      <td>90</td>\n",
       "      <td>HV0004</td>\n",
       "      <td>B02800</td>\n",
       "      <td>2019-06-01</td>\n",
       "      <td>2019-06-01 00:16:41</td>\n",
       "      <td>237</td>\n",
       "      <td>263</td>\n",
       "      <td>6</td>\n",
       "    </tr>\n",
       "    <tr>\n",
       "      <th>1</th>\n",
       "      <td>143</td>\n",
       "      <td>HV0003</td>\n",
       "      <td>B02869</td>\n",
       "      <td>2019-06-01</td>\n",
       "      <td>2019-06-01 00:37:38</td>\n",
       "      <td>45</td>\n",
       "      <td>263</td>\n",
       "      <td>6</td>\n",
       "    </tr>\n",
       "    <tr>\n",
       "      <th>2</th>\n",
       "      <td>171</td>\n",
       "      <td>HV0003</td>\n",
       "      <td>B02884</td>\n",
       "      <td>2019-06-01</td>\n",
       "      <td>2019-06-01 00:41:14</td>\n",
       "      <td>170</td>\n",
       "      <td>263</td>\n",
       "      <td>6</td>\n",
       "    </tr>\n",
       "    <tr>\n",
       "      <th>3</th>\n",
       "      <td>199</td>\n",
       "      <td>HV0003</td>\n",
       "      <td>B02764</td>\n",
       "      <td>2019-06-01</td>\n",
       "      <td>2019-06-01 00:39:28</td>\n",
       "      <td>263</td>\n",
       "      <td>236</td>\n",
       "      <td>6</td>\n",
       "    </tr>\n",
       "    <tr>\n",
       "      <th>4</th>\n",
       "      <td>273</td>\n",
       "      <td>HV0003</td>\n",
       "      <td>B02835</td>\n",
       "      <td>2019-06-01</td>\n",
       "      <td>2019-06-01 01:18:08</td>\n",
       "      <td>179</td>\n",
       "      <td>263</td>\n",
       "      <td>6</td>\n",
       "    </tr>\n",
       "    <tr>\n",
       "      <th>...</th>\n",
       "      <td>...</td>\n",
       "      <td>...</td>\n",
       "      <td>...</td>\n",
       "      <td>...</td>\n",
       "      <td>...</td>\n",
       "      <td>...</td>\n",
       "      <td>...</td>\n",
       "      <td>...</td>\n",
       "    </tr>\n",
       "    <tr>\n",
       "      <th>249826</th>\n",
       "      <td>21001465</td>\n",
       "      <td>HV0005</td>\n",
       "      <td>B02510</td>\n",
       "      <td>2019-06-30</td>\n",
       "      <td>2019-06-30 23:30:13</td>\n",
       "      <td>255</td>\n",
       "      <td>263</td>\n",
       "      <td>6</td>\n",
       "    </tr>\n",
       "    <tr>\n",
       "      <th>249827</th>\n",
       "      <td>21001521</td>\n",
       "      <td>HV0004</td>\n",
       "      <td>B02800</td>\n",
       "      <td>2019-06-30</td>\n",
       "      <td>2019-06-30 23:52:03</td>\n",
       "      <td>263</td>\n",
       "      <td>179</td>\n",
       "      <td>6</td>\n",
       "    </tr>\n",
       "    <tr>\n",
       "      <th>249828</th>\n",
       "      <td>21001585</td>\n",
       "      <td>HV0003</td>\n",
       "      <td>B02764</td>\n",
       "      <td>2019-06-30</td>\n",
       "      <td>2019-06-30 23:34:53</td>\n",
       "      <td>263</td>\n",
       "      <td>265</td>\n",
       "      <td>6</td>\n",
       "    </tr>\n",
       "    <tr>\n",
       "      <th>249829</th>\n",
       "      <td>21001726</td>\n",
       "      <td>HV0005</td>\n",
       "      <td>B02510</td>\n",
       "      <td>2019-06-30</td>\n",
       "      <td>2019-06-30 23:32:39</td>\n",
       "      <td>263</td>\n",
       "      <td>162</td>\n",
       "      <td>6</td>\n",
       "    </tr>\n",
       "    <tr>\n",
       "      <th>249830</th>\n",
       "      <td>21001807</td>\n",
       "      <td>HV0003</td>\n",
       "      <td>B02764</td>\n",
       "      <td>2019-06-30</td>\n",
       "      <td>2019-07-01 00:09:33</td>\n",
       "      <td>7</td>\n",
       "      <td>263</td>\n",
       "      <td>6</td>\n",
       "    </tr>\n",
       "  </tbody>\n",
       "</table>\n",
       "<p>249831 rows × 8 columns</p>\n",
       "</div>"
      ],
      "text/plain": [
       "        Unnamed: 0 hvfhs_license_num dispatching_base_num pickup_datetime  \\\n",
       "0               90            HV0004               B02800      2019-06-01   \n",
       "1              143            HV0003               B02869      2019-06-01   \n",
       "2              171            HV0003               B02884      2019-06-01   \n",
       "3              199            HV0003               B02764      2019-06-01   \n",
       "4              273            HV0003               B02835      2019-06-01   \n",
       "...            ...               ...                  ...             ...   \n",
       "249826    21001465            HV0005               B02510      2019-06-30   \n",
       "249827    21001521            HV0004               B02800      2019-06-30   \n",
       "249828    21001585            HV0003               B02764      2019-06-30   \n",
       "249829    21001726            HV0005               B02510      2019-06-30   \n",
       "249830    21001807            HV0003               B02764      2019-06-30   \n",
       "\n",
       "           dropoff_datetime  PULocationID  DOLocationID  Month  \n",
       "0       2019-06-01 00:16:41           237           263      6  \n",
       "1       2019-06-01 00:37:38            45           263      6  \n",
       "2       2019-06-01 00:41:14           170           263      6  \n",
       "3       2019-06-01 00:39:28           263           236      6  \n",
       "4       2019-06-01 01:18:08           179           263      6  \n",
       "...                     ...           ...           ...    ...  \n",
       "249826  2019-06-30 23:30:13           255           263      6  \n",
       "249827  2019-06-30 23:52:03           263           179      6  \n",
       "249828  2019-06-30 23:34:53           263           265      6  \n",
       "249829  2019-06-30 23:32:39           263           162      6  \n",
       "249830  2019-07-01 00:09:33             7           263      6  \n",
       "\n",
       "[249831 rows x 8 columns]"
      ]
     },
     "execution_count": 10,
     "metadata": {},
     "output_type": "execute_result"
    }
   ],
   "source": [
    "clean_HigVol_june_2019 = \"../../../Desktop/NYC Taxi & FHV Data/clean_csvs/HighVol_june_2019.csv\"\n",
    "clean_hvfhv_june_2019_df = pd.read_csv(clean_HigVol_june_2019)\n",
    "clean_hvfhv_june_2019_df"
   ]
  },
  {
   "cell_type": "code",
   "execution_count": 11,
   "id": "43d4b5fb",
   "metadata": {},
   "outputs": [],
   "source": [
    "locations = clean_hvfhv_june_2019_df[\"PULocationID\"].astype(float)\n",
    "\n",
    "vehicle_pickups = clean_hvfhv_june_2019_df[\"Unnamed: 0\"].tolist()"
   ]
  },
  {
   "cell_type": "code",
   "execution_count": 12,
   "id": "6eca9d84",
   "metadata": {},
   "outputs": [
    {
     "ename": "TypeError",
     "evalue": "cannot unpack non-iterable float object",
     "output_type": "error",
     "traceback": [
      "\u001b[0;31m---------------------------------------------------------------------------\u001b[0m",
      "\u001b[0;31mAttributeError\u001b[0m                            Traceback (most recent call last)",
      "\u001b[0;32m~/opt/anaconda3/lib/python3.9/site-packages/gmaps/locations.py\u001b[0m in \u001b[0;36mlocations_to_list\u001b[0;34m(locations)\u001b[0m\n\u001b[1;32m     10\u001b[0m     \u001b[0;32mtry\u001b[0m\u001b[0;34m:\u001b[0m\u001b[0;34m\u001b[0m\u001b[0;34m\u001b[0m\u001b[0m\n\u001b[0;32m---> 11\u001b[0;31m         \u001b[0mlocation_tuples\u001b[0m \u001b[0;34m=\u001b[0m \u001b[0mlocations\u001b[0m\u001b[0;34m.\u001b[0m\u001b[0mitertuples\u001b[0m\u001b[0;34m(\u001b[0m\u001b[0;34m)\u001b[0m  \u001b[0;31m# locations is a dataframe\u001b[0m\u001b[0;34m\u001b[0m\u001b[0;34m\u001b[0m\u001b[0m\n\u001b[0m\u001b[1;32m     12\u001b[0m         locations_as_list = [\n",
      "\u001b[0;32m~/opt/anaconda3/lib/python3.9/site-packages/pandas/core/generic.py\u001b[0m in \u001b[0;36m__getattr__\u001b[0;34m(self, name)\u001b[0m\n\u001b[1;32m   5486\u001b[0m             \u001b[0;32mreturn\u001b[0m \u001b[0mself\u001b[0m\u001b[0;34m[\u001b[0m\u001b[0mname\u001b[0m\u001b[0;34m]\u001b[0m\u001b[0;34m\u001b[0m\u001b[0;34m\u001b[0m\u001b[0m\n\u001b[0;32m-> 5487\u001b[0;31m         \u001b[0;32mreturn\u001b[0m \u001b[0mobject\u001b[0m\u001b[0;34m.\u001b[0m\u001b[0m__getattribute__\u001b[0m\u001b[0;34m(\u001b[0m\u001b[0mself\u001b[0m\u001b[0;34m,\u001b[0m \u001b[0mname\u001b[0m\u001b[0;34m)\u001b[0m\u001b[0;34m\u001b[0m\u001b[0;34m\u001b[0m\u001b[0m\n\u001b[0m\u001b[1;32m   5488\u001b[0m \u001b[0;34m\u001b[0m\u001b[0m\n",
      "\u001b[0;31mAttributeError\u001b[0m: 'Series' object has no attribute 'itertuples'",
      "\nDuring handling of the above exception, another exception occurred:\n",
      "\u001b[0;31mTypeError\u001b[0m                                 Traceback (most recent call last)",
      "\u001b[0;32m/var/folders/w4/cz88rjkj0lg25jggxn27s8l40000gn/T/ipykernel_4792/1762348889.py\u001b[0m in \u001b[0;36m<module>\u001b[0;34m\u001b[0m\n\u001b[1;32m      1\u001b[0m \u001b[0mfig\u001b[0m \u001b[0;34m=\u001b[0m \u001b[0mgmaps\u001b[0m\u001b[0;34m.\u001b[0m\u001b[0mfigure\u001b[0m\u001b[0;34m(\u001b[0m\u001b[0;34m)\u001b[0m\u001b[0;34m\u001b[0m\u001b[0;34m\u001b[0m\u001b[0m\n\u001b[1;32m      2\u001b[0m \u001b[0;34m\u001b[0m\u001b[0m\n\u001b[0;32m----> 3\u001b[0;31m heat_layer = gmaps.heatmap_layer(locations, weights=vehicle_pickups, \n\u001b[0m\u001b[1;32m      4\u001b[0m                                  \u001b[0mdissipating\u001b[0m\u001b[0;34m=\u001b[0m\u001b[0;32mFalse\u001b[0m\u001b[0;34m,\u001b[0m \u001b[0mmax_intensity\u001b[0m\u001b[0;34m=\u001b[0m\u001b[0;36m100\u001b[0m\u001b[0;34m,\u001b[0m\u001b[0;34m\u001b[0m\u001b[0;34m\u001b[0m\u001b[0m\n\u001b[1;32m      5\u001b[0m                                  point_radius = 1)\n",
      "\u001b[0;32m~/opt/anaconda3/lib/python3.9/site-packages/gmaps/heatmap.py\u001b[0m in \u001b[0;36mheatmap_layer\u001b[0;34m(locations, weights, max_intensity, dissipating, point_radius, opacity, gradient)\u001b[0m\n\u001b[1;32m    267\u001b[0m     )\n\u001b[1;32m    268\u001b[0m     \u001b[0;32mif\u001b[0m \u001b[0mis_weighted\u001b[0m\u001b[0;34m:\u001b[0m\u001b[0;34m\u001b[0m\u001b[0;34m\u001b[0m\u001b[0m\n\u001b[0;32m--> 269\u001b[0;31m         \u001b[0;32mreturn\u001b[0m \u001b[0mWeightedHeatmap\u001b[0m\u001b[0;34m(\u001b[0m\u001b[0;34m**\u001b[0m\u001b[0mwidget_args\u001b[0m\u001b[0;34m)\u001b[0m\u001b[0;34m\u001b[0m\u001b[0;34m\u001b[0m\u001b[0m\n\u001b[0m\u001b[1;32m    270\u001b[0m     \u001b[0;32melse\u001b[0m\u001b[0;34m:\u001b[0m\u001b[0;34m\u001b[0m\u001b[0;34m\u001b[0m\u001b[0m\n\u001b[1;32m    271\u001b[0m         \u001b[0;32mreturn\u001b[0m \u001b[0mHeatmap\u001b[0m\u001b[0;34m(\u001b[0m\u001b[0;34m**\u001b[0m\u001b[0mwidget_args\u001b[0m\u001b[0;34m)\u001b[0m\u001b[0;34m\u001b[0m\u001b[0;34m\u001b[0m\u001b[0m\n",
      "\u001b[0;32m~/opt/anaconda3/lib/python3.9/site-packages/ipywidgets/widgets/widget.py\u001b[0m in \u001b[0;36m__init__\u001b[0;34m(self, **kwargs)\u001b[0m\n\u001b[1;32m    410\u001b[0m         \u001b[0;34m\"\"\"Public constructor\"\"\"\u001b[0m\u001b[0;34m\u001b[0m\u001b[0;34m\u001b[0m\u001b[0m\n\u001b[1;32m    411\u001b[0m         \u001b[0mself\u001b[0m\u001b[0;34m.\u001b[0m\u001b[0m_model_id\u001b[0m \u001b[0;34m=\u001b[0m \u001b[0mkwargs\u001b[0m\u001b[0;34m.\u001b[0m\u001b[0mpop\u001b[0m\u001b[0;34m(\u001b[0m\u001b[0;34m'model_id'\u001b[0m\u001b[0;34m,\u001b[0m \u001b[0;32mNone\u001b[0m\u001b[0;34m)\u001b[0m\u001b[0;34m\u001b[0m\u001b[0;34m\u001b[0m\u001b[0m\n\u001b[0;32m--> 412\u001b[0;31m         \u001b[0msuper\u001b[0m\u001b[0;34m(\u001b[0m\u001b[0mWidget\u001b[0m\u001b[0;34m,\u001b[0m \u001b[0mself\u001b[0m\u001b[0;34m)\u001b[0m\u001b[0;34m.\u001b[0m\u001b[0m__init__\u001b[0m\u001b[0;34m(\u001b[0m\u001b[0;34m**\u001b[0m\u001b[0mkwargs\u001b[0m\u001b[0;34m)\u001b[0m\u001b[0;34m\u001b[0m\u001b[0;34m\u001b[0m\u001b[0m\n\u001b[0m\u001b[1;32m    413\u001b[0m \u001b[0;34m\u001b[0m\u001b[0m\n\u001b[1;32m    414\u001b[0m         \u001b[0mWidget\u001b[0m\u001b[0;34m.\u001b[0m\u001b[0m_call_widget_constructed\u001b[0m\u001b[0;34m(\u001b[0m\u001b[0mself\u001b[0m\u001b[0;34m)\u001b[0m\u001b[0;34m\u001b[0m\u001b[0;34m\u001b[0m\u001b[0m\n",
      "\u001b[0;32m~/opt/anaconda3/lib/python3.9/site-packages/traitlets/traitlets.py\u001b[0m in \u001b[0;36m__init__\u001b[0;34m(self, *args, **kwargs)\u001b[0m\n\u001b[1;32m   1077\u001b[0m             \u001b[0;32mfor\u001b[0m \u001b[0mkey\u001b[0m\u001b[0;34m,\u001b[0m \u001b[0mvalue\u001b[0m \u001b[0;32min\u001b[0m \u001b[0mkwargs\u001b[0m\u001b[0;34m.\u001b[0m\u001b[0mitems\u001b[0m\u001b[0;34m(\u001b[0m\u001b[0;34m)\u001b[0m\u001b[0;34m:\u001b[0m\u001b[0;34m\u001b[0m\u001b[0;34m\u001b[0m\u001b[0m\n\u001b[1;32m   1078\u001b[0m                 \u001b[0;32mif\u001b[0m \u001b[0mself\u001b[0m\u001b[0;34m.\u001b[0m\u001b[0mhas_trait\u001b[0m\u001b[0;34m(\u001b[0m\u001b[0mkey\u001b[0m\u001b[0;34m)\u001b[0m\u001b[0;34m:\u001b[0m\u001b[0;34m\u001b[0m\u001b[0;34m\u001b[0m\u001b[0m\n\u001b[0;32m-> 1079\u001b[0;31m                     \u001b[0msetattr\u001b[0m\u001b[0;34m(\u001b[0m\u001b[0mself\u001b[0m\u001b[0;34m,\u001b[0m \u001b[0mkey\u001b[0m\u001b[0;34m,\u001b[0m \u001b[0mvalue\u001b[0m\u001b[0;34m)\u001b[0m\u001b[0;34m\u001b[0m\u001b[0;34m\u001b[0m\u001b[0m\n\u001b[0m\u001b[1;32m   1080\u001b[0m                 \u001b[0;32melse\u001b[0m\u001b[0;34m:\u001b[0m\u001b[0;34m\u001b[0m\u001b[0;34m\u001b[0m\u001b[0m\n\u001b[1;32m   1081\u001b[0m                     \u001b[0;31m# passthrough args that don't set traits to super\u001b[0m\u001b[0;34m\u001b[0m\u001b[0;34m\u001b[0m\u001b[0m\n",
      "\u001b[0;32m~/opt/anaconda3/lib/python3.9/site-packages/traitlets/traitlets.py\u001b[0m in \u001b[0;36m__set__\u001b[0;34m(self, obj, value)\u001b[0m\n\u001b[1;32m    604\u001b[0m             \u001b[0;32mraise\u001b[0m \u001b[0mTraitError\u001b[0m\u001b[0;34m(\u001b[0m\u001b[0;34m'The \"%s\" trait is read-only.'\u001b[0m \u001b[0;34m%\u001b[0m \u001b[0mself\u001b[0m\u001b[0;34m.\u001b[0m\u001b[0mname\u001b[0m\u001b[0;34m)\u001b[0m\u001b[0;34m\u001b[0m\u001b[0;34m\u001b[0m\u001b[0m\n\u001b[1;32m    605\u001b[0m         \u001b[0;32melse\u001b[0m\u001b[0;34m:\u001b[0m\u001b[0;34m\u001b[0m\u001b[0;34m\u001b[0m\u001b[0m\n\u001b[0;32m--> 606\u001b[0;31m             \u001b[0mself\u001b[0m\u001b[0;34m.\u001b[0m\u001b[0mset\u001b[0m\u001b[0;34m(\u001b[0m\u001b[0mobj\u001b[0m\u001b[0;34m,\u001b[0m \u001b[0mvalue\u001b[0m\u001b[0;34m)\u001b[0m\u001b[0;34m\u001b[0m\u001b[0;34m\u001b[0m\u001b[0m\n\u001b[0m\u001b[1;32m    607\u001b[0m \u001b[0;34m\u001b[0m\u001b[0m\n\u001b[1;32m    608\u001b[0m     \u001b[0;32mdef\u001b[0m \u001b[0m_validate\u001b[0m\u001b[0;34m(\u001b[0m\u001b[0mself\u001b[0m\u001b[0;34m,\u001b[0m \u001b[0mobj\u001b[0m\u001b[0;34m,\u001b[0m \u001b[0mvalue\u001b[0m\u001b[0;34m)\u001b[0m\u001b[0;34m:\u001b[0m\u001b[0;34m\u001b[0m\u001b[0;34m\u001b[0m\u001b[0m\n",
      "\u001b[0;32m~/opt/anaconda3/lib/python3.9/site-packages/traitlets/traitlets.py\u001b[0m in \u001b[0;36mset\u001b[0;34m(self, obj, value)\u001b[0m\n\u001b[1;32m   2649\u001b[0m             \u001b[0;32mreturn\u001b[0m \u001b[0msuper\u001b[0m\u001b[0;34m(\u001b[0m\u001b[0;34m)\u001b[0m\u001b[0;34m.\u001b[0m\u001b[0mset\u001b[0m\u001b[0;34m(\u001b[0m\u001b[0mobj\u001b[0m\u001b[0;34m,\u001b[0m \u001b[0;34m[\u001b[0m\u001b[0mvalue\u001b[0m\u001b[0;34m]\u001b[0m\u001b[0;34m)\u001b[0m\u001b[0;34m\u001b[0m\u001b[0;34m\u001b[0m\u001b[0m\n\u001b[1;32m   2650\u001b[0m         \u001b[0;32melse\u001b[0m\u001b[0;34m:\u001b[0m\u001b[0;34m\u001b[0m\u001b[0;34m\u001b[0m\u001b[0m\n\u001b[0;32m-> 2651\u001b[0;31m             \u001b[0;32mreturn\u001b[0m \u001b[0msuper\u001b[0m\u001b[0;34m(\u001b[0m\u001b[0;34m)\u001b[0m\u001b[0;34m.\u001b[0m\u001b[0mset\u001b[0m\u001b[0;34m(\u001b[0m\u001b[0mobj\u001b[0m\u001b[0;34m,\u001b[0m \u001b[0mvalue\u001b[0m\u001b[0;34m)\u001b[0m\u001b[0;34m\u001b[0m\u001b[0;34m\u001b[0m\u001b[0m\n\u001b[0m\u001b[1;32m   2652\u001b[0m \u001b[0;34m\u001b[0m\u001b[0m\n\u001b[1;32m   2653\u001b[0m \u001b[0;34m\u001b[0m\u001b[0m\n",
      "\u001b[0;32m~/opt/anaconda3/lib/python3.9/site-packages/traitlets/traitlets.py\u001b[0m in \u001b[0;36mset\u001b[0;34m(self, obj, value)\u001b[0m\n\u001b[1;32m    578\u001b[0m \u001b[0;34m\u001b[0m\u001b[0m\n\u001b[1;32m    579\u001b[0m     \u001b[0;32mdef\u001b[0m \u001b[0mset\u001b[0m\u001b[0;34m(\u001b[0m\u001b[0mself\u001b[0m\u001b[0;34m,\u001b[0m \u001b[0mobj\u001b[0m\u001b[0;34m,\u001b[0m \u001b[0mvalue\u001b[0m\u001b[0;34m)\u001b[0m\u001b[0;34m:\u001b[0m\u001b[0;34m\u001b[0m\u001b[0;34m\u001b[0m\u001b[0m\n\u001b[0;32m--> 580\u001b[0;31m         \u001b[0mnew_value\u001b[0m \u001b[0;34m=\u001b[0m \u001b[0mself\u001b[0m\u001b[0;34m.\u001b[0m\u001b[0m_validate\u001b[0m\u001b[0;34m(\u001b[0m\u001b[0mobj\u001b[0m\u001b[0;34m,\u001b[0m \u001b[0mvalue\u001b[0m\u001b[0;34m)\u001b[0m\u001b[0;34m\u001b[0m\u001b[0;34m\u001b[0m\u001b[0m\n\u001b[0m\u001b[1;32m    581\u001b[0m         \u001b[0;32mtry\u001b[0m\u001b[0;34m:\u001b[0m\u001b[0;34m\u001b[0m\u001b[0;34m\u001b[0m\u001b[0m\n\u001b[1;32m    582\u001b[0m             \u001b[0mold_value\u001b[0m \u001b[0;34m=\u001b[0m \u001b[0mobj\u001b[0m\u001b[0;34m.\u001b[0m\u001b[0m_trait_values\u001b[0m\u001b[0;34m[\u001b[0m\u001b[0mself\u001b[0m\u001b[0;34m.\u001b[0m\u001b[0mname\u001b[0m\u001b[0;34m]\u001b[0m\u001b[0;34m\u001b[0m\u001b[0;34m\u001b[0m\u001b[0m\n",
      "\u001b[0;32m~/opt/anaconda3/lib/python3.9/site-packages/traitlets/traitlets.py\u001b[0m in \u001b[0;36m_validate\u001b[0;34m(self, obj, value)\u001b[0m\n\u001b[1;32m    610\u001b[0m             \u001b[0;32mreturn\u001b[0m \u001b[0mvalue\u001b[0m\u001b[0;34m\u001b[0m\u001b[0;34m\u001b[0m\u001b[0m\n\u001b[1;32m    611\u001b[0m         \u001b[0;32mif\u001b[0m \u001b[0mhasattr\u001b[0m\u001b[0;34m(\u001b[0m\u001b[0mself\u001b[0m\u001b[0;34m,\u001b[0m \u001b[0;34m'validate'\u001b[0m\u001b[0;34m)\u001b[0m\u001b[0;34m:\u001b[0m\u001b[0;34m\u001b[0m\u001b[0;34m\u001b[0m\u001b[0m\n\u001b[0;32m--> 612\u001b[0;31m             \u001b[0mvalue\u001b[0m \u001b[0;34m=\u001b[0m \u001b[0mself\u001b[0m\u001b[0;34m.\u001b[0m\u001b[0mvalidate\u001b[0m\u001b[0;34m(\u001b[0m\u001b[0mobj\u001b[0m\u001b[0;34m,\u001b[0m \u001b[0mvalue\u001b[0m\u001b[0;34m)\u001b[0m\u001b[0;34m\u001b[0m\u001b[0;34m\u001b[0m\u001b[0m\n\u001b[0m\u001b[1;32m    613\u001b[0m         \u001b[0;32mif\u001b[0m \u001b[0mobj\u001b[0m\u001b[0;34m.\u001b[0m\u001b[0m_cross_validation_lock\u001b[0m \u001b[0;32mis\u001b[0m \u001b[0;32mFalse\u001b[0m\u001b[0;34m:\u001b[0m\u001b[0;34m\u001b[0m\u001b[0;34m\u001b[0m\u001b[0m\n\u001b[1;32m    614\u001b[0m             \u001b[0mvalue\u001b[0m \u001b[0;34m=\u001b[0m \u001b[0mself\u001b[0m\u001b[0;34m.\u001b[0m\u001b[0m_cross_validate\u001b[0m\u001b[0;34m(\u001b[0m\u001b[0mobj\u001b[0m\u001b[0;34m,\u001b[0m \u001b[0mvalue\u001b[0m\u001b[0;34m)\u001b[0m\u001b[0;34m\u001b[0m\u001b[0;34m\u001b[0m\u001b[0m\n",
      "\u001b[0;32m~/opt/anaconda3/lib/python3.9/site-packages/gmaps/geotraitlets.py\u001b[0m in \u001b[0;36mvalidate\u001b[0;34m(self, obj, value)\u001b[0m\n\u001b[1;32m     22\u001b[0m         \u001b[0;32mif\u001b[0m \u001b[0mvalue\u001b[0m \u001b[0;32mis\u001b[0m \u001b[0;32mNone\u001b[0m\u001b[0;34m:\u001b[0m\u001b[0;34m\u001b[0m\u001b[0;34m\u001b[0m\u001b[0m\n\u001b[1;32m     23\u001b[0m             \u001b[0;32mreturn\u001b[0m \u001b[0msuper\u001b[0m\u001b[0;34m(\u001b[0m\u001b[0mLocationArray\u001b[0m\u001b[0;34m,\u001b[0m \u001b[0mself\u001b[0m\u001b[0;34m)\u001b[0m\u001b[0;34m.\u001b[0m\u001b[0mvalidate\u001b[0m\u001b[0;34m(\u001b[0m\u001b[0mobj\u001b[0m\u001b[0;34m,\u001b[0m \u001b[0mvalue\u001b[0m\u001b[0;34m)\u001b[0m\u001b[0;34m\u001b[0m\u001b[0;34m\u001b[0m\u001b[0m\n\u001b[0;32m---> 24\u001b[0;31m         \u001b[0mlocations_as_list\u001b[0m \u001b[0;34m=\u001b[0m \u001b[0mlocations_to_list\u001b[0m\u001b[0;34m(\u001b[0m\u001b[0mvalue\u001b[0m\u001b[0;34m)\u001b[0m\u001b[0;34m\u001b[0m\u001b[0;34m\u001b[0m\u001b[0m\n\u001b[0m\u001b[1;32m     25\u001b[0m         \u001b[0;32mfor\u001b[0m \u001b[0mlocation\u001b[0m \u001b[0;32min\u001b[0m \u001b[0mlocations_as_list\u001b[0m\u001b[0;34m:\u001b[0m\u001b[0;34m\u001b[0m\u001b[0;34m\u001b[0m\u001b[0m\n\u001b[1;32m     26\u001b[0m             \u001b[0mlatitude\u001b[0m\u001b[0;34m,\u001b[0m \u001b[0mlongitude\u001b[0m \u001b[0;34m=\u001b[0m \u001b[0mlocation\u001b[0m\u001b[0;34m\u001b[0m\u001b[0;34m\u001b[0m\u001b[0m\n",
      "\u001b[0;32m~/opt/anaconda3/lib/python3.9/site-packages/gmaps/locations.py\u001b[0m in \u001b[0;36mlocations_to_list\u001b[0;34m(locations)\u001b[0m\n\u001b[1;32m     15\u001b[0m         ]\n\u001b[1;32m     16\u001b[0m     \u001b[0;32mexcept\u001b[0m \u001b[0mAttributeError\u001b[0m\u001b[0;34m:\u001b[0m\u001b[0;34m\u001b[0m\u001b[0;34m\u001b[0m\u001b[0m\n\u001b[0;32m---> 17\u001b[0;31m         locations_as_list = [\n\u001b[0m\u001b[1;32m     18\u001b[0m             \u001b[0;34m(\u001b[0m\u001b[0mlatitude\u001b[0m\u001b[0;34m,\u001b[0m \u001b[0mlongitude\u001b[0m\u001b[0;34m)\u001b[0m \u001b[0;32mfor\u001b[0m \u001b[0;34m(\u001b[0m\u001b[0mlatitude\u001b[0m\u001b[0;34m,\u001b[0m \u001b[0mlongitude\u001b[0m\u001b[0;34m)\u001b[0m\u001b[0;34m\u001b[0m\u001b[0;34m\u001b[0m\u001b[0m\n\u001b[1;32m     19\u001b[0m             \u001b[0;32min\u001b[0m \u001b[0mlocations\u001b[0m\u001b[0;34m\u001b[0m\u001b[0;34m\u001b[0m\u001b[0m\n",
      "\u001b[0;32m~/opt/anaconda3/lib/python3.9/site-packages/gmaps/locations.py\u001b[0m in \u001b[0;36m<listcomp>\u001b[0;34m(.0)\u001b[0m\n\u001b[1;32m     16\u001b[0m     \u001b[0;32mexcept\u001b[0m \u001b[0mAttributeError\u001b[0m\u001b[0;34m:\u001b[0m\u001b[0;34m\u001b[0m\u001b[0;34m\u001b[0m\u001b[0m\n\u001b[1;32m     17\u001b[0m         locations_as_list = [\n\u001b[0;32m---> 18\u001b[0;31m             \u001b[0;34m(\u001b[0m\u001b[0mlatitude\u001b[0m\u001b[0;34m,\u001b[0m \u001b[0mlongitude\u001b[0m\u001b[0;34m)\u001b[0m \u001b[0;32mfor\u001b[0m \u001b[0;34m(\u001b[0m\u001b[0mlatitude\u001b[0m\u001b[0;34m,\u001b[0m \u001b[0mlongitude\u001b[0m\u001b[0;34m)\u001b[0m\u001b[0;34m\u001b[0m\u001b[0;34m\u001b[0m\u001b[0m\n\u001b[0m\u001b[1;32m     19\u001b[0m             \u001b[0;32min\u001b[0m \u001b[0mlocations\u001b[0m\u001b[0;34m\u001b[0m\u001b[0;34m\u001b[0m\u001b[0m\n\u001b[1;32m     20\u001b[0m         ]\n",
      "\u001b[0;31mTypeError\u001b[0m: cannot unpack non-iterable float object"
     ]
    }
   ],
   "source": [
    "fig = gmaps.figure()\n",
    "\n",
    "heat_layer = gmaps.heatmap_layer(locations, weights=vehicle_pickups, \n",
    "                                 dissipating=False, max_intensity=100,\n",
    "                                 point_radius = 1)\n",
    "\n",
    "fig.add_layer(heat_layer)\n",
    "\n",
    "fig"
   ]
  },
  {
   "cell_type": "code",
   "execution_count": null,
   "id": "367011c6",
   "metadata": {},
   "outputs": [],
   "source": []
  }
 ],
 "metadata": {
  "kernelspec": {
   "display_name": "Python 3 (ipykernel)",
   "language": "python",
   "name": "python3"
  },
  "language_info": {
   "codemirror_mode": {
    "name": "ipython",
    "version": 3
   },
   "file_extension": ".py",
   "mimetype": "text/x-python",
   "name": "python",
   "nbconvert_exporter": "python",
   "pygments_lexer": "ipython3",
   "version": "3.9.7"
  }
 },
 "nbformat": 4,
 "nbformat_minor": 5
}
