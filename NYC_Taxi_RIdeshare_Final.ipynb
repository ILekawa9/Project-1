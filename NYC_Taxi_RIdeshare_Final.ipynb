{
 "cells": [
  {
   "cell_type": "code",
   "execution_count": null,
   "id": "117bb88c",
   "metadata": {},
   "outputs": [],
   "source": [
    "#Import dependencies\n",
    "import matplotlib.pyplot as plt\n",
    "import pandas as pd\n",
    "import numpy as np\n",
    "import requests\n",
    "import time\n",
    "import scipy.stats as stats\n",
    "from scipy.stats import linregress\n",
    "import gmaps\n",
    "import json\n",
    "import urllib\n",
    "\n",
    "#Import API keys\n",
    "from config import (api_key, gkey)\n",
    "\n",
    "\n",
    "# Configure gmaps\n",
    "gmaps.configure(api_key=gkey)\n",
    "\n",
    "#Import Manhattan zones csv\n",
    "manhattan_zones = pd.read_csv(\"../../../Desktop/NYC Taxi & FHV Data/manhattan_zones.csv\")\n",
    "manhattan_zones.head()"
   ]
  },
  {
   "cell_type": "code",
   "execution_count": null,
   "id": "3177bc80",
   "metadata": {},
   "outputs": [],
   "source": [
    "#Import Taxi June 2015 data\n",
    "june_2015_taxi = pd.read_csv(\"../../../Desktop/NYC Taxi & FHV Data/clean_csvs/taxi_june_2015.csv\")\n",
    "\n",
    "#Import FHV June 2015 data\n",
    "june_2015_fhv = pd.read_csv(\"../../../Desktop/NYC Taxi & FHV Data/clean_csvs/FHV_june_2015.csv\")\n",
    "\n",
    "#Import Taxi Dec 2015 data\n",
    "dec_2015_taxi = pd.read_csv(\"../../../Desktop/NYC Taxi & FHV Data/clean_csvs/taxi_dec_2015.csv\")\n",
    "\n",
    "#Import FHV Dec 2015 data\n",
    "dec_2015_fhv = pd.read_csv(\"../../../Desktop/NYC Taxi & FHV Data/clean_csvs/FHV_dec_2015.csv\")\n",
    "\n",
    "#Import Taxi June 2019 csv data\n",
    "june_2019_taxi = pd.read_csv(\"../../../Desktop/NYC Taxi & FHV Data/clean_csvs/taxi_june_2019.csv\")\n",
    "\n",
    "#Import FHV June 2019 csv data\n",
    "june_2019_highvol = pd.read_csv(\"../../../Desktop/NYC Taxi & FHV Data/clean_csvs/HighVol_june_2019.csv\")\n",
    "\n",
    "#Import Taxi Dec 2019 data\n",
    "dec_2019_taxi = pd.read_csv(\"../../../Desktop/NYC Taxi & FHV Data/clean_csvs/taxi_dec_2019.csv\")\n",
    "\n",
    "#Import FHV Dec 2019 csv data\n",
    "dec_2019_highvol = pd.read_csv(\"../../../Desktop/NYC Taxi & FHV Data/clean_csvs/HighVol_dec_2019.csv\")"
   ]
  },
  {
   "cell_type": "markdown",
   "id": "408b9be8",
   "metadata": {},
   "source": [
    "# Percent of rides"
   ]
  },
  {
   "cell_type": "code",
   "execution_count": null,
   "id": "65b8f2b0",
   "metadata": {},
   "outputs": [],
   "source": [
    "#Taxi data June 2015\n",
    "#count number of rides by date\n",
    "ride_numbers_june_2015 = june_2015_taxi[\"tpep_pickup_datetime\"].value_counts()\n",
    "\n",
    "#Format data frame and sort\n",
    "ride_numbers_june_2015_df = pd.DataFrame(ride_numbers_june_2015).reset_index().rename(columns = {\"index\": \"Pickup Date\", \"tpep_pickup_datetime\": \"Number of Rides June 2015\"})\n",
    "ride_numbers_june_2015_df[\"Pickup Date\"] = pd.to_datetime(ride_numbers_june_2015_df[\"Pickup Date\"]).dt.strftime('%m-%d')\n",
    "sorted_ride_numbers_june_2015 = ride_numbers_june_2015_df.sort_values(by = \"Pickup Date\")\n",
    "\n",
    "#Display data frame\n",
    "sorted_ride_numbers_june_2015.head()"
   ]
  },
  {
   "cell_type": "code",
   "execution_count": null,
   "id": "355ec3c5",
   "metadata": {},
   "outputs": [],
   "source": [
    "#Taxi data June 2019\n",
    "#Count number of rides by date for June 2019 taxi data\n",
    "ride_numbers_june_2019 = june_2019_taxi[\"pickup_date\"].value_counts()\n",
    "\n",
    "#Format data frame and sort\n",
    "ride_numbers_june_2019_df = pd.DataFrame(ride_numbers_june_2019).reset_index().rename(columns = {\"index\": \"Pickup Date\", \"pickup_date\": \"Number of Rides June 2019\"})\n",
    "ride_numbers_june_2019_df[\"Pickup Date\"] = pd.to_datetime(ride_numbers_june_2019_df[\"Pickup Date\"]).dt.strftime('%m-%d')\n",
    "sorted_ride_numbers_june_2019 = ride_numbers_june_2019_df.sort_values(by = \"Pickup Date\")\n",
    "\n",
    "#Display data frame\n",
    "sorted_ride_numbers_june_2019.head()"
   ]
  },
  {
   "cell_type": "code",
   "execution_count": null,
   "id": "f9d9213a",
   "metadata": {},
   "outputs": [],
   "source": [
    "#FHV data June 2015\n",
    "#Count number of rides by date for June 2015 FHV data\n",
    "ride_numbers_fhv_june_2015 = june_2015_fhv[\"pickup_date\"].value_counts()\n",
    "\n",
    "#Format data frame and sort\n",
    "ride_numbers_fhv_june_2015 = pd.DataFrame(ride_numbers_fhv_june_2015).reset_index().rename(columns = {\"index\": \"Pickup Date\", \"pickup_date\": \"Number of FHV Rides 2015\"})\n",
    "ride_numbers_fhv_june_2015[\"Pickup Date\"] = pd.to_datetime(ride_numbers_fhv_june_2015[\"Pickup Date\"]).dt.strftime('%m-%d')\n",
    "sorted_ride_numbers_fhv_2015 = ride_numbers_fhv_june_2015.sort_values([\"Pickup Date\"], ascending = True)\n",
    "\n",
    "#Display data frame\n",
    "sorted_ride_numbers_fhv_2015.head()"
   ]
  },
  {
   "cell_type": "code",
   "execution_count": null,
   "id": "b3355303",
   "metadata": {},
   "outputs": [],
   "source": [
    "#FHV data June 2019\n",
    "#Find ride numbers by pickup date\n",
    "ride_numbers_hvfhv_june_2019 = june_2019_highvol[\"pickup_date\"].value_counts()\n",
    "\n",
    "#Format and sort data frame\n",
    "ride_numbers_hvfhv_june_2019 = pd.DataFrame(ride_numbers_hvfhv_june_2019).reset_index().rename(columns = {\"index\": \"Pickup Date\", \"pickup_date\": \"Number of FHV Rides 2019\"})\n",
    "ride_numbers_hvfhv_june_2019[\"Pickup Date\"] = pd.to_datetime(ride_numbers_hvfhv_june_2019[\"Pickup Date\"]).dt.strftime('%m-%d')\n",
    "sorted_ride_numbers_hvfhv_june = ride_numbers_hvfhv_june_2019.sort_values([\"Pickup Date\"], ascending = True)\n",
    "\n",
    "#Display data frame\n",
    "sorted_ride_numbers_hvfhv_june.head()"
   ]
  },
  {
   "cell_type": "code",
   "execution_count": null,
   "id": "18535e80",
   "metadata": {},
   "outputs": [],
   "source": [
    "#Compare taxi and FHV data in June 2015\n",
    "combined_june_2015 = sorted_ride_numbers_june_2015.merge(sorted_ride_numbers_fhv_2015, how = \"outer\", on = \"Pickup Date\")\n",
    "combined_june_2015[\"Total Rides\"] = combined_june_2015[\"Number of Rides June 2015\"] + combined_june_2015[\"Number of FHV Rides 2015\"]\n",
    "\n",
    "#Display data frame\n",
    "combined_june_2015.head()"
   ]
  },
  {
   "cell_type": "code",
   "execution_count": null,
   "id": "2300e4e6",
   "metadata": {},
   "outputs": [],
   "source": [
    "#Calculate the percent of taxi rides vs FHV rides\n",
    "percent_rides_taxi = combined_june_2015[\"Number of Rides June 2015\"]/combined_june_2015[\"Total Rides\"] * 100\n",
    "percent_rides_fhv = combined_june_2015[\"Number of FHV Rides 2015\"]/combined_june_2015[\"Total Rides\"] * 100\n",
    "\n",
    "#Create new data frame\n",
    "percent_2015 = pd.DataFrame({\"Date\": combined_june_2015[\"Pickup Date\"],\n",
    "                            \"Percent Rides Taxi\": percent_rides_taxi,\n",
    "                            \"Percent Rides FHV\": percent_rides_fhv\n",
    "                            })\n",
    "\n",
    "percent_2015.head()"
   ]
  },
  {
   "cell_type": "code",
   "execution_count": null,
   "id": "5cfe012f",
   "metadata": {},
   "outputs": [],
   "source": [
    "#Line graph comparing percent of total rides for taxi vs FHV in June 2015\n",
    "line = percent_2015.plot(kind = \"line\", legend = True)\n",
    "\n",
    "plt.title(\"Percent Taxi vs FHV Rides June 2015\")\n",
    "plt.xlabel(\"Date in June\")\n",
    "plt.ylabel(\"Percent of Total Rides\")\n",
    "plt.grid()\n",
    "plt.show()"
   ]
  },
  {
   "cell_type": "code",
   "execution_count": null,
   "id": "023eb1e2",
   "metadata": {},
   "outputs": [],
   "source": [
    "#Compare taxi and FHV data in June 2019\n",
    "combined_june_2019 = sorted_ride_numbers_june_2019.merge(sorted_ride_numbers_hvfhv_june, how = \"outer\", on = \"Pickup Date\")\n",
    "combined_june_2019[\"Total Rides\"] = combined_june_2019[\"Number of Rides June 2019\"] + combined_june_2019[\"Number of FHV Rides 2019\"]\n",
    "\n",
    "#Display data frame\n",
    "combined_june_2019.head()"
   ]
  },
  {
   "cell_type": "code",
   "execution_count": null,
   "id": "2b4261c5",
   "metadata": {},
   "outputs": [],
   "source": [
    "#Calculate the percent of taxi rides vs FHV rides\n",
    "percent_rides_taxi = combined_june_2019[\"Number of Rides June 2019\"]/combined_june_2019[\"Total Rides\"] * 100\n",
    "percent_rides_fhv = combined_june_2019[\"Number of FHV Rides 2019\"]/combined_june_2019[\"Total Rides\"] * 100\n",
    "\n",
    "#Create new data frame\n",
    "percent_2019 = pd.DataFrame({\"Date\": combined_june_2019[\"Pickup Date\"],\n",
    "                            \"Percent Rides Taxi\": percent_rides_taxi,\n",
    "                            \"Percent Rides FHV\": percent_rides_fhv\n",
    "                            })\n",
    "\n",
    "#Display data frame\n",
    "percent_2019.head()"
   ]
  },
  {
   "cell_type": "code",
   "execution_count": null,
   "id": "975850ca",
   "metadata": {},
   "outputs": [],
   "source": [
    "#Line graph comparing percent of total rides for taxi vs FHV in June 2019\n",
    "line = percent_2019.plot(kind = \"line\", legend = True)\n",
    "\n",
    "plt.title(\"Percent Taxi vs FHV Rides June 2019\")\n",
    "plt.xlabel(\"Date in June\")\n",
    "plt.ylabel(\"Percent of Total Rides\")\n",
    "plt.grid()\n",
    "plt.show()"
   ]
  },
  {
   "cell_type": "code",
   "execution_count": null,
   "id": "e047849e",
   "metadata": {},
   "outputs": [],
   "source": [
    "#Compile data for boxplot\n",
    "plot_data = [percent_2015[\"Percent Rides Taxi\"], percent_2015[\"Percent Rides FHV\"], percent_2019[\"Percent Rides Taxi\"], percent_2019[\"Percent Rides FHV\"]]\n",
    "\n",
    "#Create boxplot comparing percentage of rides from June 2015 to June 2019\n",
    "plt.boxplot(plot_data, labels = [\"Taxi Rides 2015\", \"FHV Rides 2015\", \"Taxi Rides 2019\", \"FHV Rides 2019\"])\n",
    "\n",
    "plt.title\n",
    "plt.ylabel(\"Percent of Total Rides\")\n",
    "plt.grid()\n",
    "plt.show()"
   ]
  },
  {
   "cell_type": "code",
   "execution_count": null,
   "id": "5e19133a",
   "metadata": {},
   "outputs": [],
   "source": [
    "#T-test comparing change in percent taxi rides\n",
    "stats.ttest_ind(percent_2015[\"Percent Rides Taxi\"], percent_2019[\"Percent Rides Taxi\"], equal_var=False)"
   ]
  },
  {
   "cell_type": "code",
   "execution_count": null,
   "id": "1936c2b7",
   "metadata": {},
   "outputs": [],
   "source": [
    "#T-test comparing change in percent FHV rides\n",
    "stats.ttest_ind(percent_2015[\"Percent Rides FHV\"], percent_2019[\"Percent Rides FHV\"], equal_var=False)"
   ]
  },
  {
   "cell_type": "markdown",
   "id": "6220686b",
   "metadata": {},
   "source": [
    "# Taxi fare pricing"
   ]
  },
  {
   "cell_type": "code",
   "execution_count": null,
   "id": "e6bd92a7",
   "metadata": {},
   "outputs": [],
   "source": [
    "#June 2015 \n",
    "june_15_fare_amount = yt_june_2015_df['fare_amount']\n",
    "june_15_sum = june_15_fare_amount.sum()\n",
    "june_15_mean = june_15_fare_amount.mean()\n",
    "june_15_median = june_15_fare_amount.median()\n",
    "june_15_rows = june_15_fare_amount.count()\n",
    "\n",
    "\n",
    "print(f'The total fare collected in June 2015 is ${june_15_sum}')\n",
    "print(f'The mean fare collected in June 2015 is ${june_15_mean}')\n",
    "print(f'The median fare collected in June 2015 is ${june_15_median}')\n",
    "print(f'The amount of rides in June 2015 is {june_15_rows}')\n",
    "\n",
    "june_2015_df = pd.DataFrame({'Mean': june_15_mean, 'Sum': june_15_sum, 'Median': june_15_median, \n",
    "                             'Total Rides': june_15_rows}, index=[0])\n",
    "june_2015_df"
   ]
  },
  {
   "cell_type": "code",
   "execution_count": null,
   "id": "f2d04b6b",
   "metadata": {},
   "outputs": [],
   "source": [
    "#Dec 2015\n",
    "dec_15_fare_amount = yt_dec_2015_df['fare_amount']\n",
    "dec_15_sum = dec_15_fare_amount.sum()\n",
    "dec_15_mean = dec_15_fare_amount.mean()\n",
    "dec_15_median = dec_15_fare_amount.median()\n",
    "dec_15_rows = dec_15_fare_amount.count()\n",
    "\n",
    "\n",
    "print(f'The total fare collected in Dec 2015 is ${dec_15_sum}')\n",
    "print(f'The mean fare collected in Dec 2015 is ${dec_15_mean}')\n",
    "print(f'The median fare collected in Dec 2015 is ${dec_15_median}')\n",
    "print(f'The amount of rides in Dec 2015 is {dec_15_rows}')\n",
    "\n",
    "dec_2015_df = pd.DataFrame({'Mean': dec_15_mean, 'Sum': dec_15_sum, 'Median': dec_15_median, \n",
    "                             'Total Rides': dec_15_rows}, index=[0])\n",
    "dec_2015_df"
   ]
  },
  {
   "cell_type": "code",
   "execution_count": null,
   "id": "d5a483db",
   "metadata": {},
   "outputs": [],
   "source": [
    "#June 2019\n",
    "fare_amount = yt_june_2019_df['fare_amount']\n",
    "june_sum = fare_amount.sum()\n",
    "june_mean = fare_amount.mean()\n",
    "june_median = fare_amount.median()\n",
    "june_rows = fare_amount.count()\n",
    "\n",
    "\n",
    "print(f'The total fare collected in June 2019 is ${june_sum}')\n",
    "print(f'The mean fare collected in June 2019 is ${june_mean}')\n",
    "print(f'The median fare collected in June 2019 is ${june_median}')\n",
    "print(f'The amount of rides in June 2019 is {june_rows}')\n",
    "\n",
    "june_2019_df = pd.DataFrame({'Mean': june_mean, 'Sum': june_sum, 'Median': june_median, \n",
    "                             'Total Rides': june_rows}, index=[0])\n",
    "june_2019_df"
   ]
  },
  {
   "cell_type": "code",
   "execution_count": null,
   "id": "94d4e5c3",
   "metadata": {},
   "outputs": [],
   "source": [
    "#Dec 2019\n",
    "fare_amount = yt_dec_2019_df['fare_amount']\n",
    "dec_sum = fare_amount.sum()\n",
    "dec_mean = fare_amount.mean()\n",
    "dec_median = fare_amount.median()\n",
    "dec_rows = fare_amount.count()\n",
    "\n",
    "print(f'The total fare collected in Dec 2019 is ${dec_sum}')\n",
    "print(f'The mean fare collected in Dec 2019 is ${dec_mean}')\n",
    "print(f'The median fare collected in Dec 2019 is ${dec_median}')\n",
    "print(f'The amount of rides in Dec 2019 is {dec_rows}')\n",
    "\n",
    "dec_2019_df = pd.DataFrame({'Mean': dec_mean, 'Sum': dec_sum, 'Median': dec_median, \n",
    "                             'Total Rides': dec_rows}, index=[0])\n",
    "dec_2019_df"
   ]
  },
  {
   "cell_type": "code",
   "execution_count": null,
   "id": "ede5ae3c",
   "metadata": {},
   "outputs": [],
   "source": [
    "#inflation line\n",
    "june_inflation = june_15_mean + (june_15_mean * .094)\n",
    "june_inflation\n",
    "\n",
    "dec_inflation = dec_15_mean + (dec_15_mean * .094)\n",
    "dec_inflation\n",
    "\n",
    "print(f'Expected price for June 2019 is ${june_inflation}')\n",
    "print(f'Expected price for Dec 2019 is ${dec_inflation}')"
   ]
  },
  {
   "cell_type": "code",
   "execution_count": null,
   "id": "c87eeea5",
   "metadata": {},
   "outputs": [],
   "source": [
    "#mean line plot\n",
    "x_values = (\"June 2015\", \"Dec 2015\", \"June 2019\", \"Dec 2019\")\n",
    "y_values = (june_15_mean, dec_15_mean, june_mean, dec_mean)\n",
    "plt.plot(x_values, y_values, marker ='o', label=\"Actual Change\")\n",
    "plt.title('Average Fare Price per Month and Year')\n",
    "plt.ylabel('Average Fare Price ($)')\n",
    "plt.xlabel('Month and Year')\n",
    "\n",
    "#inflation line\n",
    "x_values2 = (\"June 2015\", \"Dec 2015\", \"June 2019\", \"Dec 2019\")\n",
    "y_values2 = (june_15_mean, dec_15_mean, june_inflation, dec_inflation)\n",
    "plt.plot(x_values2, y_values2, marker ='o', linestyle='--', label='Inflation Line')\n",
    "plt.grid()\n",
    "plt.ylim([8, 12])\n",
    "plt.legend()"
   ]
  },
  {
   "cell_type": "markdown",
   "id": "25c18a6c",
   "metadata": {},
   "source": [
    "# Ride duration"
   ]
  },
  {
   "cell_type": "code",
   "execution_count": null,
   "id": "f30cfb25",
   "metadata": {},
   "outputs": [],
   "source": []
  },
  {
   "cell_type": "markdown",
   "id": "5236ac11",
   "metadata": {},
   "source": [
    "# Ride times"
   ]
  },
  {
   "cell_type": "code",
   "execution_count": null,
   "id": "3b50c0c3",
   "metadata": {},
   "outputs": [],
   "source": [
    "# Taxi Pick-ups for June 2015\n",
    "# Identify 4 different times of day and count the number of for vehicle rides that occur in each 6 hour interval\n",
    "# yt_june_2015_df\n",
    "\n",
    "yt_morning_june_15_df = yt_june_2015_df.loc[(yt_june_2015_df['pickup_time'] > '05:00:00') & (yt_june_2015_df['pickup_time']<='11:00:00')]\n",
    "yt_june_morn_count = yt_morning_june_15_df.shape[0]\n",
    "\n",
    "yt_day_june_15_df = yt_june_2015_df.loc[(yt_june_2015_df['pickup_time'] > '11:00:00') & (yt_june_2015_df['pickup_time']<='17:00:00')]\n",
    "yt_june_day_count = yt_day_june_15_df.shape[0]\n",
    "\n",
    "yt_evening_june_15_df = yt_june_2015_df.loc[(yt_june_2015_df['pickup_time'] > '17:00:00') & (yt_june_2015_df['pickup_time']<='23:00:00')]\n",
    "yt_june_eve_count = yt_evening_june_15_df.shape[0]\n",
    "\n",
    "yt_late_night_june_15_df = yt_june_2015_df.loc[(yt_june_2015_df['pickup_time'] > '23:00:00')]\n",
    "yt_june_ln_count = yt_late_night_june_15_df.shape[0]\n",
    "\n",
    "yt_later_night_june_15_df = yt_june_2015_df.loc[(yt_june_2015_df['pickup_time'] <= '05:00:00')]\n",
    "yt_june_lrn_count = yt_later_night_june_15_df.shape[0]\n",
    "\n",
    "yt_june_afthrs_count = yt_june_lrn_count + yt_june_ln_count"
   ]
  },
  {
   "cell_type": "code",
   "execution_count": null,
   "id": "8ce1fbe2",
   "metadata": {},
   "outputs": [],
   "source": [
    "# Taxi Pick-ups for December 2015\n",
    "# Identify 4 different times of day and count the number of for vehicle rides that occur in each 6 hour interval\n",
    "# yt_dec_2015_df\n",
    "\n",
    "yt_morning_dec_15_df = yt_dec_2015_df.loc[(yt_dec_2015_df['pickup_time'] > '05:00:00') & (yt_dec_2015_df['pickup_time']<='11:00:00')]\n",
    "yt_dec_morn_count = yt_morning_dec_15_df.shape[0]\n",
    "\n",
    "yt_day_dec_15_df = yt_dec_2015_df.loc[(yt_dec_2015_df['pickup_time'] > '11:00:00') & (yt_dec_2015_df['pickup_time']<='17:00:00')]\n",
    "yt_dec_day_count = yt_day_dec_15_df.shape[0]\n",
    "\n",
    "yt_evening_dec_15_df = yt_dec_2015_df.loc[(yt_dec_2015_df['pickup_time'] > '17:00:00') & (yt_dec_2015_df['pickup_time']<='23:00:00')]\n",
    "yt_dec_eve_count = yt_evening_dec_15_df.shape[0]\n",
    "\n",
    "yt_late_night_dec_15_df = yt_dec_2015_df.loc[(yt_dec_2015_df['pickup_time'] > '23:00:00')]\n",
    "yt_dec_ln_count = yt_late_night_dec_15_df.shape[0]\n",
    "\n",
    "yt_later_night_dec_15_df = yt_dec_2015_df.loc[(yt_dec_2015_df['pickup_time'] <= '05:00:00')]\n",
    "yt_dec_lrn_count = yt_later_night_dec_15_df.shape[0]\n",
    "\n",
    "yt_dec_afthrs_count = yt_dec_lrn_count + yt_dec_ln_count"
   ]
  },
  {
   "cell_type": "code",
   "execution_count": null,
   "id": "22e4069f",
   "metadata": {},
   "outputs": [],
   "source": [
    "# For Hire Vehicles Pick-ups for June 2015\n",
    "# Identify 4 different times of day and count the number of for vehicle rides that occur in each 6 hour interval\n",
    "# fvh_june_2015_df\n",
    "\n",
    "fhv_morning_june_15_df = fhv_june_2015_df.loc[(fhv_june_2015_df['pickup_time'] > '05:00:00') & (fhv_june_2015_df['pickup_time']<='11:00:00')]\n",
    "fhv_june_morn_count = fhv_morning_june_15_df.shape[0]\n",
    "\n",
    "fhv_day_june_15_df = fhv_june_2015_df.loc[(fhv_june_2015_df['pickup_time'] > '11:00:00') & (fhv_june_2015_df['pickup_time']<='17:00:00')]\n",
    "fhv_june_day_count = fhv_day_june_15_df.shape[0]\n",
    "\n",
    "fhv_evening_june_15_df = fhv_june_2015_df.loc[(fhv_june_2015_df['pickup_time'] > '17:00:00') & (fhv_june_2015_df['pickup_time']<='23:00:00')]\n",
    "fhv_june_eve_count = fhv_evening_june_15_df.shape[0]\n",
    "\n",
    "fhv_late_night_june_15_df = fhv_june_2015_df.loc[(fhv_june_2015_df['pickup_time'] > '23:00:00')]\n",
    "fhv_june_ln_count = fhv_late_night_june_15_df.shape[0]\n",
    "\n",
    "fhv_later_night_june_15_df = fhv_june_2015_df.loc[(fhv_june_2015_df['pickup_time'] <= '05:00:00')]\n",
    "fhv_june_lrn_count = fhv_later_night_june_15_df.shape[0]\n",
    "\n",
    "fhv_june_afthrs_count = fhv_june_lrn_count + fhv_june_ln_count"
   ]
  },
  {
   "cell_type": "code",
   "execution_count": null,
   "id": "cae97b9b",
   "metadata": {},
   "outputs": [],
   "source": [
    "# For Hire Vehicles Pick-ups for December 2015\n",
    "# Identify 4 different times of day and count the number of for hire rides that occur in each 6 hour interval\n",
    "# fhv_dec_2015_df\n",
    "\n",
    "fhv_morning_dec_15_df = fhv_dec_2015_df.loc[(fhv_dec_2015_df['pickup_time'] > '05:00:00') & (fhv_dec_2015_df['pickup_time']<='11:00:00')]\n",
    "fhv_dec_morn_count = fhv_morning_dec_15_df.shape[0]\n",
    "\n",
    "fhv_day_dec_15_df = fhv_dec_2015_df.loc[(fhv_dec_2015_df['pickup_time'] > '11:00:00') & (fhv_dec_2015_df['pickup_time']<='17:00:00')]\n",
    "fhv_dec_day_count = fhv_day_dec_15_df.shape[0]\n",
    "\n",
    "fhv_evening_dec_15_df = fhv_dec_2015_df.loc[(fhv_dec_2015_df['pickup_time'] > '17:00:00') & (fhv_dec_2015_df['pickup_time']<='23:00:00')]\n",
    "fhv_dec_eve_count = fhv_evening_dec_15_df.shape[0]\n",
    "\n",
    "fhv_late_night_dec_15_df = fhv_dec_2015_df.loc[(fhv_dec_2015_df['pickup_time'] > '23:00:00')]\n",
    "fhv_dec_ln_count = fhv_late_night_dec_15_df.shape[0]\n",
    "\n",
    "fhv_later_night_dec_15_df = fhv_dec_2015_df.loc[(fhv_dec_2015_df['pickup_time'] <= '05:00:00')]\n",
    "fhv_dec_lrn_count = fhv_later_night_dec_15_df.shape[0]\n",
    "\n",
    "fhv_dec_afthrs_count = fhv_dec_lrn_count + fhv_dec_ln_count"
   ]
  },
  {
   "cell_type": "code",
   "execution_count": null,
   "id": "b90b258d",
   "metadata": {},
   "outputs": [],
   "source": [
    "# High Volume for Hire Vehicles Pick-ups for June 2019\n",
    "# Identify 4 different times of day and count the number of high volume for vehicle rides that occur in each 6 hour interval\n",
    "# hv_june_2019_df\n",
    "\n",
    "hv_morning_june_19_df = hv_june_2019_df.loc[(hv_june_2019_df['pickup_time'] > '05:00:00') & (hv_june_2019_df['pickup_time']<='11:00:00')]\n",
    "hv_june_morn_count = hv_morning_june_19_df.shape[0]\n",
    "\n",
    "hv_day_june_19_df = hv_june_2019_df.loc[(hv_june_2019_df['pickup_time'] > '11:00:00') & (hv_june_2019_df['pickup_time']<='17:00:00')]\n",
    "hv_june_day_count = hv_day_june_19_df.shape[0]\n",
    "\n",
    "hv_evening_june_19_df = hv_june_2019_df.loc[(hv_june_2019_df['pickup_time'] > '17:00:00') & (hv_june_2019_df['pickup_time']<='23:00:00')]\n",
    "hv_june_eve_count = hv_evening_june_19_df.shape[0]\n",
    "\n",
    "hv_late_night_june_19_df = hv_june_2019_df.loc[(hv_june_2019_df['pickup_time'] > '23:00:00')]\n",
    "hv_june_ln_count = hv_late_night_june_19_df.shape[0]\n",
    "\n",
    "hv_later_night_june_19_df = hv_june_2019_df.loc[(hv_june_2019_df['pickup_time'] <= '05:00:00')]\n",
    "hv_june_lrn_count = hv_later_night_june_19_df.shape[0]\n",
    "\n",
    "hv_june_afthrs_count = hv_june_lrn_count + hv_june_ln_count"
   ]
  },
  {
   "cell_type": "code",
   "execution_count": null,
   "id": "6a832af1",
   "metadata": {},
   "outputs": [],
   "source": [
    "# High Volume for Hire Vehicles Pick-ups for December 2019\n",
    "# Identify 4 different times of day and count the number of high volume for vehicle rides that occur in each 6 hour interval\n",
    "# hv_dec_2019_df\n",
    "\n",
    "hv_morning_dec_19_df = hv_dec_2019_df.loc[(hv_dec_2019_df['pickup_time'] > '05:00:00') & (hv_dec_2019_df['pickup_time']<='11:00:00')]\n",
    "hv_dec_morn_count = hv_morning_dec_19_df.shape[0]\n",
    "\n",
    "hv_day_dec_19_df = hv_dec_2019_df.loc[(hv_dec_2019_df['pickup_time'] > '11:00:00') & (hv_dec_2019_df['pickup_time']<='17:00:00')]\n",
    "hv_dec_day_count = hv_day_dec_19_df.shape[0]\n",
    "\n",
    "hv_evening_dec_19_df = hv_dec_2019_df.loc[(hv_dec_2019_df['pickup_time'] > '17:00:00') & (hv_dec_2019_df['pickup_time']<='23:00:00')]\n",
    "hv_dec_eve_count = hv_evening_dec_19_df.shape[0]\n",
    "\n",
    "hv_late_night_dec_19_df = hv_dec_2019_df.loc[(hv_dec_2019_df['pickup_time'] > '23:00:00')]\n",
    "hv_dec_ln_count = hv_late_night_dec_19_df.shape[0]\n",
    "\n",
    "hv_later_night_dec_19_df = hv_dec_2019_df.loc[(hv_dec_2019_df['pickup_time'] <= '05:00:00')]\n",
    "hv_dec_lrn_count = hv_later_night_dec_19_df.shape[0]\n",
    "\n",
    "hv_dec_afthrs_count = hv_dec_lrn_count + hv_dec_ln_count"
   ]
  },
  {
   "cell_type": "code",
   "execution_count": null,
   "id": "2cdf5eb2",
   "metadata": {},
   "outputs": [],
   "source": [
    "# Yellow Taxi Pick-ups for June 2019\n",
    "# Identify 4 different times of day and count the number of taxi rides that occur in each 6 hour interval\n",
    "#yt_dec_2019_df\n",
    "\n",
    "yt_morning_june_19_df = yt_june_2019_df.loc[(yt_june_2019_df['pickup_time'] > '05:00:00') & (yt_june_2019_df['pickup_time']<='11:00:00')]\n",
    "yt_june_morn_count = yt_morning_june_19_df.shape[0]\n",
    "\n",
    "yt_day_june_19_df = yt_june_2019_df.loc[(yt_june_2019_df['pickup_time'] > '11:00:00') & (yt_june_2019_df['pickup_time']<='17:00:00')]\n",
    "yt_june_day_count = yt_day_june_19_df.shape[0]\n",
    "\n",
    "yt_evening_june_19_df = yt_june_2019_df.loc[(yt_june_2019_df['pickup_time'] > '17:00:00') & (yt_june_2019_df['pickup_time']<='23:00:00')]\n",
    "yt_june_eve_count = yt_evening_june_19_df.shape[0]\n",
    "\n",
    "yt_late_night_june_19_df = yt_june_2019_df.loc[(yt_june_2019_df['pickup_time'] > '23:00:00')]\n",
    "yt_june_ln_count = yt_late_night_june_19_df.shape[0]\n",
    "\n",
    "yt_later_night_june_19_df = yt_june_2019_df.loc[(yt_june_2019_df['pickup_time'] <= '05:00:00')]\n",
    "yt_june_lrn_count = yt_later_night_june_19_df.shape[0]\n",
    "\n",
    "yt_june_afthrs_count = yt_june_lrn_count + yt_june_ln_count"
   ]
  },
  {
   "cell_type": "code",
   "execution_count": null,
   "id": "4474fa6b",
   "metadata": {},
   "outputs": [],
   "source": [
    "# Plot bar chart to compare yellow cabs & for hire vehicles in June of 2015\n",
    "\n",
    "fhv_June_2015 = [fhv_june_morn_count, fhv_june_day_count, fhv_june_eve_count, fhv_june_afthrs_count]\n",
    "yt_June_2015 = [yt_june_morn_count, yt_june_day_count, yt_june_eve_count, yt_june_afthrs_count]\n",
    "index = [\"5am-11am\", \"11am-5pm\", \"5pm-11pm\", \"11pm-5am\"]\n",
    "df = pd.DataFrame({'Taxis': yt_June_2015,\n",
    "                   'For Hire': fhv_June_2015}, index=index)\n",
    "\n",
    "df.plot.bar(rot=0)\n",
    "plt.title(\"For Hire vs Taxis in Manhattan - June 2015\")\n",
    "plt.ylabel(\"Number of Pickups\")\n",
    "plt.xlabel(\"Time of Day\")\n",
    "plt.axhline(y = 50000, color = '0', linestyle = 'dashed')\n",
    "\n",
    "# Plot bar chart to compare yellow cabs & for hire vehicles in December of 2015\n",
    "\n",
    "fhv_Dec_2015 = [fhv_dec_morn_count, fhv_dec_day_count, fhv_dec_eve_count, fhv_dec_afthrs_count]\n",
    "yt_Dec_2015 = [yt_dec_morn_count, yt_dec_day_count, yt_dec_eve_count, yt_dec_afthrs_count]\n",
    "index = [\"5am-11am\", \"11am-5pm\", \"5pm-11pm\", \"11pm-5am\"]\n",
    "df = pd.DataFrame({'Taxis': yt_Dec_2015,\n",
    "                   'For Hire': fhv_Dec_2015}, index=index)\n",
    "\n",
    "\n",
    "df.plot.bar(rot=0)\n",
    "plt.title(\"For Hire vs Taxis in Manhattan - December 2015\")\n",
    "plt.ylabel(\"Number of Pickups\")\n",
    "plt.xlabel(\"Time of Day\")\n",
    "plt.axhline(y = 50000, color = '0', linestyle = 'dashed')"
   ]
  },
  {
   "cell_type": "code",
   "execution_count": null,
   "id": "b297c414",
   "metadata": {},
   "outputs": [],
   "source": [
    "# Plot bar chart to compare yellow cabs & high frequency for hire vehicles in June of 2019\n",
    "\n",
    "hv_June_2019 = [hv_june_morn_count, hv_june_day_count, hv_june_eve_count, hv_june_afthrs_count]\n",
    "yt_June_2019 = [yt_june_morn_count, yt_june_day_count, yt_june_eve_count, yt_june_afthrs_count]\n",
    "index = [\"5am-11am\", \"11am-5pm\", \"5pm-11pm\", \"11pm-5am\"]\n",
    "df = pd.DataFrame({'Taxis': yt_June_2019,\n",
    "                   'For Hire': hv_June_2019}, index=index)\n",
    "\n",
    "df.plot.bar(rot=0)\n",
    "plt.title(\"For Hire vs Taxis in Manhattan - June 2019\")\n",
    "plt.ylabel(\"Number of Pickups\")\n",
    "plt.xlabel(\"Time of Day\")\n",
    "plt.axhline(y = 50000, color = '0', linestyle = 'dashed')\n",
    "\n",
    "\n",
    "# Plot bar chart to compare yellow cabs & high frequency for hire vehicles in December of 2019\n",
    "\n",
    "hv_Dec_2019 = [hv_dec_morn_count, hv_dec_day_count, hv_dec_eve_count, hv_dec_afthrs_count]\n",
    "yt_Dec_2019 = [yt_dec_morn_count, yt_dec_day_count, yt_dec_eve_count, yt_dec_afthrs_count]\n",
    "index = [\"5am-11am\", \"11am-5pm\", \"5pm-11pm\", \"11pm-5am\"]\n",
    "df = pd.DataFrame({'Taxis': yt_Dec_2019,\n",
    "                   'For Hire': hv_Dec_2019}, index=index)\n",
    "\n",
    "df.plot.bar(rot=0)\n",
    "plt.title(\"For Hire vs Taxis in Manhattan - December 2019\")\n",
    "plt.ylabel(\"Number of Pickups\")\n",
    "plt.xlabel(\"Time of Day\")\n",
    "plt.axhline(y = 50000, color = '0', linestyle = 'dashed')"
   ]
  },
  {
   "cell_type": "markdown",
   "id": "f80011af",
   "metadata": {},
   "source": [
    "# Pickup locations heatmap"
   ]
  },
  {
   "cell_type": "code",
   "execution_count": null,
   "id": "ccb77e1b",
   "metadata": {},
   "outputs": [],
   "source": [
    "taxi_june_2015 = pd.read_csv(\"../../NYC Taxi & FHV Data/clean_csvs/taxi_june_2015.csv\")"
   ]
  },
  {
   "cell_type": "code",
   "execution_count": null,
   "id": "f6a8308e",
   "metadata": {},
   "outputs": [],
   "source": [
    "locations = taxi_june_2015[[\"pickup_latitude\",\"pickup_longitude\"]]"
   ]
  },
  {
   "cell_type": "code",
   "execution_count": null,
   "id": "479899f7",
   "metadata": {},
   "outputs": [],
   "source": [
    "fig = gmaps.figure()\n",
    "\n",
    "heat_layer = gmaps.heatmap_layer(locations)\n",
    "                                 \n",
    "\n",
    "fig.add_layer(heat_layer)\n",
    "\n",
    "fig"
   ]
  },
  {
   "cell_type": "code",
   "execution_count": null,
   "id": "674d3f48",
   "metadata": {},
   "outputs": [],
   "source": [
    "june_2019_taxi.head()"
   ]
  },
  {
   "cell_type": "code",
   "execution_count": null,
   "id": "35251bce",
   "metadata": {},
   "outputs": [],
   "source": [
    "june_2019_taxi_df = june_2019_taxi.rename(columns={'PULocationID': 'LocationID'})\n",
    "june_2019_taxi_df"
   ]
  },
  {
   "cell_type": "code",
   "execution_count": null,
   "id": "d5059a84",
   "metadata": {},
   "outputs": [],
   "source": [
    "manhattan_zone_locations = pd.read_csv(\"../../../Desktop/NYC Taxi & FHV Data/Manhattan_pickup_loc.csv\")"
   ]
  },
  {
   "cell_type": "code",
   "execution_count": null,
   "id": "43d4b5fb",
   "metadata": {},
   "outputs": [],
   "source": [
    "merged_june_2019_taxi = june_2019_taxi_df.merge(manhattan_zone_locations, how='left', on= \"LocationID\")\n"
   ]
  },
  {
   "cell_type": "code",
   "execution_count": null,
   "id": "900df15c",
   "metadata": {},
   "outputs": [],
   "source": [
    "merged_june_2019_taxi = merged_june_2019_taxi.dropna()\n",
    "merged_june_2019_taxi"
   ]
  },
  {
   "cell_type": "code",
   "execution_count": null,
   "id": "42e0712c",
   "metadata": {},
   "outputs": [],
   "source": [
    "locations = merged_june_2019_taxi[[\"Lat\", \"Long\"]]\n",
    "pickup_rate = merged_june_2019_taxi[\"passenger_count\"].astype(float)"
   ]
  },
  {
   "cell_type": "code",
   "execution_count": null,
   "id": "6eca9d84",
   "metadata": {},
   "outputs": [],
   "source": [
    "taxi_2019_fig = gmaps.figure()\n",
    "\n",
    "# heat_layer = gmaps.heatmap_layer(locations, weights=pickup_rate, \n",
    "#                                  dissipating=True, max_intensity=100,\n",
    "#                                  point_radius = 1)\n",
    "                                 \n",
    "info_box_template = \"\"\"\n",
    "<dl>\n",
    "<dt>Name</dt><dd>{Zone}</dd>\n",
    "<dt>Lat</dt><dd>{Lat}</dd>\n",
    "<dt>Long</dt><dd>{Long}</dd>\n",
    "</dl>\n",
    "\"\"\"\n",
    "\n",
    "pickup_info = [info_box_template.format(**row) for index, row in merged_june_2019_taxi.iterrows()]\n",
    "\n",
    "markers = gmaps.marker_layer(locations, info_box_content = pickup_info)\n",
    "\n",
    "heat_layer = gmaps.heatmap_layer(locations, info_box_content = pickup_info, weights=pickup_rate, \n",
    "                                 dissipating=True, max_intensity=100,\n",
    "                                 point_radius = 1)\n",
    "\n",
    "taxi_2019_fig.add_layer(markers)\n",
    "\n",
    "    \n",
    "taxi_2019_fig.add_layer(heat_layer)\n",
    "\n",
    "taxi_2019_fig"
   ]
  },
  {
   "cell_type": "code",
   "execution_count": null,
   "id": "367011c6",
   "metadata": {},
   "outputs": [],
   "source": []
  },
  {
   "cell_type": "code",
   "execution_count": null,
   "id": "e70d7a18",
   "metadata": {},
   "outputs": [],
   "source": []
  },
  {
   "cell_type": "code",
   "execution_count": null,
   "id": "ad579569",
   "metadata": {},
   "outputs": [],
   "source": []
  }
 ],
 "metadata": {
  "kernelspec": {
   "display_name": "Python 3 (ipykernel)",
   "language": "python",
   "name": "python3"
  },
  "language_info": {
   "codemirror_mode": {
    "name": "ipython",
    "version": 3
   },
   "file_extension": ".py",
   "mimetype": "text/x-python",
   "name": "python",
   "nbconvert_exporter": "python",
   "pygments_lexer": "ipython3",
   "version": "3.9.7"
  }
 },
 "nbformat": 4,
 "nbformat_minor": 5
}
