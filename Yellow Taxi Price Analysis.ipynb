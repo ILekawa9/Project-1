{
 "cells": [
  {
   "cell_type": "code",
   "execution_count": 2,
   "id": "8176ee59",
   "metadata": {},
   "outputs": [],
   "source": [
    "import pandas as pd\n",
    "import numpy as np\n",
    "import matplotlib.pyplot as plt"
   ]
  },
  {
   "cell_type": "markdown",
   "id": "add3ec36",
   "metadata": {},
   "source": [
    "# June 2015"
   ]
  },
  {
   "cell_type": "code",
   "execution_count": 3,
   "id": "426ae89d",
   "metadata": {},
   "outputs": [
    {
     "data": {
      "text/html": [
       "<div>\n",
       "<style scoped>\n",
       "    .dataframe tbody tr th:only-of-type {\n",
       "        vertical-align: middle;\n",
       "    }\n",
       "\n",
       "    .dataframe tbody tr th {\n",
       "        vertical-align: top;\n",
       "    }\n",
       "\n",
       "    .dataframe thead th {\n",
       "        text-align: right;\n",
       "    }\n",
       "</style>\n",
       "<table border=\"1\" class=\"dataframe\">\n",
       "  <thead>\n",
       "    <tr style=\"text-align: right;\">\n",
       "      <th></th>\n",
       "      <th>Unnamed: 0</th>\n",
       "      <th>tpep_pickup_datetime</th>\n",
       "      <th>tpep_dropoff_datetime</th>\n",
       "      <th>passenger_count</th>\n",
       "      <th>trip_distance</th>\n",
       "      <th>pickup_longitude</th>\n",
       "      <th>pickup_latitude</th>\n",
       "      <th>RateCodeID</th>\n",
       "      <th>dropoff_longitude</th>\n",
       "      <th>dropoff_latitude</th>\n",
       "      <th>fare_amount</th>\n",
       "      <th>tip_amount</th>\n",
       "      <th>total_amount</th>\n",
       "      <th>Month</th>\n",
       "    </tr>\n",
       "  </thead>\n",
       "  <tbody>\n",
       "    <tr>\n",
       "      <th>0</th>\n",
       "      <td>20</td>\n",
       "      <td>2015-06-02</td>\n",
       "      <td>2015-06-02 11:34:36</td>\n",
       "      <td>1</td>\n",
       "      <td>3.90</td>\n",
       "      <td>-73.949623</td>\n",
       "      <td>40.772671</td>\n",
       "      <td>1</td>\n",
       "      <td>-73.987640</td>\n",
       "      <td>40.735611</td>\n",
       "      <td>15.5</td>\n",
       "      <td>3.25</td>\n",
       "      <td>19.55</td>\n",
       "      <td>6</td>\n",
       "    </tr>\n",
       "    <tr>\n",
       "      <th>1</th>\n",
       "      <td>34</td>\n",
       "      <td>2015-06-02</td>\n",
       "      <td>2015-06-02 11:28:29</td>\n",
       "      <td>5</td>\n",
       "      <td>0.85</td>\n",
       "      <td>-74.006416</td>\n",
       "      <td>40.733501</td>\n",
       "      <td>1</td>\n",
       "      <td>-73.996292</td>\n",
       "      <td>40.725971</td>\n",
       "      <td>7.0</td>\n",
       "      <td>1.56</td>\n",
       "      <td>9.36</td>\n",
       "      <td>6</td>\n",
       "    </tr>\n",
       "    <tr>\n",
       "      <th>2</th>\n",
       "      <td>40</td>\n",
       "      <td>2015-06-02</td>\n",
       "      <td>2015-06-02 11:25:08</td>\n",
       "      <td>1</td>\n",
       "      <td>0.80</td>\n",
       "      <td>-73.995033</td>\n",
       "      <td>40.725391</td>\n",
       "      <td>1</td>\n",
       "      <td>-73.989548</td>\n",
       "      <td>40.735748</td>\n",
       "      <td>5.5</td>\n",
       "      <td>1.26</td>\n",
       "      <td>7.56</td>\n",
       "      <td>6</td>\n",
       "    </tr>\n",
       "    <tr>\n",
       "      <th>3</th>\n",
       "      <td>43</td>\n",
       "      <td>2015-06-02</td>\n",
       "      <td>2015-06-02 12:02:22</td>\n",
       "      <td>2</td>\n",
       "      <td>5.30</td>\n",
       "      <td>-73.955170</td>\n",
       "      <td>40.788544</td>\n",
       "      <td>1</td>\n",
       "      <td>-74.001060</td>\n",
       "      <td>40.736637</td>\n",
       "      <td>27.0</td>\n",
       "      <td>5.55</td>\n",
       "      <td>33.35</td>\n",
       "      <td>6</td>\n",
       "    </tr>\n",
       "    <tr>\n",
       "      <th>4</th>\n",
       "      <td>47</td>\n",
       "      <td>2015-06-02</td>\n",
       "      <td>2015-06-02 11:26:40</td>\n",
       "      <td>1</td>\n",
       "      <td>0.99</td>\n",
       "      <td>-73.997749</td>\n",
       "      <td>40.730190</td>\n",
       "      <td>1</td>\n",
       "      <td>-73.986282</td>\n",
       "      <td>40.734440</td>\n",
       "      <td>6.0</td>\n",
       "      <td>0.00</td>\n",
       "      <td>6.80</td>\n",
       "      <td>6</td>\n",
       "    </tr>\n",
       "  </tbody>\n",
       "</table>\n",
       "</div>"
      ],
      "text/plain": [
       "   Unnamed: 0 tpep_pickup_datetime tpep_dropoff_datetime  passenger_count  \\\n",
       "0          20           2015-06-02   2015-06-02 11:34:36                1   \n",
       "1          34           2015-06-02   2015-06-02 11:28:29                5   \n",
       "2          40           2015-06-02   2015-06-02 11:25:08                1   \n",
       "3          43           2015-06-02   2015-06-02 12:02:22                2   \n",
       "4          47           2015-06-02   2015-06-02 11:26:40                1   \n",
       "\n",
       "   trip_distance  pickup_longitude  pickup_latitude  RateCodeID  \\\n",
       "0           3.90        -73.949623        40.772671           1   \n",
       "1           0.85        -74.006416        40.733501           1   \n",
       "2           0.80        -73.995033        40.725391           1   \n",
       "3           5.30        -73.955170        40.788544           1   \n",
       "4           0.99        -73.997749        40.730190           1   \n",
       "\n",
       "   dropoff_longitude  dropoff_latitude  fare_amount  tip_amount  total_amount  \\\n",
       "0         -73.987640         40.735611         15.5        3.25         19.55   \n",
       "1         -73.996292         40.725971          7.0        1.56          9.36   \n",
       "2         -73.989548         40.735748          5.5        1.26          7.56   \n",
       "3         -74.001060         40.736637         27.0        5.55         33.35   \n",
       "4         -73.986282         40.734440          6.0        0.00          6.80   \n",
       "\n",
       "   Month  \n",
       "0      6  \n",
       "1      6  \n",
       "2      6  \n",
       "3      6  \n",
       "4      6  "
      ]
     },
     "execution_count": 3,
     "metadata": {},
     "output_type": "execute_result"
    }
   ],
   "source": [
    "yellow_taxi_2015_06 = \"../Desktop/NYC Taxi & FHV Data/taxi_june_2015.csv\"\n",
    "yt_june_2015_df = pd.read_csv(yellow_taxi_2015_06)\n",
    "yt_june_2015_df.head()"
   ]
  },
  {
   "cell_type": "code",
   "execution_count": 4,
   "id": "61b11b87",
   "metadata": {},
   "outputs": [
    {
     "name": "stdout",
     "output_type": "stream",
     "text": [
      "The total fare collected in June 2015 is $12137408.330000002\n",
      "The mean fare collected in June 2015 is $10.512037146420472\n",
      "The median fare collected in June 2015 is $8.5\n",
      "The amount of rides in June 2015 is 1154620\n"
     ]
    },
    {
     "data": {
      "text/html": [
       "<div>\n",
       "<style scoped>\n",
       "    .dataframe tbody tr th:only-of-type {\n",
       "        vertical-align: middle;\n",
       "    }\n",
       "\n",
       "    .dataframe tbody tr th {\n",
       "        vertical-align: top;\n",
       "    }\n",
       "\n",
       "    .dataframe thead th {\n",
       "        text-align: right;\n",
       "    }\n",
       "</style>\n",
       "<table border=\"1\" class=\"dataframe\">\n",
       "  <thead>\n",
       "    <tr style=\"text-align: right;\">\n",
       "      <th></th>\n",
       "      <th>Mean</th>\n",
       "      <th>Sum</th>\n",
       "      <th>Median</th>\n",
       "      <th>Total Rides</th>\n",
       "    </tr>\n",
       "  </thead>\n",
       "  <tbody>\n",
       "    <tr>\n",
       "      <th>0</th>\n",
       "      <td>10.512037</td>\n",
       "      <td>12137408.33</td>\n",
       "      <td>8.5</td>\n",
       "      <td>1154620</td>\n",
       "    </tr>\n",
       "  </tbody>\n",
       "</table>\n",
       "</div>"
      ],
      "text/plain": [
       "        Mean          Sum  Median  Total Rides\n",
       "0  10.512037  12137408.33     8.5      1154620"
      ]
     },
     "execution_count": 4,
     "metadata": {},
     "output_type": "execute_result"
    }
   ],
   "source": [
    "june_15_fare_amount = yt_june_2015_df['fare_amount']\n",
    "june_15_sum = june_15_fare_amount.sum()\n",
    "june_15_mean = june_15_fare_amount.mean()\n",
    "june_15_median = june_15_fare_amount.median()\n",
    "june_15_rows = june_15_fare_amount.count()\n",
    "\n",
    "\n",
    "print(f'The total fare collected in June 2015 is ${june_15_sum}')\n",
    "print(f'The mean fare collected in June 2015 is ${june_15_mean}')\n",
    "print(f'The median fare collected in June 2015 is ${june_15_median}')\n",
    "print(f'The amount of rides in June 2015 is {june_15_rows}')\n",
    "\n",
    "june_2015_df = pd.DataFrame({'Mean': june_15_mean, 'Sum': june_15_sum, 'Median': june_15_median, \n",
    "                             'Total Rides': june_15_rows}, index=[0])\n",
    "june_2015_df"
   ]
  },
  {
   "cell_type": "markdown",
   "id": "c05a44b5",
   "metadata": {},
   "source": [
    "# Dec 2015"
   ]
  },
  {
   "cell_type": "code",
   "execution_count": 5,
   "id": "c3faf295",
   "metadata": {},
   "outputs": [
    {
     "data": {
      "text/html": [
       "<div>\n",
       "<style scoped>\n",
       "    .dataframe tbody tr th:only-of-type {\n",
       "        vertical-align: middle;\n",
       "    }\n",
       "\n",
       "    .dataframe tbody tr th {\n",
       "        vertical-align: top;\n",
       "    }\n",
       "\n",
       "    .dataframe thead th {\n",
       "        text-align: right;\n",
       "    }\n",
       "</style>\n",
       "<table border=\"1\" class=\"dataframe\">\n",
       "  <thead>\n",
       "    <tr style=\"text-align: right;\">\n",
       "      <th></th>\n",
       "      <th>Unnamed: 0</th>\n",
       "      <th>tpep_pickup_datetime</th>\n",
       "      <th>tpep_dropoff_datetime</th>\n",
       "      <th>passenger_count</th>\n",
       "      <th>trip_distance</th>\n",
       "      <th>pickup_longitude</th>\n",
       "      <th>pickup_latitude</th>\n",
       "      <th>RatecodeID</th>\n",
       "      <th>dropoff_longitude</th>\n",
       "      <th>dropoff_latitude</th>\n",
       "      <th>fare_amount</th>\n",
       "      <th>tip_amount</th>\n",
       "      <th>total_amount</th>\n",
       "      <th>Month</th>\n",
       "    </tr>\n",
       "  </thead>\n",
       "  <tbody>\n",
       "    <tr>\n",
       "      <th>0</th>\n",
       "      <td>9</td>\n",
       "      <td>2015-12-01</td>\n",
       "      <td>2015-12-01 00:10:43</td>\n",
       "      <td>2</td>\n",
       "      <td>1.42</td>\n",
       "      <td>-73.999634</td>\n",
       "      <td>40.734772</td>\n",
       "      <td>1</td>\n",
       "      <td>-73.989067</td>\n",
       "      <td>40.723122</td>\n",
       "      <td>8.5</td>\n",
       "      <td>2.45</td>\n",
       "      <td>12.25</td>\n",
       "      <td>12</td>\n",
       "    </tr>\n",
       "    <tr>\n",
       "      <th>1</th>\n",
       "      <td>12</td>\n",
       "      <td>2015-12-01</td>\n",
       "      <td>2015-12-01 00:05:51</td>\n",
       "      <td>1</td>\n",
       "      <td>1.00</td>\n",
       "      <td>-73.995766</td>\n",
       "      <td>40.743790</td>\n",
       "      <td>1</td>\n",
       "      <td>-74.002625</td>\n",
       "      <td>40.730545</td>\n",
       "      <td>6.0</td>\n",
       "      <td>2.15</td>\n",
       "      <td>9.45</td>\n",
       "      <td>12</td>\n",
       "    </tr>\n",
       "    <tr>\n",
       "      <th>2</th>\n",
       "      <td>13</td>\n",
       "      <td>2015-12-01</td>\n",
       "      <td>2015-12-02 00:00:00</td>\n",
       "      <td>1</td>\n",
       "      <td>0.94</td>\n",
       "      <td>-74.005417</td>\n",
       "      <td>40.727283</td>\n",
       "      <td>1</td>\n",
       "      <td>-73.997017</td>\n",
       "      <td>40.725391</td>\n",
       "      <td>5.0</td>\n",
       "      <td>0.00</td>\n",
       "      <td>6.30</td>\n",
       "      <td>12</td>\n",
       "    </tr>\n",
       "    <tr>\n",
       "      <th>3</th>\n",
       "      <td>36</td>\n",
       "      <td>2015-12-01</td>\n",
       "      <td>2015-12-01 00:05:40</td>\n",
       "      <td>1</td>\n",
       "      <td>0.99</td>\n",
       "      <td>-73.996536</td>\n",
       "      <td>40.726871</td>\n",
       "      <td>1</td>\n",
       "      <td>-73.984818</td>\n",
       "      <td>40.732250</td>\n",
       "      <td>6.0</td>\n",
       "      <td>1.46</td>\n",
       "      <td>8.76</td>\n",
       "      <td>12</td>\n",
       "    </tr>\n",
       "    <tr>\n",
       "      <th>4</th>\n",
       "      <td>44</td>\n",
       "      <td>2015-12-01</td>\n",
       "      <td>2015-12-01 00:03:40</td>\n",
       "      <td>1</td>\n",
       "      <td>0.60</td>\n",
       "      <td>-73.979546</td>\n",
       "      <td>40.727444</td>\n",
       "      <td>1</td>\n",
       "      <td>-73.987831</td>\n",
       "      <td>40.723866</td>\n",
       "      <td>4.5</td>\n",
       "      <td>0.00</td>\n",
       "      <td>5.80</td>\n",
       "      <td>12</td>\n",
       "    </tr>\n",
       "  </tbody>\n",
       "</table>\n",
       "</div>"
      ],
      "text/plain": [
       "   Unnamed: 0 tpep_pickup_datetime tpep_dropoff_datetime  passenger_count  \\\n",
       "0           9           2015-12-01   2015-12-01 00:10:43                2   \n",
       "1          12           2015-12-01   2015-12-01 00:05:51                1   \n",
       "2          13           2015-12-01   2015-12-02 00:00:00                1   \n",
       "3          36           2015-12-01   2015-12-01 00:05:40                1   \n",
       "4          44           2015-12-01   2015-12-01 00:03:40                1   \n",
       "\n",
       "   trip_distance  pickup_longitude  pickup_latitude  RatecodeID  \\\n",
       "0           1.42        -73.999634        40.734772           1   \n",
       "1           1.00        -73.995766        40.743790           1   \n",
       "2           0.94        -74.005417        40.727283           1   \n",
       "3           0.99        -73.996536        40.726871           1   \n",
       "4           0.60        -73.979546        40.727444           1   \n",
       "\n",
       "   dropoff_longitude  dropoff_latitude  fare_amount  tip_amount  total_amount  \\\n",
       "0         -73.989067         40.723122          8.5        2.45         12.25   \n",
       "1         -74.002625         40.730545          6.0        2.15          9.45   \n",
       "2         -73.997017         40.725391          5.0        0.00          6.30   \n",
       "3         -73.984818         40.732250          6.0        1.46          8.76   \n",
       "4         -73.987831         40.723866          4.5        0.00          5.80   \n",
       "\n",
       "   Month  \n",
       "0     12  \n",
       "1     12  \n",
       "2     12  \n",
       "3     12  \n",
       "4     12  "
      ]
     },
     "execution_count": 5,
     "metadata": {},
     "output_type": "execute_result"
    }
   ],
   "source": [
    "#Dec 2015\n",
    "yellow_taxi_2015_12 = \"../Desktop/NYC Taxi & FHV Data/taxi_dec_2015.csv\"\n",
    "yt_dec_2015_df = pd.read_csv(yellow_taxi_2015_12)\n",
    "yt_dec_2015_df.head()"
   ]
  },
  {
   "cell_type": "code",
   "execution_count": 6,
   "id": "83a67ea8",
   "metadata": {},
   "outputs": [
    {
     "name": "stdout",
     "output_type": "stream",
     "text": [
      "The total fare collected in June 2015 is $11238941.459999999\n",
      "The mean fare collected in June 2015 is $10.234292169209546\n",
      "The median fare collected in June 2015 is $8.5\n",
      "The amount of rides in June 2015 is 1098165\n"
     ]
    },
    {
     "data": {
      "text/html": [
       "<div>\n",
       "<style scoped>\n",
       "    .dataframe tbody tr th:only-of-type {\n",
       "        vertical-align: middle;\n",
       "    }\n",
       "\n",
       "    .dataframe tbody tr th {\n",
       "        vertical-align: top;\n",
       "    }\n",
       "\n",
       "    .dataframe thead th {\n",
       "        text-align: right;\n",
       "    }\n",
       "</style>\n",
       "<table border=\"1\" class=\"dataframe\">\n",
       "  <thead>\n",
       "    <tr style=\"text-align: right;\">\n",
       "      <th></th>\n",
       "      <th>Mean</th>\n",
       "      <th>Sum</th>\n",
       "      <th>Median</th>\n",
       "      <th>Total Rides</th>\n",
       "    </tr>\n",
       "  </thead>\n",
       "  <tbody>\n",
       "    <tr>\n",
       "      <th>0</th>\n",
       "      <td>10.234292</td>\n",
       "      <td>11238941.46</td>\n",
       "      <td>8.5</td>\n",
       "      <td>1098165</td>\n",
       "    </tr>\n",
       "  </tbody>\n",
       "</table>\n",
       "</div>"
      ],
      "text/plain": [
       "        Mean          Sum  Median  Total Rides\n",
       "0  10.234292  11238941.46     8.5      1098165"
      ]
     },
     "execution_count": 6,
     "metadata": {},
     "output_type": "execute_result"
    }
   ],
   "source": [
    "dec_15_fare_amount = yt_dec_2015_df['fare_amount']\n",
    "dec_15_sum = dec_15_fare_amount.sum()\n",
    "dec_15_mean = dec_15_fare_amount.mean()\n",
    "dec_15_median = dec_15_fare_amount.median()\n",
    "dec_15_rows = dec_15_fare_amount.count()\n",
    "\n",
    "\n",
    "print(f'The total fare collected in June 2015 is ${dec_15_sum}')\n",
    "print(f'The mean fare collected in June 2015 is ${dec_15_mean}')\n",
    "print(f'The median fare collected in June 2015 is ${dec_15_median}')\n",
    "print(f'The amount of rides in June 2015 is {dec_15_rows}')\n",
    "\n",
    "june_2015_df = pd.DataFrame({'Mean': dec_15_mean, 'Sum': dec_15_sum, 'Median': dec_15_median, \n",
    "                             'Total Rides': dec_15_rows}, index=[0])\n",
    "june_2015_df"
   ]
  },
  {
   "cell_type": "markdown",
   "id": "c43cf803",
   "metadata": {},
   "source": [
    "# June 2019"
   ]
  },
  {
   "cell_type": "code",
   "execution_count": 7,
   "id": "d4afbecf",
   "metadata": {},
   "outputs": [],
   "source": [
    "#June 2019"
   ]
  },
  {
   "cell_type": "code",
   "execution_count": 8,
   "id": "f110c4ae",
   "metadata": {},
   "outputs": [
    {
     "data": {
      "text/html": [
       "<div>\n",
       "<style scoped>\n",
       "    .dataframe tbody tr th:only-of-type {\n",
       "        vertical-align: middle;\n",
       "    }\n",
       "\n",
       "    .dataframe tbody tr th {\n",
       "        vertical-align: top;\n",
       "    }\n",
       "\n",
       "    .dataframe thead th {\n",
       "        text-align: right;\n",
       "    }\n",
       "</style>\n",
       "<table border=\"1\" class=\"dataframe\">\n",
       "  <thead>\n",
       "    <tr style=\"text-align: right;\">\n",
       "      <th></th>\n",
       "      <th>Unnamed: 0</th>\n",
       "      <th>tpep_pickup_datetime</th>\n",
       "      <th>tpep_dropoff_datetime</th>\n",
       "      <th>passenger_count</th>\n",
       "      <th>trip_distance</th>\n",
       "      <th>RatecodeID</th>\n",
       "      <th>PULocationID</th>\n",
       "      <th>DOLocationID</th>\n",
       "      <th>fare_amount</th>\n",
       "      <th>tip_amount</th>\n",
       "      <th>total_amount</th>\n",
       "      <th>pickup_date</th>\n",
       "      <th>pickup_time</th>\n",
       "      <th>dropoff_date</th>\n",
       "      <th>dropoff_time</th>\n",
       "    </tr>\n",
       "  </thead>\n",
       "  <tbody>\n",
       "    <tr>\n",
       "      <th>0</th>\n",
       "      <td>1</td>\n",
       "      <td>2019-06-01 00:06:31</td>\n",
       "      <td>2019-06-01 00:06:52</td>\n",
       "      <td>1</td>\n",
       "      <td>0.00</td>\n",
       "      <td>1</td>\n",
       "      <td>262</td>\n",
       "      <td>263</td>\n",
       "      <td>2.5</td>\n",
       "      <td>0.00</td>\n",
       "      <td>6.30</td>\n",
       "      <td>2019-06-01</td>\n",
       "      <td>00:06:31</td>\n",
       "      <td>2019-06-01</td>\n",
       "      <td>00:06:52</td>\n",
       "    </tr>\n",
       "    <tr>\n",
       "      <th>1</th>\n",
       "      <td>78</td>\n",
       "      <td>2019-06-01 00:37:38</td>\n",
       "      <td>2019-06-01 00:41:39</td>\n",
       "      <td>1</td>\n",
       "      <td>0.60</td>\n",
       "      <td>1</td>\n",
       "      <td>237</td>\n",
       "      <td>263</td>\n",
       "      <td>5.0</td>\n",
       "      <td>0.00</td>\n",
       "      <td>8.80</td>\n",
       "      <td>2019-06-01</td>\n",
       "      <td>00:37:38</td>\n",
       "      <td>2019-06-01</td>\n",
       "      <td>00:41:39</td>\n",
       "    </tr>\n",
       "    <tr>\n",
       "      <th>2</th>\n",
       "      <td>92</td>\n",
       "      <td>2019-06-01 00:57:21</td>\n",
       "      <td>2019-06-01 01:12:09</td>\n",
       "      <td>2</td>\n",
       "      <td>3.10</td>\n",
       "      <td>1</td>\n",
       "      <td>230</td>\n",
       "      <td>263</td>\n",
       "      <td>12.5</td>\n",
       "      <td>3.25</td>\n",
       "      <td>19.55</td>\n",
       "      <td>2019-06-01</td>\n",
       "      <td>00:57:21</td>\n",
       "      <td>2019-06-01</td>\n",
       "      <td>01:12:09</td>\n",
       "    </tr>\n",
       "    <tr>\n",
       "      <th>3</th>\n",
       "      <td>128</td>\n",
       "      <td>2019-06-01 00:51:48</td>\n",
       "      <td>2019-06-01 00:59:28</td>\n",
       "      <td>1</td>\n",
       "      <td>1.73</td>\n",
       "      <td>1</td>\n",
       "      <td>141</td>\n",
       "      <td>263</td>\n",
       "      <td>8.0</td>\n",
       "      <td>2.00</td>\n",
       "      <td>13.80</td>\n",
       "      <td>2019-06-01</td>\n",
       "      <td>00:51:48</td>\n",
       "      <td>2019-06-01</td>\n",
       "      <td>00:59:28</td>\n",
       "    </tr>\n",
       "    <tr>\n",
       "      <th>4</th>\n",
       "      <td>141</td>\n",
       "      <td>2019-06-01 00:46:00</td>\n",
       "      <td>2019-06-01 00:48:17</td>\n",
       "      <td>1</td>\n",
       "      <td>0.80</td>\n",
       "      <td>1</td>\n",
       "      <td>263</td>\n",
       "      <td>141</td>\n",
       "      <td>4.5</td>\n",
       "      <td>1.65</td>\n",
       "      <td>9.95</td>\n",
       "      <td>2019-06-01</td>\n",
       "      <td>00:46:00</td>\n",
       "      <td>2019-06-01</td>\n",
       "      <td>00:48:17</td>\n",
       "    </tr>\n",
       "  </tbody>\n",
       "</table>\n",
       "</div>"
      ],
      "text/plain": [
       "   Unnamed: 0 tpep_pickup_datetime tpep_dropoff_datetime  passenger_count  \\\n",
       "0           1  2019-06-01 00:06:31   2019-06-01 00:06:52                1   \n",
       "1          78  2019-06-01 00:37:38   2019-06-01 00:41:39                1   \n",
       "2          92  2019-06-01 00:57:21   2019-06-01 01:12:09                2   \n",
       "3         128  2019-06-01 00:51:48   2019-06-01 00:59:28                1   \n",
       "4         141  2019-06-01 00:46:00   2019-06-01 00:48:17                1   \n",
       "\n",
       "   trip_distance  RatecodeID  PULocationID  DOLocationID  fare_amount  \\\n",
       "0           0.00           1           262           263          2.5   \n",
       "1           0.60           1           237           263          5.0   \n",
       "2           3.10           1           230           263         12.5   \n",
       "3           1.73           1           141           263          8.0   \n",
       "4           0.80           1           263           141          4.5   \n",
       "\n",
       "   tip_amount  total_amount pickup_date pickup_time dropoff_date dropoff_time  \n",
       "0        0.00          6.30  2019-06-01    00:06:31   2019-06-01     00:06:52  \n",
       "1        0.00          8.80  2019-06-01    00:37:38   2019-06-01     00:41:39  \n",
       "2        3.25         19.55  2019-06-01    00:57:21   2019-06-01     01:12:09  \n",
       "3        2.00         13.80  2019-06-01    00:51:48   2019-06-01     00:59:28  \n",
       "4        1.65          9.95  2019-06-01    00:46:00   2019-06-01     00:48:17  "
      ]
     },
     "execution_count": 8,
     "metadata": {},
     "output_type": "execute_result"
    }
   ],
   "source": [
    "#create dataframes\n",
    "yellow_taxi_2019_06 = \"../Desktop/NYC Taxi & FHV Data/taxi_june_2019.csv\"\n",
    "yt_june_2019_df = pd.read_csv(yellow_taxi_2019_06)\n",
    "yt_june_2019_df.head()"
   ]
  },
  {
   "cell_type": "code",
   "execution_count": 9,
   "id": "9b2eab5b",
   "metadata": {},
   "outputs": [
    {
     "name": "stdout",
     "output_type": "stream",
     "text": [
      "The total fare collected in June 2019 is $2516752.63\n",
      "The mean fare collected in June 2019 is $10.508142335233085\n",
      "The median fare collected in June 2019 is $8.5\n",
      "The amount of rides in June 2019 is 239505\n"
     ]
    },
    {
     "data": {
      "text/html": [
       "<div>\n",
       "<style scoped>\n",
       "    .dataframe tbody tr th:only-of-type {\n",
       "        vertical-align: middle;\n",
       "    }\n",
       "\n",
       "    .dataframe tbody tr th {\n",
       "        vertical-align: top;\n",
       "    }\n",
       "\n",
       "    .dataframe thead th {\n",
       "        text-align: right;\n",
       "    }\n",
       "</style>\n",
       "<table border=\"1\" class=\"dataframe\">\n",
       "  <thead>\n",
       "    <tr style=\"text-align: right;\">\n",
       "      <th></th>\n",
       "      <th>Mean</th>\n",
       "      <th>Sum</th>\n",
       "      <th>Median</th>\n",
       "      <th>Total Rides</th>\n",
       "    </tr>\n",
       "  </thead>\n",
       "  <tbody>\n",
       "    <tr>\n",
       "      <th>0</th>\n",
       "      <td>10.508142</td>\n",
       "      <td>2516752.63</td>\n",
       "      <td>8.5</td>\n",
       "      <td>239505</td>\n",
       "    </tr>\n",
       "  </tbody>\n",
       "</table>\n",
       "</div>"
      ],
      "text/plain": [
       "        Mean         Sum  Median  Total Rides\n",
       "0  10.508142  2516752.63     8.5       239505"
      ]
     },
     "execution_count": 9,
     "metadata": {},
     "output_type": "execute_result"
    }
   ],
   "source": [
    "#June 2019 data\n",
    "fare_amount = yt_june_2019_df['fare_amount']\n",
    "june_sum = fare_amount.sum()\n",
    "june_mean = fare_amount.mean()\n",
    "june_median = fare_amount.median()\n",
    "june_rows = fare_amount.count()\n",
    "\n",
    "\n",
    "print(f'The total fare collected in June 2019 is ${june_sum}')\n",
    "print(f'The mean fare collected in June 2019 is ${june_mean}')\n",
    "print(f'The median fare collected in June 2019 is ${june_median}')\n",
    "print(f'The amount of rides in June 2019 is {june_rows}')\n",
    "\n",
    "june_2019_df = pd.DataFrame({'Mean': june_mean, 'Sum': june_sum, 'Median': june_median, \n",
    "                             'Total Rides': june_rows}, index=[0])\n",
    "june_2019_df"
   ]
  },
  {
   "cell_type": "markdown",
   "id": "7a623f50",
   "metadata": {},
   "source": [
    "# Dec 2019"
   ]
  },
  {
   "cell_type": "code",
   "execution_count": 10,
   "id": "cca5f7f9",
   "metadata": {},
   "outputs": [],
   "source": [
    "#Dec 2019"
   ]
  },
  {
   "cell_type": "code",
   "execution_count": 11,
   "id": "3379b122",
   "metadata": {},
   "outputs": [
    {
     "data": {
      "text/html": [
       "<div>\n",
       "<style scoped>\n",
       "    .dataframe tbody tr th:only-of-type {\n",
       "        vertical-align: middle;\n",
       "    }\n",
       "\n",
       "    .dataframe tbody tr th {\n",
       "        vertical-align: top;\n",
       "    }\n",
       "\n",
       "    .dataframe thead th {\n",
       "        text-align: right;\n",
       "    }\n",
       "</style>\n",
       "<table border=\"1\" class=\"dataframe\">\n",
       "  <thead>\n",
       "    <tr style=\"text-align: right;\">\n",
       "      <th></th>\n",
       "      <th>Unnamed: 0</th>\n",
       "      <th>tpep_pickup_datetime</th>\n",
       "      <th>tpep_dropoff_datetime</th>\n",
       "      <th>passenger_count</th>\n",
       "      <th>trip_distance</th>\n",
       "      <th>RatecodeID</th>\n",
       "      <th>PULocationID</th>\n",
       "      <th>DOLocationID</th>\n",
       "      <th>fare_amount</th>\n",
       "      <th>tip_amount</th>\n",
       "      <th>total_amount</th>\n",
       "      <th>pickup_date</th>\n",
       "      <th>pickup_time</th>\n",
       "      <th>dropoff_date</th>\n",
       "      <th>dropoff_time</th>\n",
       "    </tr>\n",
       "  </thead>\n",
       "  <tbody>\n",
       "    <tr>\n",
       "      <th>0</th>\n",
       "      <td>25</td>\n",
       "      <td>2019-12-01 00:10:13</td>\n",
       "      <td>2019-12-01 00:13:30</td>\n",
       "      <td>3.0</td>\n",
       "      <td>1.20</td>\n",
       "      <td>1.0</td>\n",
       "      <td>140</td>\n",
       "      <td>263</td>\n",
       "      <td>5.5</td>\n",
       "      <td>1.85</td>\n",
       "      <td>11.15</td>\n",
       "      <td>2019-12-01</td>\n",
       "      <td>00:10:13</td>\n",
       "      <td>2019-12-01</td>\n",
       "      <td>00:13:30</td>\n",
       "    </tr>\n",
       "    <tr>\n",
       "      <th>1</th>\n",
       "      <td>107</td>\n",
       "      <td>2019-12-01 00:08:57</td>\n",
       "      <td>2019-12-01 00:20:32</td>\n",
       "      <td>2.0</td>\n",
       "      <td>3.10</td>\n",
       "      <td>1.0</td>\n",
       "      <td>48</td>\n",
       "      <td>263</td>\n",
       "      <td>11.5</td>\n",
       "      <td>3.06</td>\n",
       "      <td>18.36</td>\n",
       "      <td>2019-12-01</td>\n",
       "      <td>00:08:57</td>\n",
       "      <td>2019-12-01</td>\n",
       "      <td>00:20:32</td>\n",
       "    </tr>\n",
       "    <tr>\n",
       "      <th>2</th>\n",
       "      <td>116</td>\n",
       "      <td>2019-12-01 00:19:30</td>\n",
       "      <td>2019-12-01 00:32:50</td>\n",
       "      <td>1.0</td>\n",
       "      <td>4.36</td>\n",
       "      <td>1.0</td>\n",
       "      <td>148</td>\n",
       "      <td>263</td>\n",
       "      <td>14.5</td>\n",
       "      <td>2.00</td>\n",
       "      <td>20.30</td>\n",
       "      <td>2019-12-01</td>\n",
       "      <td>00:19:30</td>\n",
       "      <td>2019-12-01</td>\n",
       "      <td>00:32:50</td>\n",
       "    </tr>\n",
       "    <tr>\n",
       "      <th>3</th>\n",
       "      <td>117</td>\n",
       "      <td>2019-12-01 00:02:30</td>\n",
       "      <td>2019-12-01 00:04:37</td>\n",
       "      <td>4.0</td>\n",
       "      <td>0.59</td>\n",
       "      <td>1.0</td>\n",
       "      <td>141</td>\n",
       "      <td>263</td>\n",
       "      <td>4.0</td>\n",
       "      <td>1.56</td>\n",
       "      <td>9.36</td>\n",
       "      <td>2019-12-01</td>\n",
       "      <td>00:02:30</td>\n",
       "      <td>2019-12-01</td>\n",
       "      <td>00:04:37</td>\n",
       "    </tr>\n",
       "    <tr>\n",
       "      <th>4</th>\n",
       "      <td>125</td>\n",
       "      <td>2019-12-01 00:36:40</td>\n",
       "      <td>2019-12-01 00:50:10</td>\n",
       "      <td>1.0</td>\n",
       "      <td>4.40</td>\n",
       "      <td>1.0</td>\n",
       "      <td>264</td>\n",
       "      <td>263</td>\n",
       "      <td>14.5</td>\n",
       "      <td>4.55</td>\n",
       "      <td>22.85</td>\n",
       "      <td>2019-12-01</td>\n",
       "      <td>00:36:40</td>\n",
       "      <td>2019-12-01</td>\n",
       "      <td>00:50:10</td>\n",
       "    </tr>\n",
       "  </tbody>\n",
       "</table>\n",
       "</div>"
      ],
      "text/plain": [
       "   Unnamed: 0 tpep_pickup_datetime tpep_dropoff_datetime  passenger_count  \\\n",
       "0          25  2019-12-01 00:10:13   2019-12-01 00:13:30              3.0   \n",
       "1         107  2019-12-01 00:08:57   2019-12-01 00:20:32              2.0   \n",
       "2         116  2019-12-01 00:19:30   2019-12-01 00:32:50              1.0   \n",
       "3         117  2019-12-01 00:02:30   2019-12-01 00:04:37              4.0   \n",
       "4         125  2019-12-01 00:36:40   2019-12-01 00:50:10              1.0   \n",
       "\n",
       "   trip_distance  RatecodeID  PULocationID  DOLocationID  fare_amount  \\\n",
       "0           1.20         1.0           140           263          5.5   \n",
       "1           3.10         1.0            48           263         11.5   \n",
       "2           4.36         1.0           148           263         14.5   \n",
       "3           0.59         1.0           141           263          4.0   \n",
       "4           4.40         1.0           264           263         14.5   \n",
       "\n",
       "   tip_amount  total_amount pickup_date pickup_time dropoff_date dropoff_time  \n",
       "0        1.85         11.15  2019-12-01    00:10:13   2019-12-01     00:13:30  \n",
       "1        3.06         18.36  2019-12-01    00:08:57   2019-12-01     00:20:32  \n",
       "2        2.00         20.30  2019-12-01    00:19:30   2019-12-01     00:32:50  \n",
       "3        1.56          9.36  2019-12-01    00:02:30   2019-12-01     00:04:37  \n",
       "4        4.55         22.85  2019-12-01    00:36:40   2019-12-01     00:50:10  "
      ]
     },
     "execution_count": 11,
     "metadata": {},
     "output_type": "execute_result"
    }
   ],
   "source": [
    "#create dataframes\n",
    "yellow_taxi_2019_12 = \"../Desktop/NYC Taxi & FHV Data/taxi_dec_2019.csv\"\n",
    "yt_dec_2019_df = pd.read_csv(yellow_taxi_2019_12)\n",
    "yt_dec_2019_df.head()"
   ]
  },
  {
   "cell_type": "code",
   "execution_count": 12,
   "id": "91429f1d",
   "metadata": {},
   "outputs": [
    {
     "name": "stdout",
     "output_type": "stream",
     "text": [
      "The total fare collected in Dec 2019 is $2587931.3000000003\n",
      "The mean fare collected in Dec 2019 is $10.313030708780655\n",
      "The median fare collected in Dec 2019 is $8.0\n",
      "The amount of rides in Dec 2019 is 250938\n"
     ]
    },
    {
     "data": {
      "text/html": [
       "<div>\n",
       "<style scoped>\n",
       "    .dataframe tbody tr th:only-of-type {\n",
       "        vertical-align: middle;\n",
       "    }\n",
       "\n",
       "    .dataframe tbody tr th {\n",
       "        vertical-align: top;\n",
       "    }\n",
       "\n",
       "    .dataframe thead th {\n",
       "        text-align: right;\n",
       "    }\n",
       "</style>\n",
       "<table border=\"1\" class=\"dataframe\">\n",
       "  <thead>\n",
       "    <tr style=\"text-align: right;\">\n",
       "      <th></th>\n",
       "      <th>Mean</th>\n",
       "      <th>Sum</th>\n",
       "      <th>Median</th>\n",
       "      <th>Total Rides</th>\n",
       "    </tr>\n",
       "  </thead>\n",
       "  <tbody>\n",
       "    <tr>\n",
       "      <th>0</th>\n",
       "      <td>10.313031</td>\n",
       "      <td>2587931.3</td>\n",
       "      <td>8.0</td>\n",
       "      <td>250938</td>\n",
       "    </tr>\n",
       "  </tbody>\n",
       "</table>\n",
       "</div>"
      ],
      "text/plain": [
       "        Mean        Sum  Median  Total Rides\n",
       "0  10.313031  2587931.3     8.0       250938"
      ]
     },
     "execution_count": 12,
     "metadata": {},
     "output_type": "execute_result"
    }
   ],
   "source": [
    "#dec 2019 data data\n",
    "fare_amount = yt_dec_2019_df['fare_amount']\n",
    "dec_sum = fare_amount.sum()\n",
    "dec_mean = fare_amount.mean()\n",
    "dec_median = fare_amount.median()\n",
    "dec_rows = fare_amount.count()\n",
    "\n",
    "print(f'The total fare collected in Dec 2019 is ${dec_sum}')\n",
    "print(f'The mean fare collected in Dec 2019 is ${dec_mean}')\n",
    "print(f'The median fare collected in Dec 2019 is ${dec_median}')\n",
    "print(f'The amount of rides in Dec 2019 is {dec_rows}')\n",
    "\n",
    "dex_2019_df = pd.DataFrame({'Mean': dec_mean, 'Sum': dec_sum, 'Median': dec_median, \n",
    "                             'Total Rides': dec_rows}, index=[0])\n",
    "dex_2019_df"
   ]
  },
  {
   "cell_type": "markdown",
   "id": "43d88260",
   "metadata": {},
   "source": [
    "# Inflation Line"
   ]
  },
  {
   "cell_type": "code",
   "execution_count": 21,
   "id": "0baa05f9",
   "metadata": {},
   "outputs": [
    {
     "data": {
      "text/plain": [
       "11.196315633115244"
      ]
     },
     "execution_count": 21,
     "metadata": {},
     "output_type": "execute_result"
    }
   ],
   "source": [
    "#find expected inflation values\n",
    "june_inflation = june_15_mean + (june_15_mean * .094)\n",
    "june_inflation\n",
    "\n",
    "dec_inflation = dec_15_mean + (dec_15_mean * .094)\n",
    "dec_inflation"
   ]
  },
  {
   "cell_type": "markdown",
   "id": "cfec8b42",
   "metadata": {},
   "source": [
    "# Graphs"
   ]
  },
  {
   "cell_type": "code",
   "execution_count": 14,
   "id": "fd24acb3",
   "metadata": {},
   "outputs": [
    {
     "data": {
      "text/plain": [
       "Text(0.5, 0, 'Month and Year')"
      ]
     },
     "execution_count": 14,
     "metadata": {},
     "output_type": "execute_result"
    },
    {
     "data": {
      "image/png": "[encoded data removed]",
      "text/plain": [
       "<Figure size 432x288 with 1 Axes>"
      ]
     },
     "metadata": {
      "needs_background": "light"
     },
     "output_type": "display_data"
    }
   ],
   "source": [
    "#sum line plot\n",
    "x_values = (\"June 2015\", \"Dec 2015\", \"June 2019\", \"Dec 2019\")\n",
    "y_values = (june_15_sum, dec_15_sum, june_sum, dec_sum)\n",
    "plt.plot(x_values, y_values, marker ='o')\n",
    "plt.title('Total Sales in Millions per Month and Year')\n",
    "plt.ylabel('Total Sales in Millions ($)')\n",
    "plt.xlabel('Month and Year')"
   ]
  },
  {
   "cell_type": "code",
   "execution_count": 53,
   "id": "c25c0931",
   "metadata": {},
   "outputs": [
    {
     "data": {
      "text/plain": [
       "<matplotlib.legend.Legend at 0x7f910d12cb50>"
      ]
     },
     "execution_count": 53,
     "metadata": {},
     "output_type": "execute_result"
    },
    {
     "data": {
      "image/png": "[encoded data removed]",
      "text/plain": [
       "<Figure size 432x288 with 1 Axes>"
      ]
     },
     "metadata": {
      "needs_background": "light"
     },
     "output_type": "display_data"
    }
   ],
   "source": [
    "#mean line plot\n",
    "x_values = (\"June 2015\", \"Dec 2015\", \"June 2019\", \"Dec 2019\")\n",
    "y_values = (june_15_mean, dec_15_mean, june_mean, dec_mean)\n",
    "plt.plot(x_values, y_values, marker ='o', label=\"Actual Increase\")\n",
    "plt.title('Average Fare Price per Month and Year')\n",
    "plt.ylabel('Average Fare Price ($)')\n",
    "plt.xlabel('Month and Year')\n",
    "\n",
    "#inflation line\n",
    "x_values2 = (\"June 2015\", \"Dec 2015\", \"June 2019\", \"Dec 2019\")\n",
    "y_values2 = (june_15_mean, dec_15_mean, june_inflation, dec_inflation)\n",
    "plt.plot(x_values2, y_values2, marker ='o', linestyle='--', label='Inflation Line')\n",
    "plt.grid()\n",
    "plt.ylim([8, 12])\n",
    "plt.legend()"
   ]
  },
  {
   "cell_type": "code",
   "execution_count": 16,
   "id": "93fd22bb",
   "metadata": {},
   "outputs": [
    {
     "data": {
      "text/plain": [
       "Text(0.5, 0, 'Month and Year')"
      ]
     },
     "execution_count": 16,
     "metadata": {},
     "output_type": "execute_result"
    },
    {
     "data": {
      "image/png": "[encoded data removed]",
      "text/plain": [
       "<Figure size 432x288 with 1 Axes>"
      ]
     },
     "metadata": {
      "needs_background": "light"
     },
     "output_type": "display_data"
    }
   ],
   "source": [
    "#median line plot\n",
    "x_values = (\"June 2015\", \"Dec 2015\", \"June 2019\", \"Dec 2019\")\n",
    "y_values = (june_15_median, dec_15_median, june_median, dec_median)\n",
    "plt.plot(x_values, y_values, marker ='o')\n",
    "plt.title('Median Fare Price per Month and Year')\n",
    "plt.ylabel('Median Fare Price ($)')\n",
    "plt.xlabel('Month and Year')"
   ]
  },
  {
   "cell_type": "code",
   "execution_count": 17,
   "id": "6c301d9f",
   "metadata": {},
   "outputs": [
    {
     "data": {
      "text/plain": [
       "Text(0.5, 0, 'Month and Year')"
      ]
     },
     "execution_count": 17,
     "metadata": {},
     "output_type": "execute_result"
    },
    {
     "data": {
      "image/png": "[encoded data removed]",
      "text/plain": [
       "<Figure size 432x288 with 1 Axes>"
      ]
     },
     "metadata": {
      "needs_background": "light"
     },
     "output_type": "display_data"
    }
   ],
   "source": [
    "#total rides\n",
    "x_values = (\"June 2015\", \"Dec 2015\", \"June 2019\", \"Dec 2019\")\n",
    "y_values = (june_15_rows, dec_15_rows, june_rows, dec_rows)\n",
    "plt.plot(x_values, y_values, marker ='o')\n",
    "plt.title('Total Rides per Month and Year')\n",
    "plt.ylabel('Total Rides')\n",
    "plt.xlabel('Month and Year')"
   ]
  },
  {
   "cell_type": "code",
   "execution_count": 18,
   "id": "a7686208",
   "metadata": {},
   "outputs": [],
   "source": [
    "# #inflation \n",
    "# average of 2.35% inflation per year\n",
    "# 2.35 x 4 = 9.4\n",
    "# inflation of around 9.4% from 2015-2019\n",
    "# account for this when comparing price increase\n",
    "# find actual percentage price increase and compare for inflation\n",
    "# create a graph that shows how much it should have increased compared to how much it did"
   ]
  },
  {
   "cell_type": "code",
   "execution_count": 19,
   "id": "67cdae74",
   "metadata": {},
   "outputs": [],
   "source": [
    "#compare population increase for total ride difference\n",
    "#2015- 1.63 million Sources include: United States Census Bureau\n",
    "#2019- 1.632 million Sources include: United States Census Bureau\n",
    "#population remained steady\n"
   ]
  }
 ],
 "metadata": {
  "kernelspec": {
   "display_name": "Python 3 (ipykernel)",
   "language": "python",
   "name": "python3"
  },
  "language_info": {
   "codemirror_mode": {
    "name": "ipython",
    "version": 3
   },
   "file_extension": ".py",
   "mimetype": "text/x-python",
   "name": "python",
   "nbconvert_exporter": "python",
   "pygments_lexer": "ipython3",
   "version": "3.9.7"
  }
 },
 "nbformat": 4,
 "nbformat_minor": 5
}
