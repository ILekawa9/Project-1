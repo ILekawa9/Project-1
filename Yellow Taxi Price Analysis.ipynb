{
 "cells": [
  {
   "cell_type": "code",
   "execution_count": 1,
   "id": "8176ee59",
   "metadata": {},
   "outputs": [],
   "source": [
    "import pandas as pd\n",
    "import numpy as np\n",
    "import matplotlib.pyplot as plt"
   ]
  },
  {
   "cell_type": "code",
   "execution_count": 2,
   "id": "d4afbecf",
   "metadata": {},
   "outputs": [],
   "source": [
    "#June 2019"
   ]
  },
  {
   "cell_type": "code",
   "execution_count": 4,
   "id": "f110c4ae",
   "metadata": {},
   "outputs": [
    {
     "data": {
      "text/html": [
       "<div>\n",
       "<style scoped>\n",
       "    .dataframe tbody tr th:only-of-type {\n",
       "        vertical-align: middle;\n",
       "    }\n",
       "\n",
       "    .dataframe tbody tr th {\n",
       "        vertical-align: top;\n",
       "    }\n",
       "\n",
       "    .dataframe thead th {\n",
       "        text-align: right;\n",
       "    }\n",
       "</style>\n",
       "<table border=\"1\" class=\"dataframe\">\n",
       "  <thead>\n",
       "    <tr style=\"text-align: right;\">\n",
       "      <th></th>\n",
       "      <th>Unnamed: 0</th>\n",
       "      <th>tpep_pickup_datetime</th>\n",
       "      <th>tpep_dropoff_datetime</th>\n",
       "      <th>passenger_count</th>\n",
       "      <th>trip_distance</th>\n",
       "      <th>RatecodeID</th>\n",
       "      <th>PULocationID</th>\n",
       "      <th>DOLocationID</th>\n",
       "      <th>fare_amount</th>\n",
       "      <th>tip_amount</th>\n",
       "      <th>total_amount</th>\n",
       "      <th>pickup_date</th>\n",
       "      <th>pickup_time</th>\n",
       "      <th>dropoff_date</th>\n",
       "      <th>dropoff_time</th>\n",
       "    </tr>\n",
       "  </thead>\n",
       "  <tbody>\n",
       "    <tr>\n",
       "      <th>0</th>\n",
       "      <td>1</td>\n",
       "      <td>2019-06-01 00:06:31</td>\n",
       "      <td>2019-06-01 00:06:52</td>\n",
       "      <td>1</td>\n",
       "      <td>0.00</td>\n",
       "      <td>1</td>\n",
       "      <td>262</td>\n",
       "      <td>263</td>\n",
       "      <td>2.5</td>\n",
       "      <td>0.00</td>\n",
       "      <td>6.30</td>\n",
       "      <td>2019-06-01</td>\n",
       "      <td>00:06:31</td>\n",
       "      <td>2019-06-01</td>\n",
       "      <td>00:06:52</td>\n",
       "    </tr>\n",
       "    <tr>\n",
       "      <th>1</th>\n",
       "      <td>78</td>\n",
       "      <td>2019-06-01 00:37:38</td>\n",
       "      <td>2019-06-01 00:41:39</td>\n",
       "      <td>1</td>\n",
       "      <td>0.60</td>\n",
       "      <td>1</td>\n",
       "      <td>237</td>\n",
       "      <td>263</td>\n",
       "      <td>5.0</td>\n",
       "      <td>0.00</td>\n",
       "      <td>8.80</td>\n",
       "      <td>2019-06-01</td>\n",
       "      <td>00:37:38</td>\n",
       "      <td>2019-06-01</td>\n",
       "      <td>00:41:39</td>\n",
       "    </tr>\n",
       "    <tr>\n",
       "      <th>2</th>\n",
       "      <td>92</td>\n",
       "      <td>2019-06-01 00:57:21</td>\n",
       "      <td>2019-06-01 01:12:09</td>\n",
       "      <td>2</td>\n",
       "      <td>3.10</td>\n",
       "      <td>1</td>\n",
       "      <td>230</td>\n",
       "      <td>263</td>\n",
       "      <td>12.5</td>\n",
       "      <td>3.25</td>\n",
       "      <td>19.55</td>\n",
       "      <td>2019-06-01</td>\n",
       "      <td>00:57:21</td>\n",
       "      <td>2019-06-01</td>\n",
       "      <td>01:12:09</td>\n",
       "    </tr>\n",
       "    <tr>\n",
       "      <th>3</th>\n",
       "      <td>128</td>\n",
       "      <td>2019-06-01 00:51:48</td>\n",
       "      <td>2019-06-01 00:59:28</td>\n",
       "      <td>1</td>\n",
       "      <td>1.73</td>\n",
       "      <td>1</td>\n",
       "      <td>141</td>\n",
       "      <td>263</td>\n",
       "      <td>8.0</td>\n",
       "      <td>2.00</td>\n",
       "      <td>13.80</td>\n",
       "      <td>2019-06-01</td>\n",
       "      <td>00:51:48</td>\n",
       "      <td>2019-06-01</td>\n",
       "      <td>00:59:28</td>\n",
       "    </tr>\n",
       "    <tr>\n",
       "      <th>4</th>\n",
       "      <td>141</td>\n",
       "      <td>2019-06-01 00:46:00</td>\n",
       "      <td>2019-06-01 00:48:17</td>\n",
       "      <td>1</td>\n",
       "      <td>0.80</td>\n",
       "      <td>1</td>\n",
       "      <td>263</td>\n",
       "      <td>141</td>\n",
       "      <td>4.5</td>\n",
       "      <td>1.65</td>\n",
       "      <td>9.95</td>\n",
       "      <td>2019-06-01</td>\n",
       "      <td>00:46:00</td>\n",
       "      <td>2019-06-01</td>\n",
       "      <td>00:48:17</td>\n",
       "    </tr>\n",
       "  </tbody>\n",
       "</table>\n",
       "</div>"
      ],
      "text/plain": [
       "   Unnamed: 0 tpep_pickup_datetime tpep_dropoff_datetime  passenger_count  \\\n",
       "0           1  2019-06-01 00:06:31   2019-06-01 00:06:52                1   \n",
       "1          78  2019-06-01 00:37:38   2019-06-01 00:41:39                1   \n",
       "2          92  2019-06-01 00:57:21   2019-06-01 01:12:09                2   \n",
       "3         128  2019-06-01 00:51:48   2019-06-01 00:59:28                1   \n",
       "4         141  2019-06-01 00:46:00   2019-06-01 00:48:17                1   \n",
       "\n",
       "   trip_distance  RatecodeID  PULocationID  DOLocationID  fare_amount  \\\n",
       "0           0.00           1           262           263          2.5   \n",
       "1           0.60           1           237           263          5.0   \n",
       "2           3.10           1           230           263         12.5   \n",
       "3           1.73           1           141           263          8.0   \n",
       "4           0.80           1           263           141          4.5   \n",
       "\n",
       "   tip_amount  total_amount pickup_date pickup_time dropoff_date dropoff_time  \n",
       "0        0.00          6.30  2019-06-01    00:06:31   2019-06-01     00:06:52  \n",
       "1        0.00          8.80  2019-06-01    00:37:38   2019-06-01     00:41:39  \n",
       "2        3.25         19.55  2019-06-01    00:57:21   2019-06-01     01:12:09  \n",
       "3        2.00         13.80  2019-06-01    00:51:48   2019-06-01     00:59:28  \n",
       "4        1.65          9.95  2019-06-01    00:46:00   2019-06-01     00:48:17  "
      ]
     },
     "execution_count": 4,
     "metadata": {},
     "output_type": "execute_result"
    }
   ],
   "source": [
    "#create dataframes\n",
    "yellow_taxi_2019_06 = \"../Desktop/NYC Taxi & FHV Data/taxi_june_2019.csv\"\n",
    "yt_june_2019_df = pd.read_csv(yellow_taxi_2019_06)\n",
    "yt_june_2019_df.head()"
   ]
  },
  {
   "cell_type": "code",
   "execution_count": 33,
   "id": "9b2eab5b",
   "metadata": {},
   "outputs": [
    {
     "name": "stdout",
     "output_type": "stream",
     "text": [
      "The total fare collected in June 2019 is $2516752.63\n",
      "The mean fare collected in June 2019 is $10.508142335233085\n",
      "The median fare collected in June 2019 is $8.5\n",
      "The amount of rides in June 2019 is 239505\n"
     ]
    },
    {
     "data": {
      "text/html": [
       "<div>\n",
       "<style scoped>\n",
       "    .dataframe tbody tr th:only-of-type {\n",
       "        vertical-align: middle;\n",
       "    }\n",
       "\n",
       "    .dataframe tbody tr th {\n",
       "        vertical-align: top;\n",
       "    }\n",
       "\n",
       "    .dataframe thead th {\n",
       "        text-align: right;\n",
       "    }\n",
       "</style>\n",
       "<table border=\"1\" class=\"dataframe\">\n",
       "  <thead>\n",
       "    <tr style=\"text-align: right;\">\n",
       "      <th></th>\n",
       "      <th>Mean</th>\n",
       "      <th>Sum</th>\n",
       "      <th>Median</th>\n",
       "      <th>Total Rides</th>\n",
       "    </tr>\n",
       "  </thead>\n",
       "  <tbody>\n",
       "    <tr>\n",
       "      <th>0</th>\n",
       "      <td>10.508142</td>\n",
       "      <td>2516752.63</td>\n",
       "      <td>8.5</td>\n",
       "      <td>239505</td>\n",
       "    </tr>\n",
       "  </tbody>\n",
       "</table>\n",
       "</div>"
      ],
      "text/plain": [
       "        Mean         Sum  Median  Total Rides\n",
       "0  10.508142  2516752.63     8.5       239505"
      ]
     },
     "execution_count": 33,
     "metadata": {},
     "output_type": "execute_result"
    }
   ],
   "source": [
    "#find values\n",
    "fare_amount = yt_june_2019_df['fare_amount']\n",
    "june_sum = fare_amount.sum()\n",
    "june_mean = fare_amount.mean()\n",
    "june_median = fare_amount.median()\n",
    "june_rows = fare_amount.count()\n",
    "\n",
    "\n",
    "print(f'The total fare collected in June 2019 is ${june_sum}')\n",
    "print(f'The mean fare collected in June 2019 is ${june_mean}')\n",
    "print(f'The median fare collected in June 2019 is ${june_median}')\n",
    "print(f'The amount of rides in June 2019 is {june_rows}')\n",
    "\n",
    "june_2019_df = pd.DataFrame({'Mean': june_mean, 'Sum': june_sum, 'Median': june_median, \n",
    "                             'Total Rides': june_rows}, index=[0])\n",
    "june_2019_df"
   ]
  },
  {
   "cell_type": "code",
   "execution_count": null,
   "id": "0ee8cdcb",
   "metadata": {},
   "outputs": [],
   "source": []
  },
  {
   "cell_type": "code",
   "execution_count": null,
   "id": "cca5f7f9",
   "metadata": {},
   "outputs": [],
   "source": [
    "#Dec 2019"
   ]
  },
  {
   "cell_type": "code",
   "execution_count": 6,
   "id": "3379b122",
   "metadata": {},
   "outputs": [
    {
     "data": {
      "text/html": [
       "<div>\n",
       "<style scoped>\n",
       "    .dataframe tbody tr th:only-of-type {\n",
       "        vertical-align: middle;\n",
       "    }\n",
       "\n",
       "    .dataframe tbody tr th {\n",
       "        vertical-align: top;\n",
       "    }\n",
       "\n",
       "    .dataframe thead th {\n",
       "        text-align: right;\n",
       "    }\n",
       "</style>\n",
       "<table border=\"1\" class=\"dataframe\">\n",
       "  <thead>\n",
       "    <tr style=\"text-align: right;\">\n",
       "      <th></th>\n",
       "      <th>Unnamed: 0</th>\n",
       "      <th>tpep_pickup_datetime</th>\n",
       "      <th>tpep_dropoff_datetime</th>\n",
       "      <th>passenger_count</th>\n",
       "      <th>trip_distance</th>\n",
       "      <th>RatecodeID</th>\n",
       "      <th>PULocationID</th>\n",
       "      <th>DOLocationID</th>\n",
       "      <th>fare_amount</th>\n",
       "      <th>tip_amount</th>\n",
       "      <th>total_amount</th>\n",
       "      <th>pickup_date</th>\n",
       "      <th>pickup_time</th>\n",
       "      <th>dropoff_date</th>\n",
       "      <th>dropoff_time</th>\n",
       "    </tr>\n",
       "  </thead>\n",
       "  <tbody>\n",
       "    <tr>\n",
       "      <th>0</th>\n",
       "      <td>25</td>\n",
       "      <td>2019-12-01 00:10:13</td>\n",
       "      <td>2019-12-01 00:13:30</td>\n",
       "      <td>3.0</td>\n",
       "      <td>1.20</td>\n",
       "      <td>1.0</td>\n",
       "      <td>140</td>\n",
       "      <td>263</td>\n",
       "      <td>5.5</td>\n",
       "      <td>1.85</td>\n",
       "      <td>11.15</td>\n",
       "      <td>2019-12-01</td>\n",
       "      <td>00:10:13</td>\n",
       "      <td>2019-12-01</td>\n",
       "      <td>00:13:30</td>\n",
       "    </tr>\n",
       "    <tr>\n",
       "      <th>1</th>\n",
       "      <td>107</td>\n",
       "      <td>2019-12-01 00:08:57</td>\n",
       "      <td>2019-12-01 00:20:32</td>\n",
       "      <td>2.0</td>\n",
       "      <td>3.10</td>\n",
       "      <td>1.0</td>\n",
       "      <td>48</td>\n",
       "      <td>263</td>\n",
       "      <td>11.5</td>\n",
       "      <td>3.06</td>\n",
       "      <td>18.36</td>\n",
       "      <td>2019-12-01</td>\n",
       "      <td>00:08:57</td>\n",
       "      <td>2019-12-01</td>\n",
       "      <td>00:20:32</td>\n",
       "    </tr>\n",
       "    <tr>\n",
       "      <th>2</th>\n",
       "      <td>116</td>\n",
       "      <td>2019-12-01 00:19:30</td>\n",
       "      <td>2019-12-01 00:32:50</td>\n",
       "      <td>1.0</td>\n",
       "      <td>4.36</td>\n",
       "      <td>1.0</td>\n",
       "      <td>148</td>\n",
       "      <td>263</td>\n",
       "      <td>14.5</td>\n",
       "      <td>2.00</td>\n",
       "      <td>20.30</td>\n",
       "      <td>2019-12-01</td>\n",
       "      <td>00:19:30</td>\n",
       "      <td>2019-12-01</td>\n",
       "      <td>00:32:50</td>\n",
       "    </tr>\n",
       "    <tr>\n",
       "      <th>3</th>\n",
       "      <td>117</td>\n",
       "      <td>2019-12-01 00:02:30</td>\n",
       "      <td>2019-12-01 00:04:37</td>\n",
       "      <td>4.0</td>\n",
       "      <td>0.59</td>\n",
       "      <td>1.0</td>\n",
       "      <td>141</td>\n",
       "      <td>263</td>\n",
       "      <td>4.0</td>\n",
       "      <td>1.56</td>\n",
       "      <td>9.36</td>\n",
       "      <td>2019-12-01</td>\n",
       "      <td>00:02:30</td>\n",
       "      <td>2019-12-01</td>\n",
       "      <td>00:04:37</td>\n",
       "    </tr>\n",
       "    <tr>\n",
       "      <th>4</th>\n",
       "      <td>125</td>\n",
       "      <td>2019-12-01 00:36:40</td>\n",
       "      <td>2019-12-01 00:50:10</td>\n",
       "      <td>1.0</td>\n",
       "      <td>4.40</td>\n",
       "      <td>1.0</td>\n",
       "      <td>264</td>\n",
       "      <td>263</td>\n",
       "      <td>14.5</td>\n",
       "      <td>4.55</td>\n",
       "      <td>22.85</td>\n",
       "      <td>2019-12-01</td>\n",
       "      <td>00:36:40</td>\n",
       "      <td>2019-12-01</td>\n",
       "      <td>00:50:10</td>\n",
       "    </tr>\n",
       "  </tbody>\n",
       "</table>\n",
       "</div>"
      ],
      "text/plain": [
       "   Unnamed: 0 tpep_pickup_datetime tpep_dropoff_datetime  passenger_count  \\\n",
       "0          25  2019-12-01 00:10:13   2019-12-01 00:13:30              3.0   \n",
       "1         107  2019-12-01 00:08:57   2019-12-01 00:20:32              2.0   \n",
       "2         116  2019-12-01 00:19:30   2019-12-01 00:32:50              1.0   \n",
       "3         117  2019-12-01 00:02:30   2019-12-01 00:04:37              4.0   \n",
       "4         125  2019-12-01 00:36:40   2019-12-01 00:50:10              1.0   \n",
       "\n",
       "   trip_distance  RatecodeID  PULocationID  DOLocationID  fare_amount  \\\n",
       "0           1.20         1.0           140           263          5.5   \n",
       "1           3.10         1.0            48           263         11.5   \n",
       "2           4.36         1.0           148           263         14.5   \n",
       "3           0.59         1.0           141           263          4.0   \n",
       "4           4.40         1.0           264           263         14.5   \n",
       "\n",
       "   tip_amount  total_amount pickup_date pickup_time dropoff_date dropoff_time  \n",
       "0        1.85         11.15  2019-12-01    00:10:13   2019-12-01     00:13:30  \n",
       "1        3.06         18.36  2019-12-01    00:08:57   2019-12-01     00:20:32  \n",
       "2        2.00         20.30  2019-12-01    00:19:30   2019-12-01     00:32:50  \n",
       "3        1.56          9.36  2019-12-01    00:02:30   2019-12-01     00:04:37  \n",
       "4        4.55         22.85  2019-12-01    00:36:40   2019-12-01     00:50:10  "
      ]
     },
     "execution_count": 6,
     "metadata": {},
     "output_type": "execute_result"
    }
   ],
   "source": [
    "#create dataframes\n",
    "yellow_taxi_2019_12 = \"../Desktop/NYC Taxi & FHV Data/taxi_dec_2019.csv\"\n",
    "yt_dec_2019_df = pd.read_csv(yellow_taxi_2019_12)\n",
    "yt_dec_2019_df.head()"
   ]
  },
  {
   "cell_type": "code",
   "execution_count": 32,
   "id": "91429f1d",
   "metadata": {},
   "outputs": [
    {
     "name": "stdout",
     "output_type": "stream",
     "text": [
      "The total fare collected in June 2019 is $2587931.3000000003\n",
      "The mean fare collected in June 2019 is $10.313030708780655\n",
      "The median fare collected in June 2019 is $8.0\n",
      "The amount of rides in June 2019 is 250938\n"
     ]
    },
    {
     "data": {
      "text/html": [
       "<div>\n",
       "<style scoped>\n",
       "    .dataframe tbody tr th:only-of-type {\n",
       "        vertical-align: middle;\n",
       "    }\n",
       "\n",
       "    .dataframe tbody tr th {\n",
       "        vertical-align: top;\n",
       "    }\n",
       "\n",
       "    .dataframe thead th {\n",
       "        text-align: right;\n",
       "    }\n",
       "</style>\n",
       "<table border=\"1\" class=\"dataframe\">\n",
       "  <thead>\n",
       "    <tr style=\"text-align: right;\">\n",
       "      <th></th>\n",
       "      <th>Mean</th>\n",
       "      <th>Sum</th>\n",
       "      <th>Median</th>\n",
       "      <th>Total Rides</th>\n",
       "    </tr>\n",
       "  </thead>\n",
       "  <tbody>\n",
       "    <tr>\n",
       "      <th>0</th>\n",
       "      <td>10.313031</td>\n",
       "      <td>2587931.3</td>\n",
       "      <td>8.0</td>\n",
       "      <td>250938</td>\n",
       "    </tr>\n",
       "  </tbody>\n",
       "</table>\n",
       "</div>"
      ],
      "text/plain": [
       "        Mean        Sum  Median  Total Rides\n",
       "0  10.313031  2587931.3     8.0       250938"
      ]
     },
     "execution_count": 32,
     "metadata": {},
     "output_type": "execute_result"
    }
   ],
   "source": [
    "#find data\n",
    "fare_amount = yt_dec_2019_df['fare_amount']\n",
    "dec_sum = fare_amount.sum()\n",
    "dec_mean = fare_amount.mean()\n",
    "dec_median = fare_amount.median()\n",
    "dec_rows = fare_amount.count()\n",
    "\n",
    "print(f'The total fare collected in June 2019 is ${dec_sum}')\n",
    "print(f'The mean fare collected in June 2019 is ${dec_mean}')\n",
    "print(f'The median fare collected in June 2019 is ${dec_median}')\n",
    "print(f'The amount of rides in June 2019 is {dec_rows}')\n",
    "\n",
    "dex_2019_df = pd.DataFrame({'Mean': dec_mean, 'Sum': dec_sum, 'Median': dec_median, \n",
    "                             'Total Rides': dec_rows}, index=[0])\n",
    "dex_2019_df"
   ]
  },
  {
   "cell_type": "code",
   "execution_count": 37,
   "id": "fd24acb3",
   "metadata": {},
   "outputs": [
    {
     "data": {
      "text/plain": [
       "Text(0.5, 0, 'Month and Year')"
      ]
     },
     "execution_count": 37,
     "metadata": {},
     "output_type": "execute_result"
    },
    {
     "data": {
      "image/png": "[encoded data removed]",
      "text/plain": [
       "<Figure size 432x288 with 1 Axes>"
      ]
     },
     "metadata": {
      "needs_background": "light"
     },
     "output_type": "display_data"
    }
   ],
   "source": [
    "#sum line plot\n",
    "x_values = (\"June 2015\", \"Dec 2015\", \"June 2019\", \"Dec 2019\")\n",
    "y_values = (2500000, 300000, june_sum, dec_sum)\n",
    "plt.plot(x_values, y_values, marker ='o')\n",
    "plt.title('Total Sales in Millions per Month and Year')\n",
    "plt.ylabel('Total Sales in Millions ($)')\n",
    "plt.xlabel('Month and Year')"
   ]
  },
  {
   "cell_type": "code",
   "execution_count": 38,
   "id": "c25c0931",
   "metadata": {},
   "outputs": [
    {
     "data": {
      "text/plain": [
       "Text(0.5, 0, 'Month and Year')"
      ]
     },
     "execution_count": 38,
     "metadata": {},
     "output_type": "execute_result"
    },
    {
     "data": {
      "image/png": "[encoded data removed]",
      "text/plain": [
       "<Figure size 432x288 with 1 Axes>"
      ]
     },
     "metadata": {
      "needs_background": "light"
     },
     "output_type": "display_data"
    }
   ],
   "source": [
    "#mean line plot\n",
    "x_values = (\"June 2015\", \"Dec 2015\", \"June 2019\", \"Dec 2019\")\n",
    "y_values = (10, 11, june_mean, dec_mean)\n",
    "plt.plot(x_values, y_values, marker ='o')\n",
    "plt.title('Average Fare Price per Month and Year')\n",
    "plt.ylabel('Average Fare Price ($)')\n",
    "plt.xlabel('Month and Year')"
   ]
  },
  {
   "cell_type": "code",
   "execution_count": 39,
   "id": "93fd22bb",
   "metadata": {},
   "outputs": [
    {
     "data": {
      "text/plain": [
       "Text(0.5, 0, 'Month and Year')"
      ]
     },
     "execution_count": 39,
     "metadata": {},
     "output_type": "execute_result"
    },
    {
     "data": {
      "image/png": "[encoded data removed]",
      "text/plain": [
       "<Figure size 432x288 with 1 Axes>"
      ]
     },
     "metadata": {
      "needs_background": "light"
     },
     "output_type": "display_data"
    }
   ],
   "source": [
    "#median line plot\n",
    "x_values = (\"June 2015\", \"Dec 2015\", \"June 2019\", \"Dec 2019\")\n",
    "y_values = (9, 8, june_median, dec_median)\n",
    "plt.plot(x_values, y_values, marker ='o')\n",
    "plt.title('Median Fare Price per Month and Year')\n",
    "plt.ylabel('Median Fare Price ($)')\n",
    "plt.xlabel('Month and Year')"
   ]
  },
  {
   "cell_type": "code",
   "execution_count": 34,
   "id": "6c301d9f",
   "metadata": {},
   "outputs": [
    {
     "data": {
      "text/plain": [
       "Text(0.5, 0, 'Month and Year')"
      ]
     },
     "execution_count": 34,
     "metadata": {},
     "output_type": "execute_result"
    },
    {
     "data": {
      "image/png": "[encoded data removed]",
      "text/plain": [
       "<Figure size 432x288 with 1 Axes>"
      ]
     },
     "metadata": {
      "needs_background": "light"
     },
     "output_type": "display_data"
    }
   ],
   "source": [
    "#total rides\n",
    "x_values = (\"June 2015\", \"Dec 2015\", \"June 2019\", \"Dec 2019\")\n",
    "y_values = (100000, 110000, june_rows, dec_rows)\n",
    "plt.plot(x_values, y_values, marker ='o')\n",
    "plt.title('Total Rides per Month and Year')\n",
    "plt.ylabel('Total Rides')\n",
    "plt.xlabel('Month and Year')"
   ]
  },
  {
   "cell_type": "code",
   "execution_count": 41,
   "id": "a7686208",
   "metadata": {},
   "outputs": [],
   "source": [
    "# #inflation \n",
    "# average of 2.35% inflation per year\n",
    "# 2.35 x 4 = 9.4\n",
    "# inflation of around 9.4% from 2015-2019\n",
    "# account for this when comparing price increase\n",
    "# find actual percentage price increase and compare for inflation\n",
    "# create a graph that shows how much it should have increased compared to how much it did"
   ]
  },
  {
   "cell_type": "code",
   "execution_count": null,
   "id": "67cdae74",
   "metadata": {},
   "outputs": [],
   "source": [
    "#compare population increase for total ride difference\n",
    "#2015- 1.63 million Sources include: United States Census Bureau\n",
    "#2019- 1.632 million Sources include: United States Census Bureau\n",
    "#population remained steady\n"
   ]
  }
 ],
 "metadata": {
  "kernelspec": {
   "display_name": "Python 3 (ipykernel)",
   "language": "python",
   "name": "python3"
  },
  "language_info": {
   "codemirror_mode": {
    "name": "ipython",
    "version": 3
   },
   "file_extension": ".py",
   "mimetype": "text/x-python",
   "name": "python",
   "nbconvert_exporter": "python",
   "pygments_lexer": "ipython3",
   "version": "3.9.7"
  }
 },
 "nbformat": 4,
 "nbformat_minor": 5
}
